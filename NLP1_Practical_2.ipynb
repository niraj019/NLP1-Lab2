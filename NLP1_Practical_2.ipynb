{
  "nbformat": 4,
  "nbformat_minor": 0,
  "metadata": {
    "colab": {
      "name": "NLP1 Practical II_no_early_stopping",
      "version": "0.3.2",
      "provenance": [],
      "collapsed_sections": []
    },
    "kernelspec": {
      "name": "python3",
      "display_name": "Python 3"
    },
    "accelerator": "GPU"
  },
  "cells": [
    {
      "metadata": {
        "id": "jILqpPLlE9r0",
        "colab_type": "text"
      },
      "cell_type": "markdown",
      "source": [
        "# Practical 2: Encoding Sentences with Neural Models"
      ]
    },
    {
      "metadata": {
        "id": "8JXOZ5uhQ8Qq",
        "colab_type": "text"
      },
      "cell_type": "markdown",
      "source": [
        "In this practical we will train neural models to encode sentences, after which we can use our sentence representation for a downstream task such as sentiment classification. Rather than simply answering questions, like in the previous lab, **this time you are expected to write a four-page scientific report with your findings**. You will be judged by the quality of your report (see below). In this notebook, we will help you to develop models for your experiments. You do not have to hand in your answers, but please do include a link to a private Github gist with your code in your report as a footnote. \n",
        "\n",
        "### Data set\n",
        "We will make use of the [Stanford Sentiment Treebank](https://nlp.stanford.edu/sentiment/) (SST), which provides sentences, their tree structure, and (fine-grained) sentiment scores.\n",
        "This dataset is different from the one we used in the first practical. \n",
        "Before, a review consisted of several sentences, and we would have one sentiment score for it. Now, a review is a single sentence, for which we get a sentiment score. The special thing about our new data set is that we get a binary parse tree for each sentence, and a sentiment score has been assigned to each node in the tree. (We will look at an example below.)\n",
        "\n",
        "For the first part of this practical we will only make use of the tokens, but in the end we will also exploit the tree-structure that is provided!\n",
        "\n",
        "We will cover the following approaches:\n",
        "\n",
        "- Bag-of-words (BOW)\n",
        "- Continuous bag-of-words (CBOW)\n",
        "- Deep continuous bag-of-words (Deep CBOW)\n",
        "- LSTM\n",
        "- TreeLSTM\n"
      ]
    },
    {
      "metadata": {
        "id": "bSmmXQoC8ebA",
        "colab_type": "text"
      },
      "cell_type": "markdown",
      "source": [
        "### Important: Report \n",
        "\n",
        "The main purpose of this lab is for you to learn how to answer research questions by experimenting and then writing a scientific report.\n",
        "Your grade will be based on the quality of your report, not on the exercises in this notebook.\n",
        "You can find the requirements for the report at the end of this notebook."
      ]
    },
    {
      "metadata": {
        "id": "YbNKef3lymaj",
        "colab_type": "text"
      },
      "cell_type": "markdown",
      "source": [
        "## Preparing the data"
      ]
    },
    {
      "metadata": {
        "id": "9jxTkpg59FlU",
        "colab_type": "text"
      },
      "cell_type": "markdown",
      "source": [
        "Let's first download the data set and take a look."
      ]
    },
    {
      "metadata": {
        "id": "WZp53HmMP3F2",
        "colab_type": "code",
        "colab": {}
      },
      "cell_type": "code",
      "source": [
        "import re\n",
        "import random\n",
        "import time\n",
        "import math\n",
        "import numpy as np\n",
        "import nltk\n",
        "import matplotlib.pyplot as plt\n",
        "plt.style.use('default')"
      ],
      "execution_count": 0,
      "outputs": []
    },
    {
      "metadata": {
        "id": "TovFkDTgE_d6",
        "colab_type": "code",
        "outputId": "13c1bbda-b7dc-4682-ab06-911cd1f63997",
        "colab": {
          "base_uri": "https://localhost:8080/",
          "height": 357
        }
      },
      "cell_type": "code",
      "source": [
        "!wget http://nlp.stanford.edu/sentiment/trainDevTestTrees_PTB.zip\n",
        "!unzip trainDevTestTrees_PTB.zip"
      ],
      "execution_count": 0,
      "outputs": [
        {
          "output_type": "stream",
          "text": [
            "--2018-12-16 15:23:28--  http://nlp.stanford.edu/sentiment/trainDevTestTrees_PTB.zip\n",
            "Resolving nlp.stanford.edu (nlp.stanford.edu)... 171.64.67.140\n",
            "Connecting to nlp.stanford.edu (nlp.stanford.edu)|171.64.67.140|:80... connected.\n",
            "HTTP request sent, awaiting response... 302 Found\n",
            "Location: https://nlp.stanford.edu/sentiment/trainDevTestTrees_PTB.zip [following]\n",
            "--2018-12-16 15:23:29--  https://nlp.stanford.edu/sentiment/trainDevTestTrees_PTB.zip\n",
            "Connecting to nlp.stanford.edu (nlp.stanford.edu)|171.64.67.140|:443... connected.\n",
            "HTTP request sent, awaiting response... 200 OK\n",
            "Length: 789539 (771K) [application/zip]\n",
            "Saving to: ‘trainDevTestTrees_PTB.zip’\n",
            "\n",
            "trainDevTestTrees_P 100%[===================>] 771.03K   567KB/s    in 1.4s    \n",
            "\n",
            "2018-12-16 15:23:31 (567 KB/s) - ‘trainDevTestTrees_PTB.zip’ saved [789539/789539]\n",
            "\n",
            "Archive:  trainDevTestTrees_PTB.zip\n",
            "   creating: trees/\n",
            "  inflating: trees/dev.txt           \n",
            "  inflating: trees/test.txt          \n",
            "  inflating: trees/train.txt         \n"
          ],
          "name": "stdout"
        }
      ]
    },
    {
      "metadata": {
        "id": "0IpAphkBO5eW",
        "colab_type": "code",
        "colab": {}
      },
      "cell_type": "code",
      "source": [
        "# this function reads in a textfile and fixes an issue with \\\\\n",
        "def filereader(path): \n",
        "  with open(path, mode=\"r\", encoding=\"utf-8\") as f:\n",
        "    for line in f:\n",
        "      yield line.strip().replace(\"\\\\\",\"\")"
      ],
      "execution_count": 0,
      "outputs": []
    },
    {
      "metadata": {
        "id": "ylkIopm0QJML",
        "colab_type": "code",
        "outputId": "95f0ef29-0784-4f09-fe71-3bc6d13adf4e",
        "colab": {
          "base_uri": "https://localhost:8080/",
          "height": 54
        }
      },
      "cell_type": "code",
      "source": [
        "# Let's look at a data point.\n",
        "# If you look closely you will find that this is a flattened tree, \n",
        "# with sentiment scores at every node, and words as the leaves.\n",
        "s = next(filereader(\"trees/dev.txt\"))\n",
        "print(s)"
      ],
      "execution_count": 0,
      "outputs": [
        {
          "output_type": "stream",
          "text": [
            "(3 (2 It) (4 (4 (2 's) (4 (3 (2 a) (4 (3 lovely) (2 film))) (3 (2 with) (4 (3 (3 lovely) (2 performances)) (2 (2 by) (2 (2 (2 Buy) (2 and)) (2 Accorsi))))))) (2 .)))\n"
          ],
          "name": "stdout"
        }
      ]
    },
    {
      "metadata": {
        "id": "7_U7HTFwdrWt",
        "colab_type": "code",
        "outputId": "230dba12-22d1-47a1-8ac8-02806013b2a6",
        "colab": {
          "base_uri": "https://localhost:8080/",
          "height": 391
        }
      },
      "cell_type": "code",
      "source": [
        "# We can use NLTK to print the tree structure more nicely\n",
        "from nltk import Tree\n",
        "from nltk.treeprettyprinter import TreePrettyPrinter\n",
        "tree = Tree.fromstring(s)\n",
        "print(TreePrettyPrinter(tree))"
      ],
      "execution_count": 0,
      "outputs": [
        {
          "output_type": "stream",
          "text": [
            "              3                                                                     \n",
            "  ____________|____________________                                                  \n",
            " |                                 4                                                \n",
            " |        _________________________|______________________________________________   \n",
            " |       4                                                                        | \n",
            " |    ___|______________                                                          |  \n",
            " |   |                  4                                                         | \n",
            " |   |         _________|__________                                               |  \n",
            " |   |        |                    3                                              | \n",
            " |   |        |               _____|______________________                        |  \n",
            " |   |        |              |                            4                       | \n",
            " |   |        |              |            ________________|_______                |  \n",
            " |   |        |              |           |                        2               | \n",
            " |   |        |              |           |                 _______|___            |  \n",
            " |   |        3              |           |                |           2           | \n",
            " |   |    ____|_____         |           |                |        ___|_____      |  \n",
            " |   |   |          4        |           3                |       2         |     | \n",
            " |   |   |     _____|___     |      _____|_______         |    ___|___      |     |  \n",
            " 2   2   2    3         2    2     3             2        2   2       2     2     2 \n",
            " |   |   |    |         |    |     |             |        |   |       |     |     |  \n",
            " It  's  a  lovely     film with lovely     performances  by Buy     and Accorsi  . \n",
            "\n"
          ],
          "name": "stdout"
        }
      ]
    },
    {
      "metadata": {
        "id": "ekAWKsji9t93",
        "colab_type": "text"
      },
      "cell_type": "markdown",
      "source": [
        "You can see the sentiment annotations here **at every node**! 0 is very negative, 4 is very positive. For now, we will only use the sentiment score at the **root node**; this is the score for the complete sentence."
      ]
    },
    {
      "metadata": {
        "id": "DKynLm0xPKr2",
        "colab_type": "code",
        "outputId": "6202dfa2-43cc-4790-c686-9cdee6e94cc9",
        "colab": {
          "base_uri": "https://localhost:8080/",
          "height": 51
        }
      },
      "cell_type": "code",
      "source": [
        "# Let's first make a function that extracts the tokens (the leaves).\n",
        "\n",
        "def tokens_from_treestring(s):\n",
        "  \"\"\"extract the tokens from a sentiment tree\"\"\"\n",
        "  return re.sub(r\"\\([0-9] |\\)\", \"\", s).split()\n",
        " \n",
        "# let's try it on our example tree\n",
        "tokens = tokens_from_treestring(s)\n",
        "print(tokens)\n",
        "print(len(tokens))"
      ],
      "execution_count": 0,
      "outputs": [
        {
          "output_type": "stream",
          "text": [
            "['It', \"'s\", 'a', 'lovely', 'film', 'with', 'lovely', 'performances', 'by', 'Buy', 'and', 'Accorsi', '.']\n",
            "13\n"
          ],
          "name": "stdout"
        }
      ]
    },
    {
      "metadata": {
        "id": "B8vFkeqN-NLP",
        "colab_type": "text"
      },
      "cell_type": "markdown",
      "source": [
        "> *Warning: you could also parse a treestring using NLTK and ask it to return the leaves, but there seems to be an issue with NLTK not always correctly parsing the input, so do not rely on it.*"
      ]
    },
    {
      "metadata": {
        "id": "Akr9K_Mv4dym",
        "colab_type": "code",
        "colab": {}
      },
      "cell_type": "code",
      "source": [
        "# We will also need the following function, but you can ignore this for now.\n",
        "# It is explained later on.\n",
        "\n",
        "SHIFT = 0\n",
        "REDUCE = 1\n",
        "\n",
        "\n",
        "def transitions_from_treestring(s):\n",
        "  s = re.sub(\"\\([0-5] ([^)]+)\\)\", \"0\", s)\n",
        "  s = re.sub(\"\\)\", \" )\", s)\n",
        "  s = re.sub(\"\\([0-4] \", \"\", s)\n",
        "  s = re.sub(\"\\([0-4] \", \"\", s)\n",
        "  s = re.sub(\"\\)\", \"1\", s)\n",
        "  return list(map(int, s.split()))"
      ],
      "execution_count": 0,
      "outputs": []
    },
    {
      "metadata": {
        "id": "mNtPdlwPgRat",
        "colab_type": "code",
        "outputId": "eca5357e-e4f0-4fd0-8d73-21cdd5313e8a",
        "colab": {
          "base_uri": "https://localhost:8080/",
          "height": 68
        }
      },
      "cell_type": "code",
      "source": [
        "# Now let's first see how large our data sets are.\n",
        "for path in (\"trees/train.txt\", \"trees/dev.txt\", \"trees/test.txt\"):\n",
        "  print(\"{:16s} {:4d}\".format(path, sum(1 for _ in filereader(path))))"
      ],
      "execution_count": 0,
      "outputs": [
        {
          "output_type": "stream",
          "text": [
            "trees/train.txt  8544\n",
            "trees/dev.txt    1101\n",
            "trees/test.txt   2210\n"
          ],
          "name": "stdout"
        }
      ]
    },
    {
      "metadata": {
        "id": "HexlSqTR_UrY",
        "colab_type": "text"
      },
      "cell_type": "markdown",
      "source": [
        "You can see that this data set is not very large! That's probably because it required so much manual annotation. However, it's large enough to train a neural network on.\n",
        "\n",
        "It will be useful to store each data example in an `Example` object,\n",
        "containing everything that we may need for each data point.\n",
        "It will contain the tokens, the tree, the top-level sentiment label, and \n",
        "the transitions (explained later)."
      ]
    },
    {
      "metadata": {
        "id": "4I07Hb_-q8wg",
        "colab_type": "code",
        "outputId": "92cfb0d2-d0ff-45cf-de91-7a26fdb1add6",
        "colab": {
          "base_uri": "https://localhost:8080/",
          "height": 68
        }
      },
      "cell_type": "code",
      "source": [
        "from collections import namedtuple\n",
        "from nltk import Tree\n",
        "\n",
        "# A simple way to define a class is using namedtuple.\n",
        "Example = namedtuple(\"Example\", [\"tokens\", \"tree\", \"label\", \"transitions\"])\n",
        "\n",
        "   \n",
        "def examplereader(path, lower=False):\n",
        "  \"\"\"Returns all examples in a file one by one.\"\"\"\n",
        "  for line in filereader(path):\n",
        "    line = line.lower() if lower else line\n",
        "    tokens = tokens_from_treestring(line)\n",
        "    tree = Tree.fromstring(line)  # use NLTK's Tree\n",
        "    label = int(line[1])\n",
        "    trans = transitions_from_treestring(line)\n",
        "    yield Example(tokens=tokens, tree=tree, label=label, transitions=trans)\n",
        "  \n",
        "\n",
        "# Let's load the data into memory.\n",
        "LOWER = False  # we will keep the original casing\n",
        "train_data = list(examplereader(\"trees/train.txt\", lower=LOWER))\n",
        "dev_data = list(examplereader(\"trees/dev.txt\", lower=LOWER))\n",
        "test_data = list(examplereader(\"trees/test.txt\", lower=LOWER))\n",
        "\n",
        "print(\"train\", len(train_data))\n",
        "print(\"dev\", len(dev_data))\n",
        "print(\"test\", len(test_data))"
      ],
      "execution_count": 0,
      "outputs": [
        {
          "output_type": "stream",
          "text": [
            "train 8544\n",
            "dev 1101\n",
            "test 2210\n"
          ],
          "name": "stdout"
        }
      ]
    },
    {
      "metadata": {
        "id": "6KM0bDyeVZtP",
        "colab_type": "text"
      },
      "cell_type": "markdown",
      "source": [
        "Let's check out an example object."
      ]
    },
    {
      "metadata": {
        "id": "J8mwcaZwxP1c",
        "colab_type": "code",
        "outputId": "d7bb5359-77f7-4864-eee6-61d0207848a2",
        "colab": {
          "base_uri": "https://localhost:8080/",
          "height": 88
        }
      },
      "cell_type": "code",
      "source": [
        "example = dev_data[0]\n",
        "print(\"First train example:\", example)\n",
        "print(\"First train example tokens:\", example.tokens)\n",
        "print(\"First train example label:\",  example.label)"
      ],
      "execution_count": 0,
      "outputs": [
        {
          "output_type": "stream",
          "text": [
            "First train example: Example(tokens=['It', \"'s\", 'a', 'lovely', 'film', 'with', 'lovely', 'performances', 'by', 'Buy', 'and', 'Accorsi', '.'], tree=Tree('3', [Tree('2', ['It']), Tree('4', [Tree('4', [Tree('2', [\"'s\"]), Tree('4', [Tree('3', [Tree('2', ['a']), Tree('4', [Tree('3', ['lovely']), Tree('2', ['film'])])]), Tree('3', [Tree('2', ['with']), Tree('4', [Tree('3', [Tree('3', ['lovely']), Tree('2', ['performances'])]), Tree('2', [Tree('2', ['by']), Tree('2', [Tree('2', [Tree('2', ['Buy']), Tree('2', ['and'])]), Tree('2', ['Accorsi'])])])])])])]), Tree('2', ['.'])])]), label=3, transitions=[0, 0, 0, 0, 0, 1, 1, 0, 0, 0, 1, 0, 0, 0, 1, 0, 1, 1, 1, 1, 1, 1, 0, 1, 1])\n",
            "First train example tokens: ['It', \"'s\", 'a', 'lovely', 'film', 'with', 'lovely', 'performances', 'by', 'Buy', 'and', 'Accorsi', '.']\n",
            "First train example label: 3\n"
          ],
          "name": "stdout"
        }
      ]
    },
    {
      "metadata": {
        "id": "-WDSprDBVcr-",
        "colab_type": "text"
      },
      "cell_type": "markdown",
      "source": [
        "#### Vocabulary \n",
        "To work with this data we will need a vocabulary.\n",
        "The job of the vocabulary is to map each word to a unique ID.\n"
      ]
    },
    {
      "metadata": {
        "id": "VvNgKx7usRSt",
        "colab_type": "code",
        "colab": {}
      },
      "cell_type": "code",
      "source": [
        "# Here we first define a class that can map a word to an ID (w2i)\n",
        "# and back (i2w).\n",
        "\n",
        "from collections import Counter, OrderedDict, defaultdict\n",
        "\n",
        "\n",
        "class OrderedCounter(Counter, OrderedDict):\n",
        "  \"\"\"Counter that remembers the order elements are first seen\"\"\"\n",
        "  def __repr__(self):\n",
        "    return '%s(%r)' % (self.__class__.__name__,\n",
        "                      OrderedDict(self))\n",
        "  def __reduce__(self):\n",
        "    return self.__class__, (OrderedDict(self),)\n",
        "\n",
        "\n",
        "class Vocabulary:\n",
        "  \"\"\"A vocabulary, assigns IDs to tokens\"\"\"\n",
        "  \n",
        "  def __init__(self):\n",
        "    self.freqs = OrderedCounter()\n",
        "    self.w2i = {}\n",
        "    self.i2w = []\n",
        "\n",
        "  def count_token(self, t):\n",
        "    self.freqs[t] += 1\n",
        "    \n",
        "  def add_token(self, t):\n",
        "    self.w2i[t] = len(self.w2i)\n",
        "    self.i2w.append(t)    \n",
        "    \n",
        "  def build(self, min_freq=0):\n",
        "    self.add_token(\"<unk>\")  # reserve 0 for <unk> (unknown words)\n",
        "    self.add_token(\"<pad>\")  # reserve 1 for <pad> (discussed later)   \n",
        "    \n",
        "    tok_freq = list(self.freqs.items())\n",
        "    tok_freq.sort(key=lambda x: x[1], reverse=True)\n",
        "    for tok, freq in tok_freq:\n",
        "      if freq >= min_freq:\n",
        "        self.add_token(tok)"
      ],
      "execution_count": 0,
      "outputs": []
    },
    {
      "metadata": {
        "id": "kOvkH_llVsoW",
        "colab_type": "text"
      },
      "cell_type": "markdown",
      "source": [
        "Let's build the token vocabulary!\n",
        "\n",
        "When randomly initializing word vectors, we take the words in our training\n",
        "set and assign them unique IDs, and assign all other words to <unk>, \n",
        "because those we cannot learn a vector for based on our training data.\n"
      ]
    },
    {
      "metadata": {
        "id": "GwGQgQQBNUSq",
        "colab_type": "code",
        "outputId": "b7dec460-4e0a-4643-ff44-143b2bbb7f2d",
        "colab": {
          "base_uri": "https://localhost:8080/",
          "height": 34
        }
      },
      "cell_type": "code",
      "source": [
        "# This process should be deterministic and should have the same result \n",
        "# if run multiple times on the same data set.\n",
        "\n",
        "v = Vocabulary()\n",
        "for data_set in (train_data,):\n",
        "  for ex in data_set:\n",
        "    for token in ex.tokens:\n",
        "      v.count_token(token)\n",
        "\n",
        "v.build()\n",
        "print(\"Vocabulary size:\", len(v.w2i))"
      ],
      "execution_count": 0,
      "outputs": [
        {
          "output_type": "stream",
          "text": [
            "Vocabulary size: 18280\n"
          ],
          "name": "stdout"
        }
      ]
    },
    {
      "metadata": {
        "id": "-UNIedPrPdCw",
        "colab_type": "text"
      },
      "cell_type": "markdown",
      "source": [
        "Let's have a closer look at the properties of our vocabulary. Having a good idea of what it is like can facilitate data analysis and debugging later on."
      ]
    },
    {
      "metadata": {
        "id": "oJyuogmh0CA7",
        "colab_type": "code",
        "outputId": "c648ce2d-61fe-4418-acb2-9ef13aca43b3",
        "colab": {
          "base_uri": "https://localhost:8080/",
          "height": 34
        }
      },
      "cell_type": "code",
      "source": [
        "# What is the ID for \"century?\"\n",
        "print(\"Id for 'century' is:\",v.w2i[\"century\"])"
      ],
      "execution_count": 0,
      "outputs": [
        {
          "output_type": "stream",
          "text": [
            "Id for 'century' is: 1973\n"
          ],
          "name": "stdout"
        }
      ]
    },
    {
      "metadata": {
        "id": "O8OkPQ8Zv-rI",
        "colab_type": "code",
        "outputId": "c271a001-9146-4d4c-f968-8af70a2705ad",
        "colab": {
          "base_uri": "https://localhost:8080/",
          "height": 187
        }
      },
      "cell_type": "code",
      "source": [
        "# What are the first 10 words in the vocabulary?\n",
        "for i in range(10):\n",
        "    print(v.i2w[i])"
      ],
      "execution_count": 0,
      "outputs": [
        {
          "output_type": "stream",
          "text": [
            "<unk>\n",
            "<pad>\n",
            ".\n",
            ",\n",
            "the\n",
            "and\n",
            "a\n",
            "of\n",
            "to\n",
            "'s\n"
          ],
          "name": "stdout"
        }
      ]
    },
    {
      "metadata": {
        "id": "kmXwu02lOLWI",
        "colab_type": "code",
        "outputId": "9dc3ace5-9fe2-4ab9-84e1-d06f4c1125ce",
        "colab": {
          "base_uri": "https://localhost:8080/",
          "height": 187
        }
      },
      "cell_type": "code",
      "source": [
        "# What are the 10 most common words?\n",
        "v.freqs.most_common(10)"
      ],
      "execution_count": 0,
      "outputs": [
        {
          "output_type": "execute_result",
          "data": {
            "text/plain": [
              "[('.', 8024),\n",
              " (',', 7131),\n",
              " ('the', 6037),\n",
              " ('and', 4431),\n",
              " ('a', 4403),\n",
              " ('of', 4386),\n",
              " ('to', 2995),\n",
              " (\"'s\", 2544),\n",
              " ('is', 2536),\n",
              " ('that', 1915)]"
            ]
          },
          "metadata": {
            "tags": []
          },
          "execution_count": 16
        }
      ]
    },
    {
      "metadata": {
        "id": "__NDPaCeOT_m",
        "colab_type": "code",
        "outputId": "607eabf3-0efc-4cfa-fa6e-294af2378b95",
        "colab": {
          "base_uri": "https://localhost:8080/",
          "height": 34
        }
      },
      "cell_type": "code",
      "source": [
        "# And how many words are there with frequency 1?\n",
        "un=Counter(v.freqs.values())\n",
        "un[1]"
      ],
      "execution_count": 0,
      "outputs": [
        {
          "output_type": "execute_result",
          "data": {
            "text/plain": [
              "9543"
            ]
          },
          "metadata": {
            "tags": []
          },
          "execution_count": 17
        }
      ]
    },
    {
      "metadata": {
        "id": "xKHocugctZGM",
        "colab_type": "code",
        "outputId": "bf0caa77-deec-4e87-ffed-ebc5ea32df1a",
        "colab": {
          "base_uri": "https://localhost:8080/",
          "height": 357
        }
      },
      "cell_type": "code",
      "source": [
        "# Finally 20 random words from the vocabulary.\n",
        "# This is a simple way to get a feeling for the data.\n",
        "idx=np.random.randint(len(v.freqs),size=20)\n",
        "for i in idx:\n",
        "    print(v.i2w[i])"
      ],
      "execution_count": 0,
      "outputs": [
        {
          "output_type": "stream",
          "text": [
            "Re-Fried\n",
            "hurts\n",
            "inflate\n",
            "educate\n",
            "Rising\n",
            "stature\n",
            "beauty\n",
            "Been\n",
            "noteworthy\n",
            "Temple\n",
            "plus\n",
            "Speck\n",
            "Floyd\n",
            "disastrous\n",
            "expedience\n",
            "leavened\n",
            "League\n",
            "beer-fueled\n",
            "National\n",
            "fast\n"
          ],
          "name": "stdout"
        }
      ]
    },
    {
      "metadata": {
        "id": "nGWaZahKV_dH",
        "colab_type": "text"
      },
      "cell_type": "markdown",
      "source": [
        "#### Sentiment label vocabulary"
      ]
    },
    {
      "metadata": {
        "id": "AmTC-rvQelpl",
        "colab_type": "code",
        "outputId": "3f40f96e-7969-4798-de51-566db385c65f",
        "colab": {
          "base_uri": "https://localhost:8080/",
          "height": 34
        }
      },
      "cell_type": "code",
      "source": [
        "# Now let's map the sentiment labels 0-4 to a more readable form\n",
        "i2t = [\"very negative\", \"negative\", \"neutral\", \"positive\", \"very positive\"]\n",
        "i2t"
      ],
      "execution_count": 0,
      "outputs": [
        {
          "output_type": "execute_result",
          "data": {
            "text/plain": [
              "['very negative', 'negative', 'neutral', 'positive', 'very positive']"
            ]
          },
          "metadata": {
            "tags": []
          },
          "execution_count": 19
        }
      ]
    },
    {
      "metadata": {
        "id": "D7UI26DP2dr2",
        "colab_type": "code",
        "outputId": "9bae1e63-21f4-4681-a727-29ca558bd95e",
        "colab": {
          "base_uri": "https://localhost:8080/",
          "height": 102
        }
      },
      "cell_type": "code",
      "source": [
        "# And let's also create the opposite mapping.\n",
        "# We won't use a Vocabulary for this (although we could), since the labels\n",
        "# are already numeric.\n",
        "t2i = OrderedDict({p : i for p, i in zip(i2t, range(len(i2t)))})\n",
        "t2i"
      ],
      "execution_count": 0,
      "outputs": [
        {
          "output_type": "execute_result",
          "data": {
            "text/plain": [
              "OrderedDict([('very negative', 0),\n",
              "             ('negative', 1),\n",
              "             ('neutral', 2),\n",
              "             ('positive', 3),\n",
              "             ('very positive', 4)])"
            ]
          },
          "metadata": {
            "tags": []
          },
          "execution_count": 20
        }
      ]
    },
    {
      "metadata": {
        "id": "y0067ax54-rd",
        "colab_type": "text"
      },
      "cell_type": "markdown",
      "source": [
        "## Installing PyTorch\n",
        "\n",
        "We are going to need PyTorch and Google Colab does not have it installed by default. Run the cell below to install it.\n",
        "\n",
        "*For installing PyTorch in your own computer, follow the instructions on [pytorch.org](pytorch.org) instead. This is for Google Colab only.*"
      ]
    },
    {
      "metadata": {
        "id": "qKQMGtkR5KWr",
        "colab_type": "code",
        "outputId": "16b8a7a0-0f44-401b-e420-a2d7e179fabd",
        "colab": {
          "base_uri": "https://localhost:8080/",
          "height": 54
        }
      },
      "cell_type": "code",
      "source": [
        "# http://pytorch.org/\n",
        "from os.path import exists\n",
        "from wheel.pep425tags import get_abbr_impl, get_impl_ver, get_abi_tag\n",
        "platform = '{}{}-{}'.format(get_abbr_impl(), get_impl_ver(), get_abi_tag())\n",
        "cuda_output = !ldconfig -p|grep cudart.so|sed -e 's/.*\\.\\([0-9]*\\)\\.\\([0-9]*\\)$/cu\\1\\2/'\n",
        "accelerator = cuda_output[0] if exists('/dev/nvidia0') else 'cpu'\n",
        "\n",
        "!pip install -q http://download.pytorch.org/whl/{accelerator}/torch-0.4.1-{platform}-linux_x86_64.whl torchvision\n",
        "import torch\n",
        "from torch import optim\n",
        "from torch import nn"
      ],
      "execution_count": 0,
      "outputs": [
        {
          "output_type": "stream",
          "text": [
            "tcmalloc: large alloc 1073750016 bytes == 0x58778000 @  0x7f74a93ab2a4 0x591a07 0x5b5d56 0x502e9a 0x506859 0x502209 0x502f3d 0x506859 0x504c28 0x502540 0x502f3d 0x506859 0x504c28 0x502540 0x502f3d 0x506859 0x504c28 0x502540 0x502f3d 0x507641 0x502209 0x502f3d 0x506859 0x504c28 0x502540 0x502f3d 0x507641 0x504c28 0x502540 0x502f3d 0x507641\n"
          ],
          "name": "stdout"
        }
      ]
    },
    {
      "metadata": {
        "id": "BhiRqhTM5V4c",
        "colab_type": "code",
        "outputId": "85f3c9a6-9f5b-47f3-b88e-925ef68ba7e6",
        "colab": {
          "base_uri": "https://localhost:8080/",
          "height": 34
        }
      },
      "cell_type": "code",
      "source": [
        "# this should result in the PyTorch version\n",
        "torch.__version__"
      ],
      "execution_count": 0,
      "outputs": [
        {
          "output_type": "execute_result",
          "data": {
            "text/plain": [
              "'0.4.1'"
            ]
          },
          "metadata": {
            "tags": []
          },
          "execution_count": 22
        }
      ]
    },
    {
      "metadata": {
        "id": "BYt8uTyGCKc7",
        "colab_type": "code",
        "outputId": "80b584c7-a701-4513-eef0-a36621aa65ba",
        "colab": {
          "base_uri": "https://localhost:8080/",
          "height": 34
        }
      },
      "cell_type": "code",
      "source": [
        "# PyTorch can run on CPU or on Nvidia GPU (video card) using CUDA\n",
        "# This cell selects the GPU if one is available.\n",
        "device = torch.device('cuda' if torch.cuda.is_available() else 'cpu')\n",
        "device"
      ],
      "execution_count": 0,
      "outputs": [
        {
          "output_type": "execute_result",
          "data": {
            "text/plain": [
              "device(type='cuda')"
            ]
          },
          "metadata": {
            "tags": []
          },
          "execution_count": 23
        }
      ]
    },
    {
      "metadata": {
        "id": "2d1VMOOYx1Bw",
        "colab_type": "code",
        "colab": {}
      },
      "cell_type": "code",
      "source": [
        "# Seed manually to make runs reproducible\n",
        "# You need to set this again if you do multiple runs of the same model\n",
        "torch.manual_seed(0)\n",
        "\n",
        "# When running on the CuDNN backend two further options must be set for reproducibility\n",
        "if torch.cuda.is_available():\n",
        "  torch.backends.cudnn.deterministic = True\n",
        "  torch.backends.cudnn.benchmark = False"
      ],
      "execution_count": 0,
      "outputs": []
    },
    {
      "metadata": {
        "id": "uWBTzkuE3CtZ",
        "colab_type": "text"
      },
      "cell_type": "markdown",
      "source": [
        "# BOW"
      ]
    },
    {
      "metadata": {
        "id": "TBAjYYySOA5W",
        "colab_type": "text"
      },
      "cell_type": "markdown",
      "source": [
        "Our first model is a super simple neural **bag-of-words (BOW) model**.\n",
        "Unlike the bag-of-words model that you used in the previous lab, here we associate each word with a vector of size 5, exactly our number of sentiment classes. \n",
        "\n",
        "To make a classification, we simply **sum** the vectors of the words in our sentence and a bias vector. Because we sum the vectors, we lose word order: that's why we call this a neural bag-of-words model.\n",
        "\n",
        "```\n",
        "this   [0.0, 0.1, 0.1, 0.1, 0.0]\n",
        "movie  [0.1, 0.1, 0.1, 0.2, 0.1]\n",
        "is     [0.0, 0.1, 0.0, 0.0, 0.0]\n",
        "stupid [0.9, 0.5, 0.1, 0.0, 0.0]\n",
        "\n",
        "bias   [0.0, 0.0, 0.0, 0.0, 0.0]\n",
        "--------------------------------\n",
        "sum    [0.9, 0.8, 0.3, 0.3, 0.1]\n",
        "\n",
        "argmax: 0 (very negative)\n",
        "```\n",
        "\n",
        "Now, the **argmax** of this sum is our predicted label.\n",
        "\n",
        "We initialize all vectors *randomly* and train them using cross-entropy loss."
      ]
    },
    {
      "metadata": {
        "id": "rLtBAIQGynkB",
        "colab_type": "text"
      },
      "cell_type": "markdown",
      "source": [
        "#### Model class"
      ]
    },
    {
      "metadata": {
        "id": "QZfNklWf3tvs",
        "colab_type": "code",
        "colab": {}
      },
      "cell_type": "code",
      "source": [
        "class BOW(nn.Module):\n",
        "  \"\"\"A simple bag-of-words model\"\"\"\n",
        "\n",
        "  def __init__(self, vocab_size, embedding_dim, vocab):\n",
        "    super(BOW, self).__init__()\n",
        "    self.vocab = vocab\n",
        "    \n",
        "    # this is a trained look-up table with word embeddings\n",
        "    self.embed = nn.Embedding(vocab_size, embedding_dim)\n",
        "    \n",
        "    # this is a trained bias term\n",
        "    self.bias = nn.Parameter(torch.zeros(embedding_dim), requires_grad=True)        \n",
        "\n",
        "  def forward(self, inputs):\n",
        "    # this is the forward pass of the neural network\n",
        "    # given inputs, it computes the output\n",
        "\n",
        "    # this looks up the embeddings for each word ID in inputs\n",
        "    # the result is a sequence of word embeddings\n",
        "    embeds = self.embed(inputs)\n",
        "    \n",
        "    # the output is the sum across the time dimension (1)\n",
        "    # with the bias term added\n",
        "    logits = embeds.sum(1) + self.bias\n",
        "\n",
        "    return logits"
      ],
      "execution_count": 0,
      "outputs": []
    },
    {
      "metadata": {
        "colab_type": "code",
        "id": "eKHvBnoBAr6z",
        "outputId": "a4fb2fdf-9d1b-4e20-9ac1-ff79a86d59d8",
        "colab": {
          "base_uri": "https://localhost:8080/",
          "height": 68
        }
      },
      "cell_type": "code",
      "source": [
        "# Let's create a model.\n",
        "vocab_size = len(v.w2i)\n",
        "n_classes = len(t2i)\n",
        "bow_model = BOW(vocab_size, n_classes, v)\n",
        "print(bow_model)"
      ],
      "execution_count": 0,
      "outputs": [
        {
          "output_type": "stream",
          "text": [
            "BOW(\n",
            "  (embed): Embedding(18280, 5)\n",
            ")\n"
          ],
          "name": "stdout"
        }
      ]
    },
    {
      "metadata": {
        "id": "vfCx-HvMH1qQ",
        "colab_type": "text"
      },
      "cell_type": "markdown",
      "source": [
        "> **Hey, wait, where is the bias vector?**\n",
        "> PyTorch does not print Parameters, only Modules!\n",
        "\n",
        "> We can print it ourselves though, to check that it is there."
      ]
    },
    {
      "metadata": {
        "colab_type": "code",
        "id": "Fhvk5HenAroT",
        "outputId": "673d8509-a86c-4873-e71e-4056010d4e1b",
        "colab": {
          "base_uri": "https://localhost:8080/",
          "height": 102
        }
      },
      "cell_type": "code",
      "source": [
        "\n",
        "# Here we print each parameter name, shape, and if it is trainable.\n",
        "def print_parameters(model):\n",
        "  total = 0\n",
        "  for name, p in model.named_parameters():\n",
        "    total += np.prod(p.shape)\n",
        "    print(\"{:24s} {:12s} requires_grad={}\".format(name, str(list(p.shape)), p.requires_grad))\n",
        "  print(\"\\nTotal parameters: {}\\n\".format(total))\n",
        "    \n",
        "\n",
        "print_parameters(bow_model)"
      ],
      "execution_count": 0,
      "outputs": [
        {
          "output_type": "stream",
          "text": [
            "bias                     [5]          requires_grad=True\n",
            "embed.weight             [18280, 5]   requires_grad=True\n",
            "\n",
            "Total parameters: 91405\n",
            "\n"
          ],
          "name": "stdout"
        }
      ]
    },
    {
      "metadata": {
        "id": "WSAw292WxuP4",
        "colab_type": "text"
      },
      "cell_type": "markdown",
      "source": [
        "#### Preparing an example for input\n",
        "\n",
        "To feed sentences to our PyTorch model, we need to convert a sequence of tokens to a sequence of IDs. The `prepare_example` function below takes care of this for us. With these IDs we index the word embedding table. "
      ]
    },
    {
      "metadata": {
        "id": "YWeGTC_OGReV",
        "colab_type": "code",
        "colab": {}
      },
      "cell_type": "code",
      "source": [
        "def prepare_example(example, vocab):\n",
        "  \"\"\"\n",
        "  Map tokens to their IDs for 1 example\n",
        "  \"\"\"\n",
        "  \n",
        "  # vocab returns 0 if the word is not there\n",
        "  x = [vocab.w2i.get(t, 0) for t in example.tokens]\n",
        "  \n",
        "  x = torch.LongTensor([x])\n",
        "  x = x.to(device)\n",
        "  \n",
        "  y = torch.LongTensor([example.label])\n",
        "  y = y.to(device)\n",
        "  \n",
        "  return x, y"
      ],
      "execution_count": 0,
      "outputs": []
    },
    {
      "metadata": {
        "id": "oKNQjEc0yXnJ",
        "colab_type": "text"
      },
      "cell_type": "markdown",
      "source": [
        "#### Evaluation\n",
        "We will need one more thing: an evaluation metric.\n",
        "How many predictions do we get right? The accuracy will tell us.\n",
        "Make sure that you understand this code block.\n"
      ]
    },
    {
      "metadata": {
        "id": "yGmQLcVYKZsh",
        "colab_type": "code",
        "colab": {}
      },
      "cell_type": "code",
      "source": [
        "\n",
        "def simple_evaluate(model, data, prep_fn=prepare_example, **kwargs):\n",
        "  \"\"\"Accuracy of a model on given data set.\"\"\"\n",
        "  correct = 0\n",
        "  total = 0\n",
        "  model.eval()  # disable dropout (explained later)\n",
        "\n",
        "  for example in data:\n",
        "    \n",
        "    # convert the example input and label to PyTorch tensors\n",
        "    x, target = prep_fn(example, model.vocab)\n",
        "\n",
        "    # forward pass\n",
        "    # get the output from the neural network for input x\n",
        "    with torch.no_grad():\n",
        "      logits = model(x)\n",
        "    \n",
        "    # get out the prediction\n",
        "    prediction = logits.argmax(dim=-1)\n",
        "    \n",
        "    # add the number of correct predictions to the total correct\n",
        "    correct += (prediction == target).sum().item()\n",
        "    total += 1\n",
        "\n",
        "  return correct, total, correct / float(total)"
      ],
      "execution_count": 0,
      "outputs": []
    },
    {
      "metadata": {
        "id": "dIk6OtSdzGRP",
        "colab_type": "text"
      },
      "cell_type": "markdown",
      "source": [
        "#### Example feed\n",
        "For stochastic gradient descent (SGD) we will need a random training example for every update.\n",
        "We implement this by shuffling the training data and returning examples one by one using `yield`.\n",
        "\n",
        "Shuffling is optional so that we get to use this to get validation and test examples, too."
      ]
    },
    {
      "metadata": {
        "id": "dxDFOZLfCXvJ",
        "colab_type": "code",
        "colab": {}
      },
      "cell_type": "code",
      "source": [
        "def get_examples(data, shuffle=True, **kwargs):\n",
        "  \"\"\"Shuffle data set and return 1 example at a time (until nothing left)\"\"\"\n",
        "  if shuffle:\n",
        "    print(\"Shuffling training data\")\n",
        "    random.shuffle(data)  # shuffle training data each epoch\n",
        "  for example in data:\n",
        "    yield example"
      ],
      "execution_count": 0,
      "outputs": []
    },
    {
      "metadata": {
        "id": "g09SM8yb2cjx",
        "colab_type": "text"
      },
      "cell_type": "markdown",
      "source": [
        "#### Exercise: Training function\n",
        "\n",
        "Your task is now to complete the training loop below.\n",
        "Before you do so, please read the section about optimization."
      ]
    },
    {
      "metadata": {
        "id": "TVfUukVdM_1c",
        "colab_type": "text"
      },
      "cell_type": "markdown",
      "source": [
        "**Optimization**\n",
        "\n",
        "As mentioned in the \"Introduction to PyTorch\" notebook, one of the perks of using PyTorch are its automatic differentiation abilities. We will use these to train our BOW model. \n",
        "\n",
        "We train our model by feeding it an input and performing **forward** pass, which results in an output for which we obtain a **loss** with our loss function.\n",
        "After the gradients are calculated in the **backward** pass, we can take a step on the loss surface towards more optimal parameter settings (e.g. gradient descent). \n",
        "\n",
        "The package we will use to do this optimization is [torch.optim](https://pytorch.org/docs/stable/optim.html). Besides implementations of stochastic gradient descent (SGD), this package also implements the optimization algorithm Adam, which we'll be using in this practical. \n",
        "For the purposes of this assignment you do not need to know what Adam does besides that it uses gradient information to update our model parameters by calling: \n",
        "\n",
        "```\n",
        "optimizer.step()\n",
        "```\n",
        "Remember when we updated our parameters in the PyTorch tutorial in a loop?\n",
        "\n",
        "\n",
        "```python\n",
        "# update weights\n",
        "learning_rate = 0.5\n",
        "for f in net.parameters():\n",
        "    # for each parameter, take a small step in the opposite dir of the gradient\n",
        "    p.data = p.data - p.grad.data * learning_rate\n",
        "\n",
        "```\n",
        "The function call optimizer.step() does effectively the same thing.\n",
        "\n",
        "*(If you want to know more about optimization algorithms using gradient information [this blog](http://ruder.io/optimizing-gradient-descent/.) gives a nice intuitive overview.)*"
      ]
    },
    {
      "metadata": {
        "id": "ktFnKBux25lD",
        "colab_type": "code",
        "colab": {}
      },
      "cell_type": "code",
      "source": [
        "def train_model(model, optimizer, num_iterations=10000, \n",
        "                print_every=1000, eval_every=1000,\n",
        "                batch_fn=get_examples, \n",
        "                prep_fn=prepare_example,\n",
        "                eval_fn=simple_evaluate,\n",
        "                batch_size=1, eval_batch_size=None):\n",
        "  \"\"\"Train a model.\"\"\"  \n",
        "  iter_i = 0\n",
        "  train_loss = 0.\n",
        "  print_num = 0\n",
        "  start = time.time()\n",
        "  criterion = nn.CrossEntropyLoss() # loss function\n",
        "  best_eval = 0.\n",
        "  best_iter = 0\n",
        "  \n",
        "  # store train loss and validation accuracy during training\n",
        "  # so we can plot them afterwards\n",
        "  losses = []\n",
        "  accuracies = []  \n",
        "  \n",
        "  if eval_batch_size is None:\n",
        "    eval_batch_size = batch_size\n",
        "  \n",
        "  while True:  # when we run out of examples, shuffle and continue\n",
        "    for batch in batch_fn(train_data, batch_size=batch_size):\n",
        "      #early_stopping=False\n",
        "      # forward pass\n",
        "      model.train()\n",
        "      x, targets = prep_fn(batch, model.vocab)\n",
        "      logits = model(x)\n",
        "\n",
        "      B = targets.size(0)  # later we will use B examples per update\n",
        "      \n",
        "      # compute cross-entropy loss (our criterion)\n",
        "      # note that the cross entropy loss function computes the softmax for us\n",
        "      loss = criterion(logits.view([B, -1]), targets.view(-1))\n",
        "      train_loss += loss.item()\n",
        "\n",
        "      # backward pass\n",
        "      # Tip: check the Introduction to PyTorch notebook.\n",
        "\n",
        "      # erase previous gradients\n",
        "      model.zero_grad()\n",
        "      # compute gradients\n",
        "      loss.backward()\n",
        "      # update weights - take a small step in the opposite dir of the gradient\n",
        "      \n",
        "      optimizer.step()\n",
        "\n",
        "      print_num += 1\n",
        "      iter_i += 1\n",
        "\n",
        "      # print info\n",
        "      if iter_i % print_every == 0:\n",
        "        print(\"Iter %r: loss=%.4f, time=%.2fs\" % \n",
        "              (iter_i, train_loss, time.time()-start))\n",
        "        losses.append(train_loss)\n",
        "        print_num = 0        \n",
        "        train_loss = 0.\n",
        "\n",
        "      # evaluate\n",
        "      if iter_i % eval_every == 0:\n",
        "        _, _, accuracy = eval_fn(model, dev_data, batch_size=eval_batch_size,\n",
        "                                 batch_fn=batch_fn, prep_fn=prep_fn)\n",
        "        accuracies.append(accuracy)\n",
        "        print(\"iter %r: dev acc=%.4f\" % (iter_i, accuracy))       \n",
        "        \n",
        "        # save best model parameters\n",
        "        if accuracy > best_eval:\n",
        "          print(\"new highscore\")\n",
        "          best_eval = accuracy\n",
        "          best_iter = iter_i\n",
        "          path = \"{}.pt\".format(model.__class__.__name__)\n",
        "          ckpt = {\n",
        "              \"state_dict\": model.state_dict(),\n",
        "              \"optimizer_state_dict\": optimizer.state_dict(),\n",
        "              \"best_eval\": best_eval,\n",
        "              \"best_iter\": best_iter\n",
        "          }\n",
        "          torch.save(ckpt, path)\n",
        "       # if iter_i/eval_every-best_iter/eval_every>10:\n",
        "        #  early_stopping=True\n",
        "\n",
        "      # done training\n",
        "      if iter_i == num_iterations:# or early_stopping:\n",
        "        print(\"Done training\")\n",
        "        \n",
        "        # evaluate on train, dev, and test with best model\n",
        "        print(\"Loading best model\")\n",
        "        path = \"{}.pt\".format(model.__class__.__name__)        \n",
        "        ckpt = torch.load(path)\n",
        "        model.load_state_dict(ckpt[\"state_dict\"])\n",
        "        \n",
        "        _, _, train_acc = eval_fn(\n",
        "            model, train_data, batch_size=eval_batch_size, \n",
        "            batch_fn=batch_fn, prep_fn=prep_fn)\n",
        "        _, _, dev_acc = eval_fn(\n",
        "            model, dev_data, batch_size=eval_batch_size,\n",
        "            batch_fn=batch_fn, prep_fn=prep_fn)\n",
        "        _, _, test_acc = eval_fn(\n",
        "            model, test_data, batch_size=eval_batch_size, \n",
        "            batch_fn=batch_fn, prep_fn=prep_fn)\n",
        "        \n",
        "        print(\"best model iter {:d}: \"\n",
        "              \"train acc={:.4f}, dev acc={:.4f}, test acc={:.4f}\".format(\n",
        "                  best_iter, train_acc, dev_acc, test_acc))\n",
        "        \n",
        "        return losses, accuracies"
      ],
      "execution_count": 0,
      "outputs": []
    },
    {
      "metadata": {
        "id": "XEPsLvI-3D5b",
        "colab_type": "text"
      },
      "cell_type": "markdown",
      "source": [
        "### Training the BOW model"
      ]
    },
    {
      "metadata": {
        "id": "9luJnNuN_d3q",
        "colab_type": "code",
        "outputId": "6cdd9342-ea9a-4c2f-91c3-ca1101823653",
        "colab": {
          "base_uri": "https://localhost:8080/",
          "height": 85
        }
      },
      "cell_type": "code",
      "source": [
        "# If everything is in place we can now train our first model!\n",
        "bow_model = BOW(len(v.w2i), len(t2i), vocab=v)\n",
        "print(bow_model)\n",
        "\n",
        "bow_model = bow_model.to(device)\n",
        "\n",
        "optimizer = optim.Adam(bow_model.parameters(), lr=0.0005)\n",
        "\"\"\"bow_losses, bow_accuracies = train_model(\n",
        "    bow_model, optimizer, num_iterations=30000, \n",
        "    print_every=1000, eval_every=1000)\"\"\""
      ],
      "execution_count": 0,
      "outputs": [
        {
          "output_type": "stream",
          "text": [
            "BOW(\n",
            "  (embed): Embedding(18280, 5)\n",
            ")\n"
          ],
          "name": "stdout"
        },
        {
          "output_type": "execute_result",
          "data": {
            "text/plain": [
              "'bow_losses, bow_accuracies = train_model(\\n    bow_model, optimizer, num_iterations=30000, \\n    print_every=1000, eval_every=1000)'"
            ]
          },
          "metadata": {
            "tags": []
          },
          "execution_count": 32
        }
      ]
    },
    {
      "metadata": {
        "id": "dvYLj8LIAzfS",
        "colab_type": "code",
        "outputId": "67ecb31e-6510-4e1f-ea6c-25c9e5c9fd48",
        "colab": {
          "base_uri": "https://localhost:8080/",
          "height": 34
        }
      },
      "cell_type": "code",
      "source": [
        "# This will plot the validation accuracies across time.\n",
        "\"\"\"plt.plot(bow_accuracies)\"\"\""
      ],
      "execution_count": 0,
      "outputs": [
        {
          "output_type": "execute_result",
          "data": {
            "text/plain": [
              "'plt.plot(bow_accuracies)'"
            ]
          },
          "metadata": {
            "tags": []
          },
          "execution_count": 33
        }
      ]
    },
    {
      "metadata": {
        "id": "vUHm9JfSI4po",
        "colab_type": "code",
        "outputId": "5ba8aa0e-681a-425b-ee45-841156738f6d",
        "colab": {
          "base_uri": "https://localhost:8080/",
          "height": 34
        }
      },
      "cell_type": "code",
      "source": [
        "# This will plot the training loss over time.\n",
        "\"\"\"plt.plot(bow_losses)\"\"\""
      ],
      "execution_count": 0,
      "outputs": [
        {
          "output_type": "execute_result",
          "data": {
            "text/plain": [
              "'plt.plot(bow_losses)'"
            ]
          },
          "metadata": {
            "tags": []
          },
          "execution_count": 34
        }
      ]
    },
    {
      "metadata": {
        "id": "E9mB1_XhMPNN",
        "colab_type": "text"
      },
      "cell_type": "markdown",
      "source": [
        "# CBOW"
      ]
    },
    {
      "metadata": {
        "id": "pWk78FvNMw4o",
        "colab_type": "text"
      },
      "cell_type": "markdown",
      "source": [
        "We now continue with a **continuous bag-of-words (CBOW)** model.\n",
        "It is similar to the BOW model, but now embeddings can have a dimension of *arbitrary size*. \n",
        "This means that we can make them bigger and learn more aspects of each word. We will still sum the vectors to get a sentence representation, but now the result is no longer conveniently the number of sentiment classes. \n",
        "\n",
        "*Note that this is not the same as word2vec CBOW.* Both models take a few words as input, sum and make a prediction. However, in word2vec the prediction is the word in the middle of the input words. Here, the prediction is a sentiment class (1 out of 5 possible numbers 0-4).\n",
        "\n",
        "So what can we do? We can *learn* a parameter matrix $W$ that turns our summed vector into the number of output classes, by matrix-multiplying it: $$Wx$$\n",
        "If the size of $W$ is `5 x d`, and $x$ is `d x 1` and , then the result will be `5x1`, and then we can again find our prediction using an argmax."
      ]
    },
    {
      "metadata": {
        "id": "gIjrCPfCwsXI",
        "colab_type": "text"
      },
      "cell_type": "markdown",
      "source": [
        "## Exercise: write CBOW class & train it\n",
        "\n",
        "Write a class `CBOW` that:\n",
        "\n",
        "- has word embeddings with size 300\n",
        "- sums the word vectors for the input words (just like in `BOW`)\n",
        "- projects the resulting vector down to 5 units using a linear layer (including a bias term)\n",
        "\n",
        "Train your CBOW model and plot the validation accuracy and training loss over time."
      ]
    },
    {
      "metadata": {
        "id": "PEV22aR2MP0Q",
        "colab_type": "code",
        "colab": {}
      },
      "cell_type": "code",
      "source": [
        "class CBOW(nn.Module):\n",
        "  \"\"\"A simple bag-of-words model\"\"\"\n",
        "\n",
        "  def __init__(self, vocab_size, vocab,embedding_dim=300):\n",
        "    super(CBOW, self).__init__()\n",
        "    self.vocab = vocab\n",
        "    \n",
        "    # this is a trained look-up table with word embeddings\n",
        "    self.embed = nn.Embedding(vocab_size, embedding_dim)\n",
        "    self.W=nn.Linear(embedding_dim,5,bias=True)\n",
        "      \n",
        "\n",
        "  def forward(self, inputs):\n",
        "    # this is the forward pass of the neural network\n",
        "    # given inputs, it computes the output\n",
        "\n",
        "    # this looks up the embeddings for each word ID in inputs\n",
        "    # the result is a sequence of word embeddings\n",
        "    embeds = self.embed(inputs)\n",
        "    \n",
        "    # the output is the sum across the time dimension (1)\n",
        "    # with the bias term added\n",
        "\n",
        "    logits = self.W(embeds)\n",
        "    return logits.sum(1)"
      ],
      "execution_count": 0,
      "outputs": []
    },
    {
      "metadata": {
        "id": "QLZIf7ImuRtP",
        "colab_type": "code",
        "outputId": "15ca6a23-8982-41f6-e363-6a0d4d430924",
        "colab": {
          "base_uri": "https://localhost:8080/",
          "height": 102
        }
      },
      "cell_type": "code",
      "source": [
        "# YOUR CODE HERE\n",
        "cbow_model = CBOW(len(v.w2i), vocab=v)\n",
        "print(cbow_model)\n",
        "\n",
        "cbow_model = cbow_model.to(device)\n",
        "\n",
        "coptimizer = optim.Adam(cbow_model.parameters(), lr=0.0005)\n",
        "\"\"\"cbow_losses, cbow_accuracies = train_model(\n",
        "    cbow_model, coptimizer, num_iterations=30000, \n",
        "    print_every=1000, eval_every=1000)\"\"\""
      ],
      "execution_count": 0,
      "outputs": [
        {
          "output_type": "stream",
          "text": [
            "CBOW(\n",
            "  (embed): Embedding(18280, 300)\n",
            "  (W): Linear(in_features=300, out_features=5, bias=True)\n",
            ")\n"
          ],
          "name": "stdout"
        },
        {
          "output_type": "execute_result",
          "data": {
            "text/plain": [
              "'cbow_losses, cbow_accuracies = train_model(\\n    cbow_model, coptimizer, num_iterations=30000, \\n    print_every=1000, eval_every=1000)'"
            ]
          },
          "metadata": {
            "tags": []
          },
          "execution_count": 36
        }
      ]
    },
    {
      "metadata": {
        "id": "zpFt_Fo2TdN0",
        "colab_type": "text"
      },
      "cell_type": "markdown",
      "source": [
        "# Deep CBOW"
      ]
    },
    {
      "metadata": {
        "id": "iZanOMesTfEZ",
        "colab_type": "text"
      },
      "cell_type": "markdown",
      "source": [
        "To see if we can squeeze some more performance out of the CBOW model, we can make it deeper and non-linear: add more layers and tanh-activations.\n",
        "By using more parameters we can learn more aspects of the data, and by using more layers and non-linearities, we can try to learn a more complex function. \n",
        "This is not something that always works. If the input-output mapping of your data is simple, then a complicated function could easily overfit on your training set, which will lead to poor generalization. \n",
        "\n",
        "We will use E for the size of the word embeddings (use: 300) and D for the size of a hidden layer (use: 100).\n",
        "\n",
        "#### Exercise: write Deep CBOW class and train it\n",
        "\n",
        "Write a class `DeepCBOW`.\n",
        "\n",
        "In your code, make sure that your `output_layer` consists of the following:\n",
        "- A linear transformation from E units to D units.\n",
        "- A Tanh activation\n",
        "- A linear transformation from D units to D units\n",
        "- A Tanh activation\n",
        "- A linear transformation from D units to 5 units (our output classes).\n",
        "\n",
        "We recommend using [nn.Sequential](https://pytorch.org/docs/stable/nn.html?highlight=sequential#torch.nn.Sequential) to implement this exercise."
      ]
    },
    {
      "metadata": {
        "id": "l8Z1igvpTrZq",
        "colab_type": "code",
        "colab": {}
      },
      "cell_type": "code",
      "source": [
        "# YOUR CODE HERE\n",
        "class DeepCBOW(nn.Module):\n",
        "  \"\"\"A simple bag-of-words model\"\"\"\n",
        "\n",
        "  def __init__(self, vocab_size, vocab,E=300, D=100):\n",
        "    super(DeepCBOW, self).__init__()\n",
        "    self.vocab = vocab\n",
        "\n",
        "\n",
        "    \n",
        "    # this is a trained look-up table with word embeddings\n",
        "    self.embed = nn.Embedding(vocab_size, E)\n",
        "    \n",
        "    self.W=nn.Linear(E,D,bias=True)\n",
        "    \n",
        "    self.Seq=nn.Sequential(self.W,nn.Tanh(),nn.Linear(D,D,bias=True),nn.Tanh(),nn.Linear(D,5,bias=True) )\n",
        "    \n",
        "  def forward(self, inputs):\n",
        "    # this is the forward pass of the neural network\n",
        "    # given inputs, it computes the output\n",
        "\n",
        "\n",
        "    embeds = self.embed(inputs)\n",
        "    \n",
        " \n",
        "    logits = self.Seq(embeds)\n",
        "    return logits.sum(1)"
      ],
      "execution_count": 0,
      "outputs": []
    },
    {
      "metadata": {
        "id": "zQBJdrlS6Xcl",
        "colab_type": "code",
        "outputId": "4d63c7c4-01ce-44b0-f11d-eb3d6528d602",
        "colab": {
          "base_uri": "https://localhost:8080/",
          "height": 241
        }
      },
      "cell_type": "code",
      "source": [
        "# YOUR CODE HERE\n",
        "deepcbow_model = DeepCBOW(len(v.w2i), vocab=v)\n",
        "print(deepcbow_model)\n",
        "\n",
        "deepcbow_model = deepcbow_model.to(device)\n",
        "\n",
        "deepcoptimizer = optim.Adam(deepcbow_model.parameters(), lr=0.0005)\n",
        "\"\"\"deepcbow_losses, deepcbow_accuracies = train_model(\n",
        "    deepcbow_model, deepcoptimizer, num_iterations=30000, \n",
        "    print_every=1000, eval_every=1000)\"\"\""
      ],
      "execution_count": 0,
      "outputs": [
        {
          "output_type": "stream",
          "text": [
            "DeepCBOW(\n",
            "  (embed): Embedding(18280, 300)\n",
            "  (W): Linear(in_features=300, out_features=100, bias=True)\n",
            "  (Seq): Sequential(\n",
            "    (0): Linear(in_features=300, out_features=100, bias=True)\n",
            "    (1): Tanh()\n",
            "    (2): Linear(in_features=100, out_features=100, bias=True)\n",
            "    (3): Tanh()\n",
            "    (4): Linear(in_features=100, out_features=5, bias=True)\n",
            "  )\n",
            ")\n"
          ],
          "name": "stdout"
        },
        {
          "output_type": "execute_result",
          "data": {
            "text/plain": [
              "'deepcbow_losses, deepcbow_accuracies = train_model(\\n    deepcbow_model, deepcoptimizer, num_iterations=30000, \\n    print_every=1000, eval_every=1000)'"
            ]
          },
          "metadata": {
            "tags": []
          },
          "execution_count": 38
        }
      ]
    },
    {
      "metadata": {
        "id": "MQZ5flHwiiHY",
        "colab_type": "text"
      },
      "cell_type": "markdown",
      "source": [
        "# Pre-trained word embeddings"
      ]
    },
    {
      "metadata": {
        "id": "9NX35vecmHy6",
        "colab_type": "text"
      },
      "cell_type": "markdown",
      "source": [
        "The Stanford sentiment treebank is a very small data set, since it was manually annotated. This makes it difficult for the model to learn good word embeddings, to learn the \"meaning\" of the words in our vocabulary.\n",
        "\n",
        "Think for a moment about the fact that the only error signal that the network receives is from predicting the sentiment!\n",
        "\n",
        "To mitigate our data sparsity, we can download **pre-trained word embeddings**. \n",
        "You can choose which pre-trained word embeddings to use:\n",
        "\n",
        "- **Glove**. The \"original\" Stanford Sentiment classification [paper](http://aclweb.org/anthology/P/P15/P15-1150.pdf) used Glove embeddings, which are just another method (like *word2vec*) to get word embeddings from unannotated text. Glove is described in the following paper which you should cite if you use them:\n",
        "> Jeffrey Pennington, Richard Socher, and Christopher Manning. [\"Glove: Global vectors for word representation.\"](https://nlp.stanford.edu/pubs/glove.pdf) EMNLP 2014. \n",
        "\n",
        "- **word2vec**. This is the method that you learned about in class, described in:\n",
        "> Mikolov, Tomas, et al. [\"Distributed representations of words and phrases and their compositionality.\"](https://papers.nips.cc/paper/5021-distributed-representations-of-words-and-phrases-and-their-compositionality.pdf) Advances in neural information processing systems. 2013.\n",
        "\n",
        "With these pre-trained word embeddings, we can initialize our word embedding lookup table and start form a point where similar words are already close to one another. \n",
        "\n",
        "You can choose to keep the word embeddings **fixed** or to train them further.\n",
        "We will keep them fixed for now.\n",
        "\n",
        "For the purposes of this lab, it is enough if you understand how word2vec works (whichever vectors you use). If you are interested you may also check out the Glove paper.\n",
        "\n",
        "You can either download the word2vec vectors, or the Glove vectors.\n",
        "If you want to compare your results to the Stanford paper later on, then you should use Glove. \n",
        "**At the end of this lab you have the option to compare which vectors give you the best performance. For now, simply choose one of them and continue with that.**"
      ]
    },
    {
      "metadata": {
        "id": "lGYr02WWO993",
        "colab_type": "code",
        "colab": {}
      },
      "cell_type": "code",
      "source": [
        "# This downloads the Glove 840B 300d embeddings.\n",
        "# The original file is at http://nlp.stanford.edu/data/glove.840B.300d.zip\n",
        "# Since that file is 2GB, we provide you with a *filtered version*\n",
        "# which contains all the words you need for this data set.\n",
        "\n",
        "# You only need to do this once.\n",
        "# Please comment this cell out after downloading.\n",
        "\n",
        "#!wget https://gist.githubusercontent.com/bastings/b094de2813da58056a05e8e7950d4ad1/raw/3fbd3976199c2b88de2ae62afc0ecc6f15e6f7ce/glove.840B.300d.sst.txt"
      ],
      "execution_count": 0,
      "outputs": []
    },
    {
      "metadata": {
        "id": "6NLsgFGiTjmI",
        "colab_type": "code",
        "colab": {}
      },
      "cell_type": "code",
      "source": [
        "# This downloads the word2vec 300D Google News vectors \n",
        "# The file has been truncated to only contain words that appear in our data set.\n",
        "# You can find the original file here: https://code.google.com/archive/p/word2vec/\n",
        "\n",
        "# You only need to do this once.\n",
        "# Please comment this out after downloading.\n",
        "#!wget https://gist.githubusercontent.com/bastings/4d1c346c68969b95f2c34cfbc00ba0a0/raw/76b4fefc9ef635a79d0d8002522543bc53ca2683/googlenews.word2vec.300d.txt"
      ],
      "execution_count": 0,
      "outputs": []
    },
    {
      "metadata": {
        "id": "GXBITzPRQUQb",
        "colab_type": "code",
        "outputId": "34d5c6ca-b734-4c11-ede5-a59d01ec86a5",
        "colab": {
          "base_uri": "https://localhost:8080/",
          "height": 122
        }
      },
      "cell_type": "code",
      "source": [
        "# Mount Google Drive (to save the downloaded files)\n",
        "from google.colab import drive\n",
        "drive.mount('/gdrive')"
      ],
      "execution_count": 0,
      "outputs": [
        {
          "output_type": "stream",
          "text": [
            "Go to this URL in a browser: https://accounts.google.com/o/oauth2/auth?client_id=947318989803-6bn6qk8qdgf4n4g3pfee6491hc0brc4i.apps.googleusercontent.com&redirect_uri=urn%3Aietf%3Awg%3Aoauth%3A2.0%3Aoob&scope=email%20https%3A%2F%2Fwww.googleapis.com%2Fauth%2Fdocs.test%20https%3A%2F%2Fwww.googleapis.com%2Fauth%2Fdrive%20https%3A%2F%2Fwww.googleapis.com%2Fauth%2Fdrive.photos.readonly%20https%3A%2F%2Fwww.googleapis.com%2Fauth%2Fpeopleapi.readonly&response_type=code\n",
            "\n",
            "Enter your authorization code:\n",
            "··········\n",
            "Mounted at /gdrive\n"
          ],
          "name": "stdout"
        }
      ]
    },
    {
      "metadata": {
        "id": "uFvzPuiKSCbl",
        "colab_type": "code",
        "colab": {}
      },
      "cell_type": "code",
      "source": [
        "# Copy word vectors *to* Google Drive\n",
        "\n",
        "# You only need to do this once.\n",
        "# Please comment this out after running it. \n",
        "#!cp \"glove.840B.300d.sst.txt\" \"/gdrive/My Drive/\"\n",
        "#!cp \"googlenews.word2vec.300d.txt\" \"/gdrive/My Drive/\""
      ],
      "execution_count": 0,
      "outputs": []
    },
    {
      "metadata": {
        "id": "kUMH0bM6BuY9",
        "colab_type": "code",
        "colab": {}
      },
      "cell_type": "code",
      "source": [
        "# If you copied the word vectors to your Drive before,\n",
        "# here is where you copy them back to the Colab notebook.\n",
        "\n",
        "# Copy Glove vectors *from* Google Drive\n",
        "!cp \"/gdrive/My Drive/glove.840B.300d.sst.txt\" .\n",
        "#!cp \"/gdrive/My Drive/googlenews.word2vec.300d.txt\" ."
      ],
      "execution_count": 0,
      "outputs": []
    },
    {
      "metadata": {
        "id": "MX2GJVHILM8n",
        "colab_type": "text"
      },
      "cell_type": "markdown",
      "source": [
        "At this point you have the pre-trained word embedding files, but what do they look like?"
      ]
    },
    {
      "metadata": {
        "id": "ChsChH14Ruxn",
        "colab_type": "code",
        "outputId": "7179a23c-9ef2-4c58-bd04-95962d6e6c47",
        "colab": {
          "base_uri": "https://localhost:8080/",
          "height": 105
        }
      },
      "cell_type": "code",
      "source": [
        "# Exercise: Print the first 4 lines of the files that you downloaded.\n",
        "# What do you see?\n",
        "pt=list(filereader(\"/gdrive/My Drive/glove.840B.300d.sst.txt\" ))\n",
        "for i in range(4):\n",
        "  print(pt[i])\n",
        "  "
      ],
      "execution_count": 0,
      "outputs": [
        {
          "output_type": "stream",
          "text": [
            ", -0.082752 0.67204 -0.14987 -0.064983 0.056491 0.40228 0.0027747 -0.3311 -0.30691 2.0817 0.031819 0.013643 0.30265 0.0071297 -0.5819 -0.2774 -0.062254 1.1451 -0.24232 0.1235 -0.12243 0.33152 -0.006162 -0.30541 -0.13057 -0.054601 0.037083 -0.070552 0.5893 -0.30385 0.2898 -0.14653 -0.27052 0.37161 0.32031 -0.29125 0.0052483 -0.13212 -0.052736 0.087349 -0.26668 -0.16897 0.015162 -0.0083746 -0.14871 0.23413 -0.20719 -0.091386 0.40075 -0.17223 0.18145 0.37586 -0.28682 0.37289 -0.16185 0.18008 0.3032 -0.13216 0.18352 0.095759 0.094916 0.008289 0.11761 0.34046 0.03677 -0.29077 0.058303 -0.027814 0.082941 0.1862 -0.031494 0.27985 -0.074412 -0.13762 -0.21866 0.18138 0.040855 -0.113 0.24107 0.3657 -0.27525 -0.05684 0.34872 0.011884 0.14517 -0.71395 0.48497 0.14807 0.62287 0.20599 0.58379 -0.13438 0.40207 0.18311 0.28021 -0.42349 -0.25626 0.17715 -0.54095 0.16596 -0.036058 0.08499 -0.64989 0.075549 -0.28831 0.40626 -0.2802 0.094062 0.32406 0.28437 -0.26341 0.11553 0.071918 -0.47215 -0.18366 -0.34709 0.29964 -0.66514 0.002516 -0.42333 0.27512 0.36012 0.16311 0.23964 -0.05923 0.3261 0.20559 0.038677 -0.045816 0.089764 0.43151 -0.15954 0.08532 -0.26572 -0.15001 0.084286 -0.16714 -0.43004 0.060807 0.13121 -0.24112 0.66554 0.4453 -0.18019 -0.13919 0.56252 0.21457 -0.46443 -0.012211 0.029988 -0.051094 -0.20135 0.80788 0.47377 -0.057647 0.46216 0.16084 -0.20954 -0.05452 0.15572 -0.13712 0.12972 -0.011936 -0.003378 -0.13595 -0.080711 0.20065 0.054056 0.046816 0.059539 0.046265 0.17754 -0.31094 0.28119 -0.24355 0.085252 -0.21011 -0.19472 0.0027297 -0.46341 0.14789 -0.31517 -0.065939 0.036106 0.42903 -0.33759 0.16432 0.32568 -0.050392 -0.054297 0.24074 0.41923 0.13012 -0.17167 -0.37808 -0.23089 -0.019477 -0.29291 -0.30824 0.30297 -0.22659 0.081574 -0.18516 -0.21408 0.40616 -0.28974 0.074174 -0.17795 0.28595 -0.039626 -0.2339 -0.36054 -0.067503 -0.091065 0.23438 -0.0041331 0.003232 0.0072134 0.008697 0.21614 0.049904 0.35582 0.13748 0.073361 0.14166 0.2412 -0.013322 0.15613 0.083381 0.088146 -0.019357 0.43795 0.083961 0.45309 -0.50489 -0.10865 -0.2527 -0.18251 0.20441 0.13319 0.1294 0.050594 -0.15612 -0.39543 0.12538 0.24881 -0.1927 -0.31847 -0.12719 0.4341 0.31177 -0.0040946 -0.2094 -0.079961 0.1161 -0.050794 0.015266 -0.2803 -0.12486 0.23587 0.2339 -0.14023 0.028462 0.56923 -0.1649 -0.036429 0.010051 -0.17107 -0.042608 0.044965 -0.4393 -0.26137 0.30088 -0.060772 -0.45312 -0.19076 -0.20288 0.27694 -0.060888 0.11944 0.62206 -0.19343 0.47849 -0.30113 0.059389 0.074901 0.061068 -0.4662 0.40054 -0.19099 -0.14331 0.018267 -0.18643 0.20709 -0.35598 0.05338 -0.050821 -0.1918 -0.37846 -0.06589\n",
            ". 0.012001 0.20751 -0.12578 -0.59325 0.12525 0.15975 0.13748 -0.33157 -0.13694 1.7893 -0.47094 0.70434 0.26673 -0.089961 -0.18168 0.067226 0.053347 1.5595 -0.2541 0.038413 -0.01409 0.056774 0.023434 0.024042 0.31703 0.19025 -0.37505 0.035603 0.1181 0.012032 -0.037566 -0.5046 -0.049261 0.092351 0.11031 -0.073062 0.33994 0.28239 0.13413 0.070128 -0.022099 -0.28103 0.49607 -0.48693 -0.090964 -0.1538 -0.38011 -0.014228 -0.19392 -0.11068 -0.014088 -0.17906 0.24509 -0.16878 -0.15351 -0.13808 0.02151 0.13699 0.0068061 -0.14915 -0.38169 0.12727 0.44007 0.32678 -0.46117 0.068687 0.34747 0.18827 -0.31837 0.4447 -0.2095 -0.26987 0.48945 0.15388 0.05295 -0.049831 0.11207 0.14881 -0.37003 0.30777 -0.33865 0.045149 -0.18987 0.26634 -0.26401 -0.47556 0.68381 -0.30653 0.24606 0.31611 -0.071098 0.030417 0.088119 0.045025 0.20125 -0.21618 -0.36371 -0.25948 -0.42398 -0.14305 -0.10208 0.21498 -0.21924 -0.17935 0.21546 0.13801 0.24504 -0.2559 0.054815 0.21307 0.2564 -0.25673 0.17961 -0.47638 -0.25181 -0.0091498 -0.054362 -0.21007 0.12597 -0.40795 -0.021164 0.20585 0.18925 -0.0051896 -0.51394 0.28862 -0.077748 -0.27676 0.46567 -0.14225 -0.17879 -0.4357 -0.32481 0.15034 -0.058367 0.49652 0.20472 0.019866 0.13326 0.12823 -1.0177 0.29007 0.28995 0.029994 -0.10763 0.28665 -0.24387 0.22905 -0.26249 -0.069269 -0.17889 0.21936 0.15146 0.04567 -0.050497 0.071482 -0.1027 -0.080705 0.30296 0.031302 0.26613 -0.0060951 0.10313 -0.39987 -0.043945 -0.057625 0.08702 -0.098152 0.22835 -0.005211 0.038075 0.01591 -0.20622 0.021853 0.0040426 -0.043063 -0.002294 -0.26097 -0.25802 -0.28158 -0.23118 -0.010404 -0.30102 -0.4042 0.014653 -0.10445 0.30377 -0.20957 0.3119 0.068272 0.1008 0.010423 0.54011 0.29865 0.12653 0.013761 0.21738 -0.39521 0.066633 0.50327 0.14913 -0.11554 0.010042 0.095698 0.16607 -0.18808 0.055019 0.026715 -0.3164 -0.046583 -0.051591 0.023475 -0.11007 0.085642 0.28394 0.040497 0.071986 0.14157 -0.021199 0.44718 0.20088 -0.12964 -0.067183 0.47614 0.13394 -0.17287 -0.37324 -0.17285 0.02683 -0.1316 0.09116 -0.46487 0.1274 -0.090159 -0.10552 0.068006 -0.13381 0.17056 0.089509 -0.23133 -0.27572 0.061534 -0.051646 0.28377 0.25286 -0.24139 -0.19905 0.12049 -0.1011 0.27392 0.27843 0.26449 -0.18292 -0.048961 0.19198 0.17192 0.33659 -0.20184 -0.34305 -0.24553 -0.15399 0.3945 0.22839 -0.25753 -0.25675 -0.37332 -0.23884 -0.048816 0.78323 0.18851 -0.26477 0.096566 0.062658 -0.30668 -0.43334 0.10006 0.21136 0.039459 -0.11077 0.24421 0.60942 -0.46646 0.086385 -0.39702 -0.23363 0.021307 -0.10778 -0.2281 0.50803 0.11567 0.16165 -0.066737 -0.29556 0.022612 -0.28135 0.0635 0.14019 0.13871 -0.36049 -0.035\n",
            "the 0.27204 -0.06203 -0.1884 0.023225 -0.018158 0.0067192 -0.13877 0.17708 0.17709 2.5882 -0.35179 -0.17312 0.43285 -0.10708 0.15006 -0.19982 -0.19093 1.1871 -0.16207 -0.23538 0.003664 -0.19156 -0.085662 0.039199 -0.066449 -0.04209 -0.19122 0.011679 -0.37138 0.21886 0.0011423 0.4319 -0.14205 0.38059 0.30654 0.020167 -0.18316 -0.0065186 -0.0080549 -0.12063 0.027507 0.29839 -0.22896 -0.22882 0.14671 -0.076301 -0.1268 -0.0066651 -0.052795 0.14258 0.1561 0.05551 -0.16149 0.09629 -0.076533 -0.049971 -0.010195 -0.047641 -0.16679 -0.2394 0.0050141 -0.049175 0.013338 0.41923 -0.10104 0.015111 -0.077706 -0.13471 0.119 0.10802 0.21061 -0.051904 0.18527 0.17856 0.041293 -0.014385 -0.082567 -0.035483 -0.076173 -0.045367 0.089281 0.33672 -0.22099 -0.0067275 0.23983 -0.23147 -0.88592 0.091297 -0.012123 0.013233 -0.25799 -0.02972 0.016754 0.01369 0.32377 0.039546 0.042114 -0.088243 0.30318 0.087747 0.16346 -0.40485 -0.043845 -0.040697 0.20936 -0.77795 0.2997 0.2334 0.14891 -0.39037 -0.053086 0.062922 0.065663 -0.13906 0.094193 0.10344 -0.2797 0.28905 -0.32161 0.020687 0.063254 -0.23257 -0.4352 -0.017049 -0.32744 -0.047064 -0.075149 -0.18788 -0.015017 0.029342 -0.3527 -0.044278 -0.13507 -0.11644 -0.1043 0.1392 0.0039199 0.37603 0.067217 -0.37992 -1.1241 -0.057357 -0.16826 0.03941 0.2604 -0.023866 0.17963 0.13553 0.2139 0.052633 -0.25033 -0.11307 0.22234 0.066597 -0.11161 0.062438 -0.27972 0.19878 -0.36262 -1.0006e-05 -0.17262 0.29166 -0.15723 0.054295 0.06101 -0.39165 0.2766 0.057816 0.39709 0.025229 0.24672 -0.08905 0.15683 -0.2096 -0.22196 0.052394 -0.01136 0.050417 -0.14023 -0.042825 -0.031931 -0.21336 -0.20402 -0.23272 0.07449 0.088202 -0.11063 -0.33526 -0.014028 -0.29429 -0.086911 -0.1321 -0.43616 0.20513 0.0079362 0.48505 0.064237 0.14261 -0.43711 0.12783 -0.13111 0.24673 -0.27496 0.15896 0.43314 0.090286 0.24662 0.066463 -0.20099 0.1101 0.03644 0.17359 -0.15689 -0.086328 -0.17316 0.36975 -0.40317 -0.064814 -0.034166 -0.013773 0.062854 -0.17183 -0.12366 -0.034663 -0.22793 -0.23172 0.239 0.27473 0.15332 0.10661 -0.060982 -0.024805 -0.13478 0.17932 -0.37374 -0.02893 -0.11142 -0.08389 -0.055932 0.068039 -0.10783 0.1465 0.094617 -0.084554 0.067429 -0.3291 0.034082 -0.16747 -0.25997 -0.22917 0.020159 -0.02758 0.16136 -0.18538 0.037665 0.57603 0.20684 0.27941 0.16477 -0.018769 0.12062 0.069648 0.059022 -0.23154 0.24095 -0.3471 0.04854 -0.056502 0.41566 -0.43194 0.4823 -0.051759 -0.27285 -0.25893 0.16555 -0.1831 -0.06734 0.42457 0.010346 0.14237 0.25939 0.17123 -0.13821 -0.066846 0.015981 -0.30193 0.043579 -0.043102 0.35025 -0.19681 -0.4281 0.16899 0.22511 -0.28557 -0.1028 -0.018168 0.11407 0.13015 -0.18317 0.1323\n",
            "and -0.18567 0.066008 -0.25209 -0.11725 0.26513 0.064908 0.12291 -0.093979 0.024321 2.4926 -0.017916 -0.071218 -0.24782 -0.26237 -0.2246 -0.21961 -0.12927 1.0867 -0.66072 -0.031617 -0.057328 0.056903 -0.27939 -0.39825 0.14251 -0.085146 -0.14779 0.055067 -0.0028687 -0.20917 -0.070735 0.22577 -0.15881 -0.10395 0.09711 -0.56251 -0.32929 -0.20853 0.0098711 0.049777 0.0014883 0.15884 0.042771 -0.0026956 -0.02462 -0.19213 -0.22556 0.10838 0.090086 -0.13291 0.32559 -0.17038 -0.1099 -0.23986 -0.024289 0.014656 -0.237 0.084828 -0.35982 -0.076746 0.048909 0.11431 -0.21013 0.24765 -0.017531 -0.14028 0.046191 0.22972 0.1175 0.12724 0.012992 0.4587 0.41085 0.039106 0.15713 -0.18376 0.26834 0.056662 0.16844 -0.053788 -0.091892 0.11193 -0.08681 -0.13324 0.15062 -0.31733 -0.22078 0.25038 0.34131 0.36419 -0.089514 -0.22193 0.24471 0.040091 0.47798 -0.029996 0.0019212 0.063511 -0.20417 -0.26478 0.20649 0.015573 -0.27722 -0.18861 -0.10289 -0.49773 0.14986 -0.010877 0.25085 -0.28117 0.18966 -0.065879 0.094753 -0.15338 -0.055071 -0.36747 0.24993 0.096527 0.23538 0.18405 0.052859 0.22967 0.12582 0.15536 -0.17275 0.33946 -0.10049 0.074948 -0.093575 -0.04049 -0.016922 -0.0058039 -0.18108 0.19537 0.45178 0.10965 0.2337 -0.09905 -0.078633 0.21678 -0.71231 -0.099759 0.33333 -0.1646 -0.091688 0.21056 0.023669 0.028922 0.1199 -0.12512 -0.026037 -0.062217 0.55816 0.0050273 -0.30888 0.038611 0.17568 -0.11163 -0.10815 -0.19444 0.29433 0.14519 -0.042878 0.18534 0.018891 -0.61883 0.13352 0.036007 0.33995 0.22109 -0.079328 0.071319 0.17678 0.16378 -0.23142 -0.1434 -0.098122 -0.019286 0.2356 -0.34013 -0.061007 -0.23208 -0.31152 0.10063 -0.15957 0.20183 -0.016345 -0.12303 0.022667 -0.20986 -0.20127 -0.087883 0.064731 0.10195 -0.1786 0.33056 0.21407 -0.32165 -0.17106 0.19407 -0.38618 -0.2148 -0.052254 0.023175 0.47389 0.18612 0.12711 0.20855 -0.10256 -0.12016 -0.40488 0.029695 -0.027419 -0.0085227 -0.11415 0.081134 -0.17228 0.19142 0.026514 0.043789 -0.12399 0.13354 0.10112 0.081682 -0.15085 0.0075806 -0.18971 0.24669 0.22491 0.35553 -0.3277 -0.21821 0.1402 0.28604 0.055226 -0.086544 0.02111 -0.19236 0.074245 0.076782 0.00081666 0.034097 -0.57719 0.10657 0.28134 -0.11964 -0.68281 -0.32893 -0.24442 -0.025847 0.0091273 0.2025 -0.050959 -0.11042 0.010962 0.076773 0.40048 -0.40739 -0.44773 0.31954 -0.036326 -0.012789 -0.17282 0.1476 0.2356 0.080642 -0.36528 -0.0083443 0.6239 -0.24379 0.019917 -0.28803 -0.010494 0.038412 -0.11718 -0.072462 0.16381 0.38488 -0.029783 0.23444 0.4532 0.14815 -0.027021 -0.073181 -0.1147 -0.0054545 0.47796 0.090912 0.094489 -0.36882 -0.59396 -0.097729 0.20072 0.17055 -0.0047356 -0.039709 0.32498 -0.023452 0.12302 0.3312\n"
          ],
          "name": "stdout"
        }
      ]
    },
    {
      "metadata": {
        "id": "WIVCkUkE_IjR",
        "colab_type": "text"
      },
      "cell_type": "markdown",
      "source": [
        "#### Exercise: New Vocabulary\n",
        "\n",
        "Since we now use pre-trained word embeddings, we need to create a new vocabulary. \n",
        "This is because of two reasons:\n",
        "\n",
        "1. Not all words in our training set are in the set of pre-trained word embeddings. We do not want words in our vocabulary that are not in that set.\n",
        "2. We get to look up the pre-trained word embedding for words in the validation and test set, even if we don't know them from training. \n",
        "\n",
        "Now, create a new vocabulary object `v` and load the pre-trained vectors into a `vectors`.\n",
        "\n",
        "The vocabulary `v` should consist of:\n",
        " - a  `<unk>` token at position 0,\n",
        " - a  `<pad>` token at position 1, \n",
        " - and then all words in the pre-trained vector set.\n",
        " \n",
        "\n",
        "After storing each vector in a list `vectors`, turn in into a numpy matrix like this:\n",
        "```python\n",
        " vectors = np.stack(vectors, axis=0)\n",
        "```\n",
        " \n",
        " \n"
      ]
    },
    {
      "metadata": {
        "id": "W0M6l8vYATbW",
        "colab_type": "code",
        "colab": {}
      },
      "cell_type": "code",
      "source": [
        "pt_split=[x.split() for x in pt]\n",
        "pt_words=[x[0] for x in pt_split]\n",
        "pt_vectors=[[float(j) for j in x[1:]]  for x in pt_split ]\n",
        "\n"
      ],
      "execution_count": 0,
      "outputs": []
    },
    {
      "metadata": {
        "id": "ITyyCvDnCL4U",
        "colab_type": "code",
        "outputId": "6c7cfbe5-6779-4204-b2b4-8006693e3be1",
        "colab": {
          "base_uri": "https://localhost:8080/",
          "height": 34
        }
      },
      "cell_type": "code",
      "source": [
        "# YOUR CODE HERE\n",
        "v = Vocabulary()\n",
        "vectors = np.stack(pt_vectors,axis=0)\n",
        "means=vectors.mean(axis=0)\n",
        "vectors=np.insert(vectors,0,means,axis=0)\n",
        "vectors=np.insert(vectors,0,np.zeros(300),axis=0)\n",
        "for token in pt_words:\n",
        "  v.count_token(token)\n",
        "\n",
        "v.build()\n",
        "print(\"Vocabulary size:\", len(v.w2i))"
      ],
      "execution_count": 0,
      "outputs": [
        {
          "output_type": "stream",
          "text": [
            "Vocabulary size: 20727\n"
          ],
          "name": "stdout"
        }
      ]
    },
    {
      "metadata": {
        "id": "xC-7mRyYNG9b",
        "colab_type": "text"
      },
      "cell_type": "markdown",
      "source": [
        "#### Exercise: words not in our pre-trained set\n",
        "\n",
        "How many words in the training, dev, and test set are also in your vector set?\n",
        "How many words are not there?\n",
        "\n",
        "Store the words that are not in the word vector set in the set below."
      ]
    },
    {
      "metadata": {
        "id": "K6MA3-wF_X5M",
        "colab_type": "code",
        "colab": {}
      },
      "cell_type": "code",
      "source": [
        "words_not_found = set()\n",
        "# YOUR CODE HERE\n",
        "pt_set=set(pt_words)\n",
        "\n",
        "for s in [train_data,dev_data,test_data]:\n",
        "  for i in s:\n",
        "    words_not_found.update(set(i.tokens).difference(pt_set)) #new set with elements in s but not in t\n"
      ],
      "execution_count": 0,
      "outputs": []
    },
    {
      "metadata": {
        "id": "TRXGecppBH4V",
        "colab_type": "code",
        "colab": {}
      },
      "cell_type": "code",
      "source": [
        "for s in[train_data,dev_data,test_data]:\n",
        "  for i in s:\n",
        "    for j in i.tokens:\n",
        "      if j in words_not_found:\n",
        "        j==\"<unk>\""
      ],
      "execution_count": 0,
      "outputs": []
    },
    {
      "metadata": {
        "id": "IJgT-igUVCGt",
        "colab_type": "code",
        "outputId": "fc37fa19-5cd8-4d87-cea3-aec12e429664",
        "colab": {
          "base_uri": "https://localhost:8080/",
          "height": 34
        }
      },
      "cell_type": "code",
      "source": [
        "len(words_not_found)"
      ],
      "execution_count": 0,
      "outputs": [
        {
          "output_type": "execute_result",
          "data": {
            "text/plain": [
              "976"
            ]
          },
          "metadata": {
            "tags": []
          },
          "execution_count": 49
        }
      ]
    },
    {
      "metadata": {
        "id": "BfEd38W0NnAI",
        "colab_type": "text"
      },
      "cell_type": "markdown",
      "source": [
        "#### Exercise: train Deep CBOW with (fixed) pre-trained embeddings\n",
        "\n",
        "Now train Deep CBOW again using the pre-trained word vectors.\n"
      ]
    },
    {
      "metadata": {
        "id": "z_6ooqgEsB20",
        "colab_type": "code",
        "colab": {}
      },
      "cell_type": "code",
      "source": [
        "# We define a dummy class so that we save the model to a different file.\n",
        "class PTDeepCBOW(DeepCBOW):\n",
        "  def __init__(self, vocab_size, vocab,E=300, D =100):\n",
        "    super(PTDeepCBOW, self).__init__(\n",
        "        vocab_size,vocab, E=300, D=100 )"
      ],
      "execution_count": 0,
      "outputs": []
    },
    {
      "metadata": {
        "id": "JfIh4Ni6yuAh",
        "colab_type": "code",
        "colab": {}
      },
      "cell_type": "code",
      "source": [
        "# YOUR CODE HERE\n",
        "pt_deep_cbow_model = PTDeepCBOW(len(v.w2i),v)\n",
        "\n",
        "# copy pre-trained word vectors into embeddings table\n",
        "pt_deep_cbow_model.embed.weight.data.copy_(torch.from_numpy(vectors))\n",
        "\n",
        "# disable training the pre-trained embeddings\n",
        "pt_deep_cbow_model.embed.weight.requires_grad = False\n",
        "\n",
        "# move model to specified device\n",
        "pt_deep_cbow_model = pt_deep_cbow_model.to(device)\n",
        "\n",
        "# train the model\n",
        "# YOUR CODE HERE"
      ],
      "execution_count": 0,
      "outputs": []
    },
    {
      "metadata": {
        "id": "Ufujv3x31ufD",
        "colab_type": "code",
        "outputId": "2868cb8c-2fed-4cc5-9259-e3e9057dab50",
        "colab": {
          "base_uri": "https://localhost:8080/",
          "height": 54
        }
      },
      "cell_type": "code",
      "source": [
        "# plot dev accuracies\n",
        "pt_deepcoptimizer = optim.Adam(pt_deep_cbow_model.parameters(), lr=0.0005)\n",
        "\"\"\"pt_deepcbow_losses, pt_deepcbow_accuracies = train_model(\n",
        "    pt_deep_cbow_model, pt_deepcoptimizer, num_iterations=30000, \n",
        "    print_every=1000, eval_every=1000)\"\"\""
      ],
      "execution_count": 0,
      "outputs": [
        {
          "output_type": "execute_result",
          "data": {
            "text/plain": [
              "'pt_deepcbow_losses, pt_deepcbow_accuracies = train_model(\\n    pt_deep_cbow_model, pt_deepcoptimizer, num_iterations=30000, \\n    print_every=1000, eval_every=1000)'"
            ]
          },
          "metadata": {
            "tags": []
          },
          "execution_count": 52
        }
      ]
    },
    {
      "metadata": {
        "id": "YTJtKBzd7Qjr",
        "colab_type": "code",
        "colab": {}
      },
      "cell_type": "code",
      "source": [
        "# plot train loss"
      ],
      "execution_count": 0,
      "outputs": []
    },
    {
      "metadata": {
        "id": "yFu8xzCy9XDW",
        "colab_type": "text"
      },
      "cell_type": "markdown",
      "source": [
        "**It looks like we've hit what is possible with just using words.**\n",
        "Let's move on by incorporating word order!"
      ]
    },
    {
      "metadata": {
        "id": "g41yW4PL9jG0",
        "colab_type": "text"
      },
      "cell_type": "markdown",
      "source": [
        "# LSTM"
      ]
    },
    {
      "metadata": {
        "id": "ODzXEH0MaGpa",
        "colab_type": "text"
      },
      "cell_type": "markdown",
      "source": [
        "It is time to get more serious. Even with pre-trained word embeddings and multiple layers, we seem to do pretty badly at sentiment classification here. \n",
        "The next step we can take is to introduce word order again, and to get a representation of the sentence as a whole, without independence assumptions.\n",
        "\n",
        "We will get this representation using an **Long Short-Term Memory** (LSTM). As an exercise, we will code our own LSTM cell, so that we get comfortable with its inner workings.\n",
        "Once we have an LSTM cell, we can call it repeatedly, updating its hidden state one word at a time:\n",
        "\n",
        "```python\n",
        "rnn = MyLSTMCell(input_size, hidden_size)\n",
        "\n",
        "hx = torch.zeros(1, hidden_size)  # initial state\n",
        "cx = torch.zeros(1, hidden_size)  # initial memory cell\n",
        "output = []                       # to save intermediate LSTM states\n",
        "\n",
        "# feed one word at a time\n",
        "for i in range(n_timesteps):\n",
        "  hx, cx = rnn(input[i], (hx, cx))\n",
        "  output.append(hx)\n",
        "```\n",
        "\n",
        "If you need some more help understanding LSTMs, then check out these resources:\n",
        "- Blog post (highly recommended): http://colah.github.io/posts/2015-08-Understanding-LSTMs/\n",
        "- Paper covering LSTM formulas in detail: https://arxiv.org/abs/1503.04069 \n",
        "\n",
        "#### Exercise: Finish the LSTM cell below. \n",
        "You will need to implement the LSTM formulas:\n",
        "\n",
        "$$\n",
        "\\begin{array}{ll}\n",
        "        i = \\sigma(W_{ii} x + b_{ii} + W_{hi} h + b_{hi}) \\\\\n",
        "        f = \\sigma(W_{if} x + b_{if} + W_{hf} h + b_{hf}) \\\\\n",
        "        g = \\tanh(W_{ig} x + b_{ig} + W_{hg} h + b_{hg}) \\\\\n",
        "        o = \\sigma(W_{io} x + b_{io} + W_{ho} h + b_{ho}) \\\\\n",
        "        c' = f * c + i * g \\\\\n",
        "        h' = o \\tanh(c') \\\\\n",
        "\\end{array}\n",
        " $$\n",
        "\n",
        "where $\\sigma$ is the sigmoid function.\n",
        "\n",
        "*Note that the LSTM formulas can differ slightly between different papers. We use the PyTorch LSTM formulation here.*"
      ]
    },
    {
      "metadata": {
        "id": "zJ9m5kLMd7-v",
        "colab_type": "code",
        "colab": {}
      },
      "cell_type": "code",
      "source": [
        "class MyLSTMCell(nn.Module):\n",
        "  \"\"\"Our own LSTM cell\"\"\"\n",
        "\n",
        "  def __init__(self, input_size, hidden_size, bias=True):\n",
        "    \"\"\"Creates the weights for this LSTM\"\"\"\n",
        "    super(MyLSTMCell, self).__init__()\n",
        "\n",
        "    self.input_size = input_size\n",
        "    self.hidden_size = hidden_size\n",
        "    self.bias = bias\n",
        "    \n",
        "    self.Wi = nn.Linear(input_size, hidden_size*4, bias=True)\n",
        "    self.Wh = nn.Linear(hidden_size, hidden_size*4, bias=True)\n",
        "    \n",
        "\n",
        "    self.reset_parameters()\n",
        "\n",
        "  def reset_parameters(self):\n",
        "    \"\"\"This is PyTorch's default initialization method\"\"\"\n",
        "    stdv = 1.0 / math.sqrt(self.hidden_size)\n",
        "    for weight in self.parameters():\n",
        "      weight.data.uniform_(-stdv, stdv)  \n",
        "\n",
        "  def forward(self, input_, hx, mask=None):\n",
        "    \"\"\"\n",
        "    input is (batch, input_size)\n",
        "    hx is ((batch, hidden_size), (batch, hidden_size))\n",
        "    \"\"\"\n",
        "    prev_h, prev_c = hx\n",
        "    \n",
        "    # project input and prev state\n",
        "    x = input_\n",
        "    linear_transform_x = self.Wi(x)\n",
        "    linear_transform_h = self.Wh(prev_h)\n",
        "    linear_ii, linear_if, linear_ig, linear_io = torch.chunk(linear_transform_x,4,dim=1)\n",
        "    linear_hi, linear_hf, linear_hg, linear_ho = torch.chunk(linear_transform_h,4,dim=1)\n",
        "\n",
        "    # main LSTM computation     \n",
        "    i = (linear_ii+linear_hi).sigmoid()\n",
        "    f = (linear_if+linear_hf).sigmoid()\n",
        "    g = (linear_ig+linear_hg).tanh()\n",
        "    o = (linear_io+linear_ho).sigmoid()\n",
        "\n",
        "    c = (f*prev_c)+(i*g) #c = (i*prev_c)+(i*g)\n",
        "    h = o*c.tanh()\n",
        "\n",
        "    return h, c\n",
        "  \n",
        "  def __repr__(self):\n",
        "    return \"{}({:d}, {:d})\".format(\n",
        "        self.__class__.__name__, self.input_size, self.hidden_size)"
      ],
      "execution_count": 0,
      "outputs": []
    },
    {
      "metadata": {
        "id": "4JM7xPhkQeE5",
        "colab_type": "text"
      },
      "cell_type": "markdown",
      "source": [
        "#### Optional: Efficient Matrix Multiplication\n",
        "\n",
        "It is more efficient to do a few big matrix multiplications than to do many smaller ones.\n",
        "\n",
        "It is possible to implement the above cell using just **two** linear layers.\n",
        "\n",
        "This is because the eight linear transformations from one forward pass through an LSTM cell can be done in just two:\n",
        "$$W_h h + b_h$$\n",
        "$$W_i x + b_i $$ \n",
        "\n",
        "with $h = $ `prev_h` and $x = $ `input_`.\n",
        "\n",
        "and where: \n",
        "\n",
        "$W_h =  \\begin{pmatrix}\n",
        "W_{hi}\\\\ \n",
        "W_{hf}\\\\ \n",
        "W_{hg}\\\\ \n",
        "W_{ho}\n",
        "\\end{pmatrix}$, $b_h = \\begin{pmatrix}\n",
        "b_{hi}\\\\ \n",
        "b_{hf}\\\\ \n",
        "b_{hg}\\\\ \n",
        "b_{ho}\n",
        "\\end{pmatrix}$,  $W_i = \\begin{pmatrix}\n",
        "W_{ii}\\\\ \n",
        "W_{if}\\\\ \n",
        "W_{ig}\\\\ \n",
        "W_{io}\n",
        "\\end{pmatrix}$ and $b_i = \\begin{pmatrix}\n",
        "b_{ii}\\\\ \n",
        "b_{if}\\\\ \n",
        "b_{ig}\\\\ \n",
        "b_{io}\n",
        "\\end{pmatrix}$.\n",
        "\n",
        "Convince yourself that, after chunking with [torch.chunk](https://pytorch.org/docs/stable/torch.html?highlight=chunk#torch.chunk), the output of those two linear transformations is equivalent to the output of the eight linear transformations in the LSTM cell calculations above."
      ]
    },
    {
      "metadata": {
        "id": "X9gA-UcqSBe0",
        "colab_type": "text"
      },
      "cell_type": "markdown",
      "source": [
        "#### LSTM Classifier\n",
        "\n",
        "Having an LSTM cell is not enough: we still need some code that calls it repeatedly, and then makes a prediction from the final hidden state. \n",
        "You will find that code below. Make sure that you understand it."
      ]
    },
    {
      "metadata": {
        "id": "3iuYZm5poEn5",
        "colab_type": "code",
        "colab": {}
      },
      "cell_type": "code",
      "source": [
        "class LSTMClassifier(nn.Module):\n",
        "  \"\"\"Encodes sentence with an LSTM and projects final hidden state\"\"\"\n",
        "\n",
        "  def __init__(self, vocab_size, embedding_dim, hidden_dim, output_dim, vocab):\n",
        "    super(LSTMClassifier, self).__init__()\n",
        "    self.vocab = vocab\n",
        "    self.hidden_dim = hidden_dim\n",
        "    self.embed = nn.Embedding(vocab_size, embedding_dim, padding_idx=1)\n",
        "    self.rnn = MyLSTMCell(embedding_dim, hidden_dim)\n",
        "    \n",
        "    self.output_layer = nn.Sequential(     \n",
        "        nn.Dropout(p=0.5),  # explained later\n",
        "        nn.Linear(hidden_dim, output_dim)\n",
        "    )\n",
        "\n",
        "  def forward(self, x):\n",
        "    \n",
        "    B = x.size(0)  # batch size (this is 1 for now, i.e. 1 single example)\n",
        "    T = x.size(1)  # time (the number of words in the sentence)\n",
        "    \n",
        "    input_ = self.embed(x)\n",
        "\n",
        "    # here we create initial hidden states containing zeros\n",
        "    # we use a trick here so that, if input is on the GPU, then so are hx and cx\n",
        "    hx = input_.new_zeros(B, self.rnn.hidden_size)\n",
        "    cx = input_.new_zeros(B, self.rnn.hidden_size)\n",
        "    \n",
        "    # process input sentences one word/timestep at a time\n",
        "    # input is batch-major, so the first word(s) is/are input_[:, 0]\n",
        "    outputs = []   \n",
        "    for i in range(T):\n",
        "      hx, cx = self.rnn(input_[:, i], (hx, cx))\n",
        "      outputs.append(hx)\n",
        "    \n",
        "    # if we have a single example, our final LSTM state is the last hx\n",
        "    if B == 1:\n",
        "      final = hx\n",
        "    else:\n",
        "      #\n",
        "      # This part is explained in next section, ignore this else-block for now.\n",
        "      #\n",
        "      # we processed sentences with different lengths, so some of the sentences\n",
        "      # had already finished and we have been adding padding inputs to hx\n",
        "      # we select the final state based on the length of each sentence\n",
        "      \n",
        "      # two lines below not needed if using LSTM form pytorch\n",
        "      outputs = torch.stack(outputs, dim=0)          # [T, B, D]\n",
        "      outputs = outputs.transpose(0, 1).contiguous()  # [B, T, D]\n",
        "      \n",
        "      # to be super-sure we're not accidentally indexing the wrong state\n",
        "      # we zero out positions that are invalid\n",
        "      pad_positions = (x == 1).unsqueeze(-1)\n",
        "      \n",
        "      outputs = outputs.contiguous()      \n",
        "      outputs = outputs.masked_fill_(pad_positions, 0.)\n",
        "        \n",
        "      mask = (x != 1)  # true for valid positions [B, T]\n",
        "      lengths = mask.sum(dim=1)                  # [B, 1]\n",
        "\n",
        "      indexes = (lengths - 1) + torch.arange(B, device=x.device, dtype=x.dtype) * T\n",
        "      final = outputs.view(-1, self.hidden_dim)[indexes]  # [B, D]\n",
        "    \n",
        "    # we use the last hidden state to classify the sentence\n",
        "    logits = self.output_layer(final)\n",
        "    return logits"
      ],
      "execution_count": 0,
      "outputs": []
    },
    {
      "metadata": {
        "id": "FxFoVpvMPB6g",
        "colab_type": "text"
      },
      "cell_type": "markdown",
      "source": [
        "#### Dropout\n",
        "\n",
        "Besides not being able to learn meaningful word embeddings, there is another negative effect that can follow from data sparsity and a small data set: *overfitting*. This is a phenomenom that is very likely to occur when fitting strong and expressive models, like LSTMs, to small data. In practice, if your model overfits, this means that it will be very good at predicting (or: 'remembering') the sentiment of the training set, but unable to generalize to new, unseen data in the test set. This is undesirable and one technique to mitigate it is *dropout*. \n",
        "\n",
        "A dropout layer is defined by the following formula: $\\mathbf{d} \\in \\{0, 1\\}^n$, with $d_j \\sim \\text{Bernoulli}(p)$, and can be applied to for example a linear layer:\n",
        "\n",
        "$$\\text{tanh}(W(\\mathbf{h}\\odot \\mathbf{d}) + \\mathbf{b})$$\n",
        "\n",
        "\n",
        "These formulas simply mean that we *drop* certain parameters during training (by setting them to zero). Which parameters we drop is stochastically determined by a Bernoulli distribution and the probability of each parameter being dropped is set to $p = 0.5$ in our experiments (see the previous cell of code where we define our output layer). A dropout layer can be applied at many different places in our models. This technique helps against the undesirable effect where our model relies on single parameters for  prediction (e.g. if $h^{\\prime}_j$ is large, always predict positive). If we use dropout, the model needs to learn to rely on different parameters, which is desirable when generalizing to unseen data."
      ]
    },
    {
      "metadata": {
        "id": "XQjEjLt9z0XW",
        "colab_type": "text"
      },
      "cell_type": "markdown",
      "source": [
        "**Let's train our LSTM! ** Note that is will be a lot slower, because we need to do many more computations per sentence!\n",
        "\n",
        "#### Training"
      ]
    },
    {
      "metadata": {
        "id": "LgZoSPD4fsf_",
        "colab_type": "code",
        "outputId": "863981cc-98d9-45ae-aad4-1d551e266f22",
        "colab": {
          "base_uri": "https://localhost:8080/",
          "height": 340
        }
      },
      "cell_type": "code",
      "source": [
        "lstm_model = LSTMClassifier(len(v.w2i), 300, 168, len(t2i), v)\n",
        "\n",
        "# copy pre-trained word vectors into embeddings table\n",
        "with torch.no_grad():\n",
        "  lstm_model.embed.weight.data.copy_(torch.from_numpy(vectors))\n",
        "  lstm_model.embed.weight.requires_grad = False\n",
        "\n",
        "print(lstm_model)\n",
        "print_parameters(lstm_model)\n",
        "\n",
        "lstm_model = lstm_model.to(device)\n",
        "optimizer = optim.Adam(lstm_model.parameters(), lr=3e-4)\n",
        "\"\"\"\n",
        "lstm_losses, lstm_accuracies = train_model(\n",
        "    lstm_model, optimizer, num_iterations=25000, \n",
        "    print_every=250, eval_every=1000)\"\"\""
      ],
      "execution_count": 0,
      "outputs": [
        {
          "output_type": "stream",
          "text": [
            "LSTMClassifier(\n",
            "  (embed): Embedding(20727, 300, padding_idx=1)\n",
            "  (rnn): MyLSTMCell(300, 168)\n",
            "  (output_layer): Sequential(\n",
            "    (0): Dropout(p=0.5)\n",
            "    (1): Linear(in_features=168, out_features=5, bias=True)\n",
            "  )\n",
            ")\n",
            "embed.weight             [20727, 300] requires_grad=False\n",
            "rnn.Wi.weight            [672, 300]   requires_grad=True\n",
            "rnn.Wi.bias              [672]        requires_grad=True\n",
            "rnn.Wh.weight            [672, 168]   requires_grad=True\n",
            "rnn.Wh.bias              [672]        requires_grad=True\n",
            "output_layer.1.weight    [5, 168]     requires_grad=True\n",
            "output_layer.1.bias      [5]          requires_grad=True\n",
            "\n",
            "Total parameters: 6534785\n",
            "\n"
          ],
          "name": "stdout"
        },
        {
          "output_type": "execute_result",
          "data": {
            "text/plain": [
              "'\\nlstm_losses, lstm_accuracies = train_model(\\n    lstm_model, optimizer, num_iterations=25000, \\n    print_every=250, eval_every=1000)'"
            ]
          },
          "metadata": {
            "tags": []
          },
          "execution_count": 56
        }
      ]
    },
    {
      "metadata": {
        "id": "2BKVnyg0Hq5E",
        "colab_type": "code",
        "colab": {}
      },
      "cell_type": "code",
      "source": [
        "# plot validation accuracy"
      ],
      "execution_count": 0,
      "outputs": []
    },
    {
      "metadata": {
        "id": "ZowTV0EBTb3z",
        "colab_type": "code",
        "colab": {}
      },
      "cell_type": "code",
      "source": [
        "# plot training loss"
      ],
      "execution_count": 0,
      "outputs": []
    },
    {
      "metadata": {
        "id": "YEw6XHQY_AAQ",
        "colab_type": "text"
      },
      "cell_type": "markdown",
      "source": [
        "# Mini-batching\n",
        "\n"
      ]
    },
    {
      "metadata": {
        "id": "FPf96wGzBTQJ",
        "colab_type": "text"
      },
      "cell_type": "markdown",
      "source": [
        "**Why is the LSTM so slow?** Despite our best efforts, we still need to make a lot of matrix multiplications per example (linear in the length of the example) just to get a single classification, and we can only process the 2nd word once we have computed the hidden state for the 1st word (sequential computation).\n",
        "\n",
        "GPUs are more efficient if we do a few big matrix multiplications, rather than lots of small ones. If we could process multiple examples at the same time, then we could exploit that. We still process the input sequentially, but now we can do so for multiple sentences at the same time.\n",
        "\n",
        "Up to now our \"minibatch\" consisted of a single example. This was for a reason: the sentences in our data sets have **different lengths**, and this makes it difficult to process them at the same time.\n",
        "\n",
        "Consider a batch of 2 sentences:\n",
        "\n",
        "```\n",
        "this movie is bad\n",
        "this movie is super cool !\n",
        "```\n",
        "\n",
        "Let's say the IDs for these sentences are:\n",
        "\n",
        "```\n",
        "2 3 4 5\n",
        "2 3 4 6 7 8\n",
        "```\n",
        "\n",
        "We cannot feed PyTorch an object with variable length rows! We need to turn this into a matrix.\n",
        "\n",
        "The solution is to add **padding values** to our mini-batch:\n",
        "\n",
        "```\n",
        "2 3 4 5 1 1\n",
        "2 3 4 6 7 8\n",
        "```\n",
        "\n",
        "Whenever a sentence is shorter than the longest sentence in a mini-batch, we just use a padding value (here: 1) to fill the matrix.\n",
        "\n",
        "In our computation, we should **ignore** the padding positions (e.g. mask them out). Paddings should not contribute to the loss.\n",
        "\n",
        "#### Mini-batch feed\n",
        "We will now code a `get_minibatch` function that will replace our `get_example` function, and returns a mini-batch of the requested size."
      ]
    },
    {
      "metadata": {
        "id": "IoAE2JBiXJ3P",
        "colab_type": "code",
        "colab": {}
      },
      "cell_type": "code",
      "source": [
        "def get_minibatch(data, batch_size=25, shuffle=True):\n",
        "  \"\"\"Return minibatches, optional shuffling\"\"\"\n",
        "  \n",
        "  if shuffle:\n",
        "    print(\"Shuffling training data\")\n",
        "    random.shuffle(data)  # shuffle training data each epoch\n",
        "  \n",
        "  batch = []\n",
        "  \n",
        "  # yield minibatches\n",
        "  for example in data:\n",
        "    batch.append(example)\n",
        "    \n",
        "    if len(batch) == batch_size:\n",
        "      yield batch\n",
        "      batch = []\n",
        "      \n",
        "  # in case there is something left\n",
        "  if len(batch) > 0:\n",
        "    yield batch"
      ],
      "execution_count": 0,
      "outputs": []
    },
    {
      "metadata": {
        "id": "DwZM-XYkT8Zx",
        "colab_type": "text"
      },
      "cell_type": "markdown",
      "source": [
        "#### Pad function\n",
        "We will need a function that adds padding 1s to a sequence of IDs so that\n",
        "it becomes as long as the longest sequencen in the minibatch."
      ]
    },
    {
      "metadata": {
        "id": "sp0sK1ghw4Ft",
        "colab_type": "code",
        "outputId": "201867a3-d442-4fd7-d2d2-327dc8670b7d",
        "colab": {
          "base_uri": "https://localhost:8080/",
          "height": 34
        }
      },
      "cell_type": "code",
      "source": [
        "def pad(tokens, length, pad_value=1):\n",
        "  \"\"\"add padding 1s to a sequence to that it has the desired length\"\"\"\n",
        "  return tokens + [pad_value] * (length - len(tokens))\n",
        "\n",
        "# example\n",
        "tokens = [2, 3, 4]\n",
        "pad(tokens, 5)"
      ],
      "execution_count": 0,
      "outputs": [
        {
          "output_type": "execute_result",
          "data": {
            "text/plain": [
              "[2, 3, 4, 1, 1]"
            ]
          },
          "metadata": {
            "tags": []
          },
          "execution_count": 60
        }
      ]
    },
    {
      "metadata": {
        "id": "SL2iixMYUgfh",
        "colab_type": "text"
      },
      "cell_type": "markdown",
      "source": [
        "#### New prepare function\n",
        "\n",
        "We will also need a new function that turns a mini-batch into PyTorch tensors."
      ]
    },
    {
      "metadata": {
        "id": "ZID0cqozWks8",
        "colab_type": "code",
        "colab": {}
      },
      "cell_type": "code",
      "source": [
        "def prepare_minibatch(mb, vocab):\n",
        "  \"\"\"\n",
        "  Minibatch is a list of examples.\n",
        "  This function converts words to IDs and returns\n",
        "  torch tensors to be used as input/targets.\n",
        "  \"\"\"\n",
        "  batch_size = len(mb)\n",
        "  maxlen = max([len(ex.tokens) for ex in mb])\n",
        "  \n",
        "  # vocab returns 0 if the word is not there\n",
        "  x = [pad([vocab.w2i.get(t, 0) for t in ex.tokens], maxlen) for ex in mb]\n",
        "  \n",
        "  x = torch.LongTensor(x)\n",
        "  x = x.to(device)\n",
        "  \n",
        "  y = [ex.label for ex in mb]\n",
        "  y = torch.LongTensor(y)\n",
        "  y = y.to(device)\n",
        "  \n",
        "  return x, y"
      ],
      "execution_count": 0,
      "outputs": []
    },
    {
      "metadata": {
        "id": "OwDAtCv1x2hB",
        "colab_type": "code",
        "outputId": "8f190a4e-d4d0-47d5-d0c9-aae2c7bc0f90",
        "colab": {
          "base_uri": "https://localhost:8080/",
          "height": 88
        }
      },
      "cell_type": "code",
      "source": [
        "# Let's test our new function.\n",
        "# This should give us 3 examples.\n",
        "mb = next(get_minibatch(train_data, batch_size=3, shuffle=False))\n",
        "for ex in mb:\n",
        "  print(ex)"
      ],
      "execution_count": 0,
      "outputs": [
        {
          "output_type": "stream",
          "text": [
            "Example(tokens=['The', 'Rock', 'is', 'destined', 'to', 'be', 'the', '21st', 'Century', \"'s\", 'new', '``', 'Conan', \"''\", 'and', 'that', 'he', \"'s\", 'going', 'to', 'make', 'a', 'splash', 'even', 'greater', 'than', 'Arnold', 'Schwarzenegger', ',', 'Jean-Claud', 'Van', 'Damme', 'or', 'Steven', 'Segal', '.'], tree=Tree('3', [Tree('2', [Tree('2', ['The']), Tree('2', ['Rock'])]), Tree('4', [Tree('3', [Tree('2', ['is']), Tree('4', [Tree('2', ['destined']), Tree('2', [Tree('2', [Tree('2', [Tree('2', [Tree('2', ['to']), Tree('2', [Tree('2', ['be']), Tree('2', [Tree('2', ['the']), Tree('2', [Tree('2', ['21st']), Tree('2', [Tree('2', [Tree('2', ['Century']), Tree('2', [\"'s\"])]), Tree('2', [Tree('3', ['new']), Tree('2', [Tree('2', ['``']), Tree('2', ['Conan'])])])])])])])]), Tree('2', [\"''\"])]), Tree('2', ['and'])]), Tree('3', [Tree('2', ['that']), Tree('3', [Tree('2', ['he']), Tree('3', [Tree('2', [\"'s\"]), Tree('3', [Tree('2', ['going']), Tree('3', [Tree('2', ['to']), Tree('4', [Tree('3', [Tree('2', ['make']), Tree('3', [Tree('3', [Tree('2', ['a']), Tree('3', ['splash'])]), Tree('2', [Tree('2', ['even']), Tree('3', ['greater'])])])]), Tree('2', [Tree('2', ['than']), Tree('2', [Tree('2', [Tree('2', [Tree('2', [Tree('1', [Tree('2', ['Arnold']), Tree('2', ['Schwarzenegger'])]), Tree('2', [','])]), Tree('2', [Tree('2', ['Jean-Claud']), Tree('2', [Tree('2', ['Van']), Tree('2', ['Damme'])])])]), Tree('2', ['or'])]), Tree('2', [Tree('2', ['Steven']), Tree('2', ['Segal'])])])])])])])])])])])])]), Tree('2', ['.'])])]), label=3, transitions=[0, 0, 1, 0, 0, 0, 0, 0, 0, 0, 0, 1, 0, 0, 0, 1, 1, 1, 1, 1, 1, 1, 0, 1, 0, 1, 0, 0, 0, 0, 0, 0, 0, 0, 1, 0, 0, 1, 1, 1, 0, 0, 0, 1, 0, 1, 0, 0, 0, 1, 1, 1, 0, 1, 0, 0, 1, 1, 1, 1, 1, 1, 1, 1, 1, 1, 1, 1, 0, 1, 1])\n",
            "Example(tokens=['The', 'gorgeously', 'elaborate', 'continuation', 'of', '``', 'The', 'Lord', 'of', 'the', 'Rings', \"''\", 'trilogy', 'is', 'so', 'huge', 'that', 'a', 'column', 'of', 'words', 'can', 'not', 'adequately', 'describe', 'co-writer/director', 'Peter', 'Jackson', \"'s\", 'expanded', 'vision', 'of', 'J.R.R.', 'Tolkien', \"'s\", 'Middle-earth', '.'], tree=Tree('4', [Tree('4', [Tree('4', [Tree('2', ['The']), Tree('4', [Tree('3', ['gorgeously']), Tree('3', [Tree('2', ['elaborate']), Tree('2', ['continuation'])])])]), Tree('2', [Tree('2', [Tree('2', ['of']), Tree('2', ['``'])]), Tree('2', [Tree('2', ['The']), Tree('2', [Tree('2', [Tree('2', ['Lord']), Tree('2', [Tree('2', ['of']), Tree('2', [Tree('2', ['the']), Tree('2', ['Rings'])])])]), Tree('2', [Tree('2', [\"''\"]), Tree('2', ['trilogy'])])])])])]), Tree('2', [Tree('3', [Tree('2', [Tree('2', ['is']), Tree('2', [Tree('2', ['so']), Tree('2', ['huge'])])]), Tree('2', [Tree('2', ['that']), Tree('3', [Tree('2', [Tree('2', [Tree('2', ['a']), Tree('2', ['column'])]), Tree('2', [Tree('2', ['of']), Tree('2', ['words'])])]), Tree('2', [Tree('2', [Tree('2', [Tree('2', ['can']), Tree('1', ['not'])]), Tree('3', ['adequately'])]), Tree('2', [Tree('2', ['describe']), Tree('2', [Tree('3', [Tree('2', [Tree('2', ['co-writer/director']), Tree('2', [Tree('2', ['Peter']), Tree('3', [Tree('2', ['Jackson']), Tree('2', [\"'s\"])])])]), Tree('3', [Tree('2', ['expanded']), Tree('2', ['vision'])])]), Tree('2', [Tree('2', ['of']), Tree('2', [Tree('2', [Tree('2', ['J.R.R.']), Tree('2', [Tree('2', ['Tolkien']), Tree('2', [\"'s\"])])]), Tree('2', ['Middle-earth'])])])])])])])])]), Tree('2', ['.'])])]), label=4, transitions=[0, 0, 0, 0, 1, 1, 1, 0, 0, 1, 0, 0, 0, 0, 0, 1, 1, 1, 0, 0, 1, 1, 1, 1, 1, 0, 0, 0, 1, 1, 0, 0, 0, 1, 0, 0, 1, 1, 0, 0, 1, 0, 1, 0, 0, 0, 0, 0, 1, 1, 1, 0, 0, 1, 1, 0, 0, 0, 0, 1, 1, 0, 1, 1, 1, 1, 1, 1, 1, 1, 0, 1, 1])\n",
            "Example(tokens=['Singer/composer', 'Bryan', 'Adams', 'contributes', 'a', 'slew', 'of', 'songs', '--', 'a', 'few', 'potential', 'hits', ',', 'a', 'few', 'more', 'simply', 'intrusive', 'to', 'the', 'story', '--', 'but', 'the', 'whole', 'package', 'certainly', 'captures', 'the', 'intended', ',', 'er', ',', 'spirit', 'of', 'the', 'piece', '.'], tree=Tree('3', [Tree('3', [Tree('2', [Tree('2', [Tree('2', [Tree('2', [Tree('2', ['Singer/composer']), Tree('2', [Tree('2', ['Bryan']), Tree('2', ['Adams'])])]), Tree('2', [Tree('2', ['contributes']), Tree('2', [Tree('2', [Tree('2', ['a']), Tree('2', ['slew'])]), Tree('2', [Tree('2', ['of']), Tree('2', ['songs'])])])])]), Tree('2', [Tree('2', ['--']), Tree('2', [Tree('2', [Tree('2', [Tree('2', ['a']), Tree('2', [Tree('2', ['few']), Tree('3', ['potential'])])]), Tree('2', [Tree('2', [Tree('2', ['hits']), Tree('2', [','])]), Tree('2', [Tree('2', [Tree('2', ['a']), Tree('2', ['few'])]), Tree('1', [Tree('1', [Tree('2', ['more']), Tree('1', [Tree('2', ['simply']), Tree('2', ['intrusive'])])]), Tree('2', [Tree('2', ['to']), Tree('2', [Tree('2', ['the']), Tree('2', ['story'])])])])])])]), Tree('2', ['--'])])])]), Tree('2', ['but'])]), Tree('3', [Tree('4', [Tree('2', ['the']), Tree('3', [Tree('2', ['whole']), Tree('2', ['package'])])]), Tree('2', [Tree('3', ['certainly']), Tree('3', [Tree('2', ['captures']), Tree('2', [Tree('1', [Tree('2', ['the']), Tree('2', [Tree('2', [Tree('2', ['intended']), Tree('2', [Tree('2', [',']), Tree('2', [Tree('2', ['er']), Tree('2', [','])])])]), Tree('3', ['spirit'])])]), Tree('2', [Tree('2', ['of']), Tree('2', [Tree('2', ['the']), Tree('2', ['piece'])])])])])])])]), Tree('2', ['.'])]), label=3, transitions=[0, 0, 0, 1, 1, 0, 0, 0, 1, 0, 0, 1, 1, 1, 1, 0, 0, 0, 0, 1, 1, 0, 0, 1, 0, 0, 1, 0, 0, 0, 1, 1, 0, 0, 0, 1, 1, 1, 1, 1, 1, 0, 1, 1, 1, 0, 1, 0, 0, 0, 1, 1, 0, 0, 0, 0, 0, 0, 0, 1, 1, 1, 0, 1, 1, 0, 0, 0, 1, 1, 1, 1, 1, 1, 1, 0, 1])\n"
          ],
          "name": "stdout"
        }
      ]
    },
    {
      "metadata": {
        "id": "dg8zEK8zyUCH",
        "colab_type": "code",
        "outputId": "e056754d-8216-4b1f-d815-f2fa85924c31",
        "colab": {
          "base_uri": "https://localhost:8080/",
          "height": 255
        }
      },
      "cell_type": "code",
      "source": [
        "# We should find 1s at the end where padding is.\n",
        "x, y = prepare_minibatch(mb, v)\n",
        "print(\"x\", x)\n",
        "print(\"y\", y)"
      ],
      "execution_count": 0,
      "outputs": [
        {
          "output_type": "stream",
          "text": [
            "x tensor([[   23,  1414,    11,  8222,     6,    27,     4,  2826,  3764,    21,\n",
            "            92,  5233,  8558, 15010,     5,    16,    53,    21,   183,     6,\n",
            "           107,     8,  7409,   148,  1552,    97,  6000, 10464,     2,     0,\n",
            "          2740, 15451,    33,  4008, 12925,     3,     1,     1,     1],\n",
            "        [   23, 15300,  6665,  8307,     7,  5233,    23,  1383,     7,     4,\n",
            "          4884, 15010,  8681,    11,    59,   933,    16,     8,  3045,     7,\n",
            "           566,    42,    36,  7800,  2886, 20302,  1433,  1977,    21,  4360,\n",
            "          2274,     7, 15256, 10099,    21, 15561,     3,     1,     1],\n",
            "        [    0,  5314,  3878,  7735,     8,  9726,     7,  1261,   158,     8,\n",
            "           219,  1060,  2187,     2,     8,   219,    50,   688, 11605,     6,\n",
            "             4,   414,   158,    43,     4,   494,  1568,  1214,  6985,     4,\n",
            "          2243,     2,  5986,     2,  2320,     7,     4,   982,     3]],\n",
            "       device='cuda:0')\n",
            "y tensor([3, 4, 3], device='cuda:0')\n"
          ],
          "name": "stdout"
        }
      ]
    },
    {
      "metadata": {
        "id": "xYBJEoSNUwI0",
        "colab_type": "text"
      },
      "cell_type": "markdown",
      "source": [
        "#### Evaluate (mini-batch version)\n",
        "\n",
        "We can now update our evaluation function to use minibatches"
      ]
    },
    {
      "metadata": {
        "id": "eiZZpEghzqou",
        "colab_type": "code",
        "colab": {}
      },
      "cell_type": "code",
      "source": [
        "def evaluate(model, data, \n",
        "             batch_fn=get_minibatch, prep_fn=prepare_minibatch,\n",
        "             batch_size=16):\n",
        "  \"\"\"Accuracy of a model on given data set (using minibatches)\"\"\"\n",
        "  correct = 0\n",
        "  total = 0\n",
        "  model.eval()  # disable dropout\n",
        "\n",
        "  for mb in batch_fn(data, batch_size=batch_size, shuffle=False):\n",
        "    x, targets = prep_fn(mb, model.vocab)\n",
        "    with torch.no_grad():\n",
        "      logits = model(x)\n",
        "      \n",
        "    predictions = logits.argmax(dim=-1).view(-1)\n",
        "    \n",
        "    # add the number of correct predictions to the total correct\n",
        "    correct += (predictions == targets.view(-1)).sum().item()\n",
        "    total += targets.size(0)\n",
        "\n",
        "  return correct, total, correct / float(total)"
      ],
      "execution_count": 0,
      "outputs": []
    },
    {
      "metadata": {
        "id": "23wAZomozh_2",
        "colab_type": "text"
      },
      "cell_type": "markdown",
      "source": [
        "# LSTM (Mini-batched)"
      ]
    },
    {
      "metadata": {
        "id": "B-gkPU7jzBe2",
        "colab_type": "text"
      },
      "cell_type": "markdown",
      "source": [
        "With this, let's run the LSTM again but now using minibatches!"
      ]
    },
    {
      "metadata": {
        "id": "226Xg9OPzFbA",
        "colab_type": "code",
        "outputId": "100357d8-b37f-439c-a3af-fd800921d68b",
        "colab": {
          "base_uri": "https://localhost:8080/",
          "height": 360
        }
      },
      "cell_type": "code",
      "source": [
        "lstm_model = LSTMClassifier(\n",
        "    len(v.w2i), 300, 168, len(t2i), v)\n",
        "\n",
        "# copy pre-trained vectors into embeddings table\n",
        "with torch.no_grad():\n",
        "  lstm_model.embed.weight.data.copy_(torch.from_numpy(vectors))\n",
        "  lstm_model.embed.weight.requires_grad = False\n",
        "\n",
        "print(lstm_model)\n",
        "print_parameters(lstm_model)  \n",
        "  \n",
        "lstm_model = lstm_model.to(device)\n",
        "\n",
        "batch_size = 25\n",
        "optimizer = optim.Adam(lstm_model.parameters(), lr=2e-4)\n",
        "\"\"\"\n",
        "lstm_losses, lstm_accuracies = train_model(\n",
        "    lstm_model, optimizer, num_iterations=30000, \n",
        "    print_every=250, eval_every=250,\n",
        "    batch_size=batch_size,\n",
        "    batch_fn=get_minibatch, \n",
        "    prep_fn=prepare_minibatch,\n",
        "    eval_fn=evaluate)\n",
        "    \"\"\""
      ],
      "execution_count": 0,
      "outputs": [
        {
          "output_type": "stream",
          "text": [
            "LSTMClassifier(\n",
            "  (embed): Embedding(20727, 300, padding_idx=1)\n",
            "  (rnn): MyLSTMCell(300, 168)\n",
            "  (output_layer): Sequential(\n",
            "    (0): Dropout(p=0.5)\n",
            "    (1): Linear(in_features=168, out_features=5, bias=True)\n",
            "  )\n",
            ")\n",
            "embed.weight             [20727, 300] requires_grad=False\n",
            "rnn.Wi.weight            [672, 300]   requires_grad=True\n",
            "rnn.Wi.bias              [672]        requires_grad=True\n",
            "rnn.Wh.weight            [672, 168]   requires_grad=True\n",
            "rnn.Wh.bias              [672]        requires_grad=True\n",
            "output_layer.1.weight    [5, 168]     requires_grad=True\n",
            "output_layer.1.bias      [5]          requires_grad=True\n",
            "\n",
            "Total parameters: 6534785\n",
            "\n"
          ],
          "name": "stdout"
        },
        {
          "output_type": "execute_result",
          "data": {
            "text/plain": [
              "'\\nlstm_losses, lstm_accuracies = train_model(\\n    lstm_model, optimizer, num_iterations=30000, \\n    print_every=250, eval_every=250,\\n    batch_size=batch_size,\\n    batch_fn=get_minibatch, \\n    prep_fn=prepare_minibatch,\\n    eval_fn=evaluate)\\n    '"
            ]
          },
          "metadata": {
            "tags": []
          },
          "execution_count": 65
        }
      ]
    },
    {
      "metadata": {
        "id": "ymj1rLDMvyhp",
        "colab_type": "code",
        "colab": {}
      },
      "cell_type": "code",
      "source": [
        "# plot validation accuracy  "
      ],
      "execution_count": 0,
      "outputs": []
    },
    {
      "metadata": {
        "id": "1je5S1RHVC5R",
        "colab_type": "code",
        "colab": {}
      },
      "cell_type": "code",
      "source": [
        "# plot training loss"
      ],
      "execution_count": 0,
      "outputs": []
    },
    {
      "metadata": {
        "id": "q7WjcxXntMi5",
        "colab_type": "text"
      },
      "cell_type": "markdown",
      "source": [
        "# Tree LSTM"
      ]
    },
    {
      "metadata": {
        "id": "jyj_UD6GtO5M",
        "colab_type": "text"
      },
      "cell_type": "markdown",
      "source": [
        "In the final part of this lab we will exploit the tree-structure of our data. \n",
        "Until now we only used the surface tokens, but remember that our data examples include trees with a sentiment score at every node.\n",
        "\n",
        "In particular, we will implement **N-ary Tree-LSTMs** which are described in:\n",
        "\n",
        "> Kai Sheng Tai, Richard Socher, and Christopher D. Manning. [Improved Semantic Representations From Tree-Structured Long Short-Term Memory Networks](http://aclweb.org/anthology/P/P15/P15-1150.pdf) ACL 2015.\n",
        "\n",
        "Since our trees are binary, N=2, and we can refer to these as *Binary Tree-LSTMs*.\n",
        "\n",
        "You should read this paper carefully and make sure that you understand the approach. You will also find our LSTM baseline there.\n",
        "Note however that Tree LSTMs were also invented around the same time by two other groups:\n",
        "\n",
        "> Phong Le and Willem Zuidema. [Compositional distributional semantics with long short term memory](http://anthology.aclweb.org/S/S15/S15-1002.pdf). *SEM 2015.\n",
        "\n",
        "> Xiaodan Zhu, Parinaz Sobihani,  and Hongyu Guo. [Long short-term memory over recursive structures](http://proceedings.mlr.press/v37/zhub15.pdf). ICML 2015.\n",
        "\n",
        "It is good scientific practice to cite all three papers in your report.\n",
        "\n",
        "If you study equations (9) to (14) in the paper, you will find that they are not all too different from the original LSTM that you already have.\n",
        "\n",
        "\n"
      ]
    },
    {
      "metadata": {
        "id": "1rDzvSos3JFp",
        "colab_type": "text"
      },
      "cell_type": "markdown",
      "source": [
        "## Computation\n",
        "\n",
        "Do you remember the `transitions_from_treestring` function all the way in the beginning of this lab? Every example contains a **transition sequence** made by this function. Let's look at it again:\n",
        "\n"
      ]
    },
    {
      "metadata": {
        "id": "5pg0Xumc3ZUS",
        "colab_type": "code",
        "outputId": "39d98f32-02eb-40a6-c879-8eeabcfa76af",
        "colab": {
          "base_uri": "https://localhost:8080/",
          "height": 425
        }
      },
      "cell_type": "code",
      "source": [
        "ex = next(examplereader(\"trees/dev.txt\"))\n",
        "print(TreePrettyPrinter(ex.tree))\n",
        "print(\"Transitions:\")\n",
        "print(ex.transitions)"
      ],
      "execution_count": 0,
      "outputs": [
        {
          "output_type": "stream",
          "text": [
            "              3                                                                     \n",
            "  ____________|____________________                                                  \n",
            " |                                 4                                                \n",
            " |        _________________________|______________________________________________   \n",
            " |       4                                                                        | \n",
            " |    ___|______________                                                          |  \n",
            " |   |                  4                                                         | \n",
            " |   |         _________|__________                                               |  \n",
            " |   |        |                    3                                              | \n",
            " |   |        |               _____|______________________                        |  \n",
            " |   |        |              |                            4                       | \n",
            " |   |        |              |            ________________|_______                |  \n",
            " |   |        |              |           |                        2               | \n",
            " |   |        |              |           |                 _______|___            |  \n",
            " |   |        3              |           |                |           2           | \n",
            " |   |    ____|_____         |           |                |        ___|_____      |  \n",
            " |   |   |          4        |           3                |       2         |     | \n",
            " |   |   |     _____|___     |      _____|_______         |    ___|___      |     |  \n",
            " 2   2   2    3         2    2     3             2        2   2       2     2     2 \n",
            " |   |   |    |         |    |     |             |        |   |       |     |     |  \n",
            " It  's  a  lovely     film with lovely     performances  by Buy     and Accorsi  . \n",
            "\n",
            "Transitions:\n",
            "[0, 0, 0, 0, 0, 1, 1, 0, 0, 0, 1, 0, 0, 0, 1, 0, 1, 1, 1, 1, 1, 1, 0, 1, 1]\n"
          ],
          "name": "stdout"
        }
      ]
    },
    {
      "metadata": {
        "id": "ceBFe9fU4BI_",
        "colab_type": "text"
      },
      "cell_type": "markdown",
      "source": [
        "Note that the tree is **binary**. Every node has two children, except for pre-terminal nodes.\n",
        "\n",
        "A tree like this can be described by a sequence of **SHIFT (0)** and **REDUCE (1)** actions.\n",
        "\n",
        "We can use the transitions like this to construct the tree:\n",
        "- **reverse** the sentence (a list of tokens) and call this the **buffer**\n",
        "   - the first word is now on top (last in the list), and we would get it when calling pop() on the buffer\n",
        "- create an empty list and call it the **stack**\n",
        "- iterate through the transition sequence:\n",
        "  - if it says SHIFT(0), we pop a word from the buffer, and push it to the stack\n",
        "  - if it says REDUCE(1), we pop the **top two items** from the stack, and combine them (e.g. with a tree LSTM!), creating a new node that we push back on the stack\n",
        "  \n",
        "Convince yourself that going through the transition sequence above will result in the tree that you see.\n",
        "For example, we would start by putting the following words on the stack (by shifting 5 times, starting with `It`):\n",
        "\n",
        "```\n",
        "Top of the stack:\n",
        "-----------------\n",
        "film\n",
        "lovely\n",
        "a \n",
        "'s  \n",
        "It\n",
        "```\n",
        "Now we find a REDUCE in the transition sequence, so we get the top two words (film and lovely), and combine them, so our new stack becomes:\n",
        "```\n",
        "Top of the stack:\n",
        "-----------------\n",
        "lovely film\n",
        "a \n",
        "'s  \n",
        "It\n",
        "```\n",
        "\n",
        "We will use this approach when encoding sentences with our Tree LSTM.\n",
        "Now, our sentence is a (reversed) list of word embeddings.\n",
        "When we shift, we move a word embedding to the stack.\n",
        "When we reduce, we apply a Tree LSTM to the top two vectors, and the result is a single vector that we put back on the stack.\n",
        "After going through the whole transition sequence, we will have the root node on our stack! We can use that to classify the sentence.\n",
        "\n"
      ]
    },
    {
      "metadata": {
        "id": "pDWKShm1AfmR",
        "colab_type": "text"
      },
      "cell_type": "markdown",
      "source": [
        "## Obtaining the transition sequence\n"
      ]
    },
    {
      "metadata": {
        "id": "fO7VKWVpAbWj",
        "colab_type": "text"
      },
      "cell_type": "markdown",
      "source": [
        "\n",
        "So what goes on in the `transitions_from_treestring` function?\n",
        "\n",
        "The idea ([explained in this blog post](https://devblogs.nvidia.com/recursive-neural-networks-pytorch/)) is that, if we had a tree, we could traverse through the tree, and every time that we find a node containing only a word, we output a SHIFT.\n",
        "Every time **after** we have finished visiting the children of a node, we output a REDUCE.\n",
        "(What is this tree traversal called?)\n",
        "\n",
        "However, our `transitions_from_treestring` function operates directly on the string representation. It works as follows.\n",
        "\n",
        "We start with the representation:\n",
        "\n",
        "```\n",
        "(3 (2 It) (4 (4 (2 's) (4 (3 (2 a) (4 (3 lovely) (2 film))) (3 (2 with) (4 (3 (3 lovely) (2 performances)) (2 (2 by) (2 (2 (2 Buy) (2 and)) (2 Accorsi))))))) (2 .)))\n",
        "```\n",
        "\n",
        "First we remove pre-terminal nodes (and add spaces before closing brackets):\n",
        "\n",
        "```\n",
        "(3 It (4 (4 's (4 (3 a (4 lovely film ) ) (3 with (4 (3 lovely performances ) (2 by (2 (2 Buy and )  Accorsi ) ) ) ) ) ) . ) )\n",
        "```\n",
        "\n",
        "Then we remove node labels:\n",
        "\n",
        "```\n",
        "( It ( ( 's ( ( a ( lovely film ) ) ( with ( ( lovely performances) ( by ( ( Buy and )  Accorsi ) ) ) ) ) ) . ) )\n",
        "```\n",
        "\n",
        "Then we remove opening brackets:\n",
        "\n",
        "```\n",
        "It 's a lovely film ) ) with lovely performances ) by Buy and ) Accorsi ) ) ) ) ) ) . ) )\n",
        "```\n",
        "\n",
        "Now we replace words by S (for SHIFT), and closing brackets by R (for REDUCE):\n",
        "\n",
        "```\n",
        "S S S S S R R S S S R S S S R S R R R R R R S R R\n",
        "0 0 0 0 0 1 1 0 0 0 1 0 0 0 1 0 1 1 1 1 1 1 0 1 1 \n",
        "```\n",
        "\n",
        "Et voila. We just obtained the transition sequence!"
      ]
    },
    {
      "metadata": {
        "id": "1y069gM4_v64",
        "colab_type": "code",
        "outputId": "96398131-7b89-44a2-e3b7-810aef338dba",
        "colab": {
          "base_uri": "https://localhost:8080/",
          "height": 51
        }
      },
      "cell_type": "code",
      "source": [
        "# for comparison\n",
        "seq = ex.transitions\n",
        "s = \" \".join([\"S\" if t == 0 else \"R\" for t in seq])\n",
        "print(s)\n",
        "print(\" \".join(map(str, seq)))"
      ],
      "execution_count": 0,
      "outputs": [
        {
          "output_type": "stream",
          "text": [
            "S S S S S R R S S S R S S S R S R R R R R R S R R\n",
            "0 0 0 0 0 1 1 0 0 0 1 0 0 0 1 0 1 1 1 1 1 1 0 1 1\n"
          ],
          "name": "stdout"
        }
      ]
    },
    {
      "metadata": {
        "id": "d-qOuKbDAiBn",
        "colab_type": "text"
      },
      "cell_type": "markdown",
      "source": [
        "## Coding the Tree LSTM\n",
        "\n",
        "The code below contains a Binary Tree LSTM cell.\n",
        "It is used in the TreeLSTM class below it, which in turn is used in the TreeLSTMClassifier.\n",
        "The job of the TreeLSTM class is to encode a complete sentence and return the root node.\n",
        "The job of the TreeLSTMCell is to return a new state when provided with two children (a reduce action). By repeatedly calling the TreeLSTMCell, the TreeLSTM will encode a sentence. This can be done for multiple sentences at the same time.\n",
        "\n",
        "\n",
        "#### Exercise \n",
        "Check the `forward` function and complete the Tree LSTM formulas.\n",
        "You can see that we defined a large linear layer for you, that projects the *concatenation* of the left and right child into the input gate, left forget gate, right forget gate, candidate, and output gate."
      ]
    },
    {
      "metadata": {
        "id": "J9b9mjMlN7Pb",
        "colab_type": "code",
        "colab": {}
      },
      "cell_type": "code",
      "source": [
        "class TreeLSTMCell(nn.Module):\n",
        "  \"\"\"A Binary Tree LSTM cell\"\"\"\n",
        "\n",
        "  def __init__(self, input_size, hidden_size, bias=True):\n",
        "    \"\"\"Creates the weights for this LSTM\"\"\"\n",
        "    super(TreeLSTMCell, self).__init__()\n",
        "\n",
        "    self.input_size = input_size\n",
        "    self.hidden_size = hidden_size\n",
        "    self.bias = bias\n",
        "\n",
        "    self.reduce_layer = nn.Linear(2 * hidden_size, 5 * hidden_size)\n",
        "    self.dropout_layer = nn.Dropout(p=0.25)\n",
        "\n",
        "    self.reset_parameters()\n",
        "\n",
        "  def reset_parameters(self):\n",
        "    \"\"\"This is PyTorch's default initialization method\"\"\"\n",
        "    stdv = 1.0 / math.sqrt(self.hidden_size)\n",
        "    for weight in self.parameters():\n",
        "      weight.data.uniform_(-stdv, stdv)  \n",
        "\n",
        "  def forward(self, hx_l, hx_r, mask=None):\n",
        "    \"\"\"\n",
        "    hx_l is ((batch, hidden_size), (batch, hidden_size))\n",
        "    hx_r is ((batch, hidden_size), (batch, hidden_size))    \n",
        "    \"\"\"\n",
        "    prev_h_l, prev_c_l = hx_l  # left child\n",
        "    prev_h_r, prev_c_r = hx_r  # right child\n",
        "\n",
        "    B = prev_h_l.size(0)\n",
        "\n",
        "    # we concatenate the left and right children\n",
        "    # you can also project from them separately and then sum\n",
        "    children = torch.cat([prev_h_l, prev_h_r], dim=1)\n",
        "    \n",
        "    # project the combined children into a 5D tensor for i,fl,fr,g,o\n",
        "    # this is done for speed, and you could also do it separately\n",
        "    proj = self.reduce_layer(children)  # shape: B x 5D\n",
        "\n",
        "    # each shape: B x D\n",
        "    i, f_l, f_r, g, o = torch.chunk(proj, 5, dim=-1)\n",
        "\n",
        "    # main Tree LSTM computation\n",
        "    \n",
        "    # YOUR CODE HERE\n",
        "    # You only need to complete the commented lines below.\n",
        "   \n",
        "\n",
        "    # The shape of each of these is [batch_size, hidden_size]\n",
        "\n",
        "    i = i.sigmoid()\n",
        "    f_l = f_l.sigmoid ()\n",
        "    f_r = f_r.sigmoid()\n",
        "    g = -g.tanh()\n",
        "    o = o.sigmoid()\n",
        "\n",
        "    c = i*g + f_l*prev_c_l + f_r*prev_c_r\n",
        "    h = o*c.tanh()\n",
        "    \n",
        "    return h, c\n",
        "  \n",
        "  def __repr__(self):\n",
        "    return \"{}({:d}, {:d})\".format(\n",
        "        self.__class__.__name__, self.input_size, self.hidden_size)"
      ],
      "execution_count": 0,
      "outputs": []
    },
    {
      "metadata": {
        "id": "Dj5dYSGh_643",
        "colab_type": "text"
      },
      "cell_type": "markdown",
      "source": [
        "## Explanation of the TreeLSTM class\n",
        "\n",
        "\n",
        "The code below contains the TreeLSTM class, which implements everything we need in order to encode a sentence from word embeddings. The calculations are the same as in the paper, implemented such that the class `TreeLSTMCell` above is as general as possible and only takes two children to reduce them into a parent. \n",
        "\n",
        "\n",
        "**Initialize $\\mathbf{h}$ and $\\mathbf{c}$ outside of the cell for the leaves**\n",
        "\n",
        "At the leaves of each tree the children nodes are **empty**, whereas in higher levels the nodes are binary tree nodes that *do* have a left and right child (but no input $x$). By initializing the leaf nodes outside of the cell class (`TreeLSTMCell`), we avoid if-else statements in the forward pass.\n",
        "\n",
        "The `TreeLSTM` class (among other things) pre-calculates an initial $h$ and $c$ for every word in the sentence. Since the initial left and right child are 0, the only calculations we need to do are based on $x$, and we can drop the forget gate calculation (`prev_c_l` and `prev_c_r` are zero). The calculations we do in order to initalize $h$ and $c$ are then:\n",
        "\n",
        "$$\n",
        "c_1 =  W^{(u)}x_1 \\\\\n",
        "o_1 = \\sigma (W^{(i)}x_1) \\\\\n",
        "h_1 = o_1 \\odot \\text{tanh}(c_1)$$\n",
        "*NB: note that these equations are chosen as initializations of $c$ and $h$, other initializations are possible and might work equally well.*\n",
        "\n",
        "**Sentence Representations**\n",
        "\n",
        "All our leaf nodes are now initialized, so we can start processing the sentence in its tree form. Each sentence is represented by a buffer (initially a list with a concatenation of $[h_1, c_1]$ for every word in the reversed sentence), a stack (initially an empty list) and a transition sequence. To encode our sentence, we construct the tree from its transition sequence as explained earlier. \n",
        "\n",
        "*A short example that constructs a tree:*\n",
        "\n",
        "We loop over the time dimension of the batched transition sequences (i.e. row by row), which contain values of 0's, 1's and 2's (representing SHIFT, REDUCE and padding respectively). If we have a batch of size 2 where the first example has a transition sequence given by [0, 0, 1, 0, 0, 0, 1] and the second by [0, 0, 1, 0, 0, 1], our transition batch will be given by the following two-dimensional numpy array:\n",
        "\n",
        "$$\n",
        "\\text{transitions} = \n",
        "\\begin{pmatrix}\n",
        "0 & 0\\\\ \n",
        "0 & 0\\\\ \n",
        "1 & 1\\\\ \n",
        "0 & 0\\\\ \n",
        "0 & 0\\\\ \n",
        "0 & 1\\\\ \n",
        "1 & 2\n",
        "\\end{pmatrix}\n",
        "$$\n",
        "The inner loop (`for transition, buffer, stack in zip(t_batch, buffers, stacks)`) goes over each example in the batch and updates its buffer and stack. The nested loop for this example will then do roughy the following:\n",
        "\n",
        "```\n",
        "Time = 0:  t_batch = [0, 0], the inner loop performs 2 SHIFTs. \n",
        "\n",
        "Time = 1:  t_batch = [0, 0], \"..\"\n",
        "\n",
        "Time = 2:  t_batch = [1, 1], causing the inner loop to fill the list child_l and child_r for both examples in the batch. Now the statement if child_l will return True, triggering a REDUCE action to be performed by our Tree LSTM cell with a batch size of 2. \n",
        "\n",
        "Time = 3:  t_batch = [0, 0], \"..\".\n",
        "\n",
        "Time = 4:  t_batch = [0, 0], \"..\"\n",
        "\n",
        "Time = 5:  t_batch = [0, 1], one SHIFT will be done and another REDUCE action will be performed by our Tree LSTM, this time of batch size 1.  \n",
        "\n",
        "Time = 6:  t_batch = [1, 2], triggering another REDUCE action with batch size 1.\n",
        "```\n",
        "*NB: note that this was an artificial example for the purpose of demonstrating parts of the code, the transition sequences do not necessarily represent actual trees.*\n",
        "\n",
        "**Batching and Unbatching**\n",
        "\n",
        "Within the body of the outer loop over time, we use the functions for batching and unbatching. \n",
        "\n",
        "*Batching*\n",
        "\n",
        "Before passing two lists of children to the reduce layer (an instance of `TreeLSTMCell`), we batch the children as they are at this point a list of tensors of variable length based on how many REDUCE actions there are to perform at a certain time step across the batch (let's call the length `L`). To do an efficient forward pass we want to transform the list to a pair of tensors of shape `([L, D], [L, D])`, which the function `batch` achieves. \n",
        "\n",
        "*Unbatching*\n",
        "\n",
        "In the same line where we batched the children, we unbatch the output of the forward pass to become a list of states of length `L` again. We do this because we need to loop over each example's transition at the current time step and push the children that are reduced into a parent to the stack.\n",
        "\n",
        "*The batch and unbatch functions let us switch between the \"PyTorch world\" (Tensors) and the Python world (easy to manipulate lists).*\n"
      ]
    },
    {
      "metadata": {
        "id": "5PixvTd4AqsQ",
        "colab_type": "code",
        "colab": {}
      },
      "cell_type": "code",
      "source": [
        "# Helper functions for batching and unbatching states\n",
        "# For speed we want to combine computations by batching, but \n",
        "# for processing logic we want to turn the output into lists again\n",
        "# to easily manipulate.\n",
        "\n",
        "def batch(states):\n",
        "  \"\"\"\n",
        "  Turns a list of states into a single tensor for fast processing. \n",
        "  This function also chunks (splits) each state into a (h, c) pair\"\"\"\n",
        "  return torch.cat(states, 0).chunk(2, 1)\n",
        "\n",
        "def unbatch(state):\n",
        "  \"\"\"\n",
        "  Turns a tensor back into a list of states.\n",
        "  First, (h, c) are merged into a single state.\n",
        "  Then the result is split into a list of sentences.\n",
        "  \"\"\"\n",
        "  return torch.split(torch.cat(state, 1), 1, 0)"
      ],
      "execution_count": 0,
      "outputs": []
    },
    {
      "metadata": {
        "id": "CynltDasaLPt",
        "colab_type": "text"
      },
      "cell_type": "markdown",
      "source": [
        "Take some time to understand the class below, having read the explanation above."
      ]
    },
    {
      "metadata": {
        "id": "rQOqMXG4gX5G",
        "colab_type": "code",
        "colab": {}
      },
      "cell_type": "code",
      "source": [
        "class TreeLSTM(nn.Module):\n",
        "  \"\"\"Encodes a sentence using a TreeLSTMCell\"\"\"\n",
        "\n",
        "  def __init__(self, input_size, hidden_size, bias=True):\n",
        "    \"\"\"Creates the weights for this LSTM\"\"\"\n",
        "    super(TreeLSTM, self).__init__()\n",
        "\n",
        "    self.input_size = input_size\n",
        "    self.hidden_size = hidden_size\n",
        "    self.bias = bias\n",
        "    self.reduce = TreeLSTMCell(input_size, hidden_size)\n",
        "\n",
        "    # project word to initial c\n",
        "    self.proj_x = nn.Linear(input_size, hidden_size)\n",
        "    self.proj_x_gate = nn.Linear(input_size, hidden_size)\n",
        "    \n",
        "    self.buffers_dropout = nn.Dropout(p=0.5)\n",
        "\n",
        "  def forward(self, x, transitions):\n",
        "    \"\"\"\n",
        "    WARNING: assuming x is reversed!\n",
        "    :param x: word embeddings [B, T, E]\n",
        "    :param transitions: [2T-1, B]\n",
        "    :return: root states\n",
        "    \"\"\"\n",
        "\n",
        "    B = x.size(0)  # batch size\n",
        "    T = x.size(1)  # time\n",
        "\n",
        "    # compute an initial c and h for each word\n",
        "    # Note: this corresponds to input x in the Tai et al. Tree LSTM paper.\n",
        "    # We do not handle input x in the TreeLSTMCell itself.\n",
        "    buffers_c = self.proj_x(x)\n",
        "    buffers_h = buffers_c.tanh()\n",
        "    buffers_h_gate = self.proj_x_gate(x).sigmoid()\n",
        "    buffers_h = buffers_h_gate * buffers_h\n",
        "    \n",
        "    # concatenate h and c for each word\n",
        "    buffers = torch.cat([buffers_h, buffers_c], dim=-1)\n",
        "\n",
        "    D = buffers.size(-1) // 2\n",
        "\n",
        "    # we turn buffers into a list of stacks (1 stack for each sentence)\n",
        "    # first we split buffers so that it is a list of sentences (length B)\n",
        "    # then we split each sentence to be a list of word vectors\n",
        "    buffers = buffers.split(1, dim=0)  # Bx[T, 2D]\n",
        "    buffers = [list(b.squeeze(0).split(1, dim=0)) for b in buffers]  # BxTx[2D]\n",
        "\n",
        "    # create B empty stacks\n",
        "    stacks = [[] for _ in buffers]\n",
        "\n",
        "    # t_batch holds 1 transition for each sentence\n",
        "    for t_batch in transitions:\n",
        "\n",
        "      child_l = []  # contains the left child for each sentence with reduce action\n",
        "      child_r = []  # contains the corresponding right child\n",
        "\n",
        "      # iterate over sentences in the batch\n",
        "      # each has a transition t, a buffer and a stack\n",
        "      for transition, buffer, stack in zip(t_batch, buffers, stacks):\n",
        "        if transition == SHIFT:\n",
        "          stack.append(buffer.pop())\n",
        "        elif transition == REDUCE:\n",
        "          assert len(stack) >= 2, \\\n",
        "            \"Stack too small! Should not happen with valid transition sequences\"\n",
        "          child_r.append(stack.pop())  # right child is on top\n",
        "          child_l.append(stack.pop())\n",
        "\n",
        "      # if there are sentences with reduce transition, perform them batched\n",
        "      if child_l:\n",
        "        reduced = iter(unbatch(self.reduce(batch(child_l), batch(child_r))))\n",
        "        for transition, stack in zip(t_batch, stacks):\n",
        "          if transition == REDUCE:\n",
        "            stack.append(next(reduced))\n",
        "\n",
        "    final = [stack.pop().chunk(2, -1)[0] for stack in stacks]\n",
        "    final = torch.cat(final, dim=0)  # tensor [B, D]\n",
        "\n",
        "    return final"
      ],
      "execution_count": 0,
      "outputs": []
    },
    {
      "metadata": {
        "id": "s4EzbVzqaXkw",
        "colab_type": "text"
      },
      "cell_type": "markdown",
      "source": [
        "Just like the LSTM before, we will need an extra class that does the classifications."
      ]
    },
    {
      "metadata": {
        "id": "nLxpYRvtQKge",
        "colab_type": "code",
        "colab": {}
      },
      "cell_type": "code",
      "source": [
        "class TreeLSTMClassifier(nn.Module):\n",
        "  \"\"\"Encodes sentence with a TreeLSTM and projects final hidden state\"\"\"\n",
        "\n",
        "  def __init__(self, vocab_size, embedding_dim, hidden_dim, output_dim, vocab):\n",
        "    super(TreeLSTMClassifier, self).__init__()\n",
        "    self.vocab = vocab\n",
        "    self.hidden_dim = hidden_dim\n",
        "    self.embed = nn.Embedding(vocab_size, embedding_dim, padding_idx=1)\n",
        "    self.treelstm = TreeLSTM(embedding_dim, hidden_dim)\n",
        "    self.output_layer = nn.Sequential(     \n",
        "        nn.Dropout(p=0.5),\n",
        "        nn.Linear(hidden_dim, output_dim, bias=True)\n",
        "    )\n",
        "\n",
        "  def forward(self, x):\n",
        "    \n",
        "    # x is a pair here of words and transitions; we unpack it here.\n",
        "    # x is batch-major: [B, T], transitions is time major [2T-1, B]\n",
        "    x, transitions = x\n",
        "    emb = self.embed(x)\n",
        "    \n",
        "    # we use the root/top state of the Tree LSTM to classify the sentence\n",
        "    root_states = self.treelstm(emb, transitions)\n",
        "\n",
        "    # we use the last hidden state to classify the sentence\n",
        "    logits = self.output_layer(root_states)\n",
        "    return logits"
      ],
      "execution_count": 0,
      "outputs": []
    },
    {
      "metadata": {
        "id": "gh9RbhGwaiLg",
        "colab_type": "text"
      },
      "cell_type": "markdown",
      "source": [
        "## Special prepare function for Tree LSTM\n",
        "\n",
        "We need yet another prepare function. For our implementation our sentences to be *reversed*. We will do that here."
      ]
    },
    {
      "metadata": {
        "id": "DiqH-_2xdm9H",
        "colab_type": "code",
        "colab": {}
      },
      "cell_type": "code",
      "source": [
        "def prepare_treelstm_minibatch(mb, vocab):\n",
        "  \"\"\"\n",
        "  Returns sentences reversed (last word first)\n",
        "  Returns transitions together with the sentences.  \n",
        "  \"\"\"\n",
        "  batch_size = len(mb)\n",
        "  maxlen = max([len(ex.tokens) for ex in mb])\n",
        "    \n",
        "  # vocab returns 0 if the word is not there\n",
        "  # NOTE: reversed sequence!\n",
        "  x = [pad([vocab.w2i.get(t, 0) for t in ex.tokens], maxlen)[::-1] for ex in mb]\n",
        "  \n",
        "  x = torch.LongTensor(x)\n",
        "  x = x.to(device)\n",
        "  \n",
        "  y = [ex.label for ex in mb]\n",
        "  y = torch.LongTensor(y)\n",
        "  y = y.to(device)\n",
        "  \n",
        "  maxlen_t = max([len(ex.transitions) for ex in mb])\n",
        "  transitions = [pad(ex.transitions, maxlen_t, pad_value=2) for ex in mb]\n",
        "  transitions = np.array(transitions)\n",
        "  transitions = transitions.T  # time-major\n",
        "  \n",
        "  return (x, transitions), y"
      ],
      "execution_count": 0,
      "outputs": []
    },
    {
      "metadata": {
        "id": "IMUsrlL9ayVe",
        "colab_type": "text"
      },
      "cell_type": "markdown",
      "source": [
        "## Training"
      ]
    },
    {
      "metadata": {
        "id": "IpOYUdg2D3v0",
        "colab_type": "code",
        "colab": {}
      },
      "cell_type": "code",
      "source": [
        "# Now let's train the Tree LSTM!\n",
        "\n",
        "tree_model = TreeLSTMClassifier(\n",
        "    len(v.w2i), 300, 150, len(t2i), v)\n",
        "\n",
        "with torch.no_grad():\n",
        "  tree_model.embed.weight.data.copy_(torch.from_numpy(vectors))\n",
        "  tree_model.embed.weight.requires_grad = False\n",
        "  \n",
        "def do_train(model):\n",
        "  \n",
        "  print(model)\n",
        "  print_parameters(model)\n",
        "\n",
        "  model = model.to(device)\n",
        "\n",
        "  optimizer = optim.Adam(model.parameters(), lr=2e-4)\n",
        "  \n",
        "  return train_model(\n",
        "      model, optimizer, num_iterations=30000, \n",
        "      print_every=250, eval_every=250,\n",
        "      prep_fn=prepare_treelstm_minibatch,\n",
        "      eval_fn=evaluate,\n",
        "      batch_fn=get_minibatch,\n",
        "      batch_size=25, eval_batch_size=25)\n",
        "  \n",
        "#results = do_train(tree_model)"
      ],
      "execution_count": 0,
      "outputs": []
    },
    {
      "metadata": {
        "id": "DHcHHaLtguUg",
        "colab_type": "code",
        "outputId": "0b74867d-f2ee-4178-f41d-4d393ca7a632",
        "colab": {
          "base_uri": "https://localhost:8080/",
          "height": 34
        }
      },
      "cell_type": "code",
      "source": [
        "# plot\n",
        "\"\"\"plt.plot(results[0])\n",
        "\"\"\""
      ],
      "execution_count": 0,
      "outputs": [
        {
          "output_type": "execute_result",
          "data": {
            "text/plain": [
              "'plt.plot(results[0])\\n'"
            ]
          },
          "metadata": {
            "tags": []
          },
          "execution_count": 76
        }
      ]
    },
    {
      "metadata": {
        "id": "yOBtCZM7VAPt",
        "colab_type": "code",
        "colab": {}
      },
      "cell_type": "code",
      "source": [
        "#plt.plot(results[1])"
      ],
      "execution_count": 0,
      "outputs": []
    },
    {
      "metadata": {
        "id": "44M2HoEzeeN1",
        "colab_type": "code",
        "colab": {}
      },
      "cell_type": "code",
      "source": [
        "def examplereader(path, lower=False, subtrees=False):\n",
        "  \"\"\"Returns all examples in a file one by one.\"\"\"\n",
        "  for line in filereader(path):\n",
        "    line = line.lower() if lower else line\n",
        "    tree = Tree.fromstring(line)  # use NLTK's Tree\n",
        "    if subtrees:\n",
        "        for sub_tree in tree.subtrees():\n",
        "            parsed_sub_tree_string = ' '.join(str(sub_tree).split()) \n",
        "            label = int(parsed_sub_tree_string[1])\n",
        "            trans = transitions_from_treestring(parsed_sub_tree_string)\n",
        "            tokens = tokens_from_treestring(parsed_sub_tree_string)\n",
        "            yield Example(tokens=tokens, tree=sub_tree, label=label, transitions=trans) \n",
        "    else:\n",
        "        tokens = tokens_from_treestring(line)\n",
        "        label = int(line[1])\n",
        "        trans = transitions_from_treestring(line)\n",
        "        yield Example(tokens=tokens, tree=tree, label=label, transitions=trans)\n",
        "\n",
        "#train_data_subtrees_incl = list(examplereader(\"trees/train.txt\", lower=LOWER, subtrees=True))\n"
      ],
      "execution_count": 0,
      "outputs": []
    },
    {
      "metadata": {
        "id": "uFKzqksFnW9P",
        "colab_type": "code",
        "colab": {}
      },
      "cell_type": "code",
      "source": [
        "def sentence_length_evaluate(model, data, prep_fn=prepare_example, **kwargs):\n",
        "  \"\"\"Accuracy of a model on given data set.\"\"\"\n",
        "  correct = 0\n",
        "  total = 0\n",
        "  model.eval()  # disable dropout (explained later)\n",
        "  length_correct={}\n",
        "  length_total={}\n",
        "  max_len = max([len(ex.tokens) for ex in data])\n",
        "  \n",
        "  for i in range(max_len+1):\n",
        "    length_correct[i]=0\n",
        "    length_total[i]=1\n",
        "  for example in data:\n",
        "    length_sentence=len(example.tokens)\n",
        "    # convert the example input and label to PyTorch tensors\n",
        "    x, target = prep_fn(example, model.vocab)\n",
        "    \n",
        "    # forward pass\n",
        "    # get the output from the neural network for input x\n",
        "    with torch.no_grad():\n",
        "      logits = model(x)\n",
        "    \n",
        "    # get out the prediction\n",
        "    prediction = logits.argmax(dim=-1)\n",
        "    \n",
        "    # add the number of correct predictions to the total correct\n",
        "    length_correct[length_sentence] += (prediction == target).sum().item()\n",
        " \n",
        "    length_total[length_sentence] += 1\n",
        "  length_accuracy={} \n",
        "  for i in length_correct.items():\n",
        "\n",
        "    length_accuracy[i[0]]=length_correct[i[0]]/length_total[i[0]]\n",
        "  return length_accuracy"
      ],
      "execution_count": 0,
      "outputs": []
    },
    {
      "metadata": {
        "id": "UkS7PpGrWDK6",
        "colab_type": "code",
        "colab": {}
      },
      "cell_type": "code",
      "source": [
        "def sentence_length_batch_evaluate(model, data, batch_fn=get_minibatch, prep_fn=prepare_minibatch,batch_size=1):\n",
        "  \"\"\"Accuracy of a model on given data set.\"\"\"\n",
        "  correct = 0\n",
        "  total = 0\n",
        "  model.eval()  # disable dropout (explained later)\n",
        "  length_correct={}\n",
        "  length_total={}\n",
        "  max_len = max([len(ex.tokens) for ex in data])\n",
        "  \n",
        "  for i in range(max_len+1):\n",
        "    length_correct[i]=0\n",
        "    length_total[i]=1\n",
        "    \n",
        "    \n",
        "  for mb in batch_fn(data, batch_size=batch_size, shuffle=False):\n",
        "\n",
        "    x, targets = prep_fn(mb, model.vocab)\n",
        "    with torch.no_grad():\n",
        "      logits = model(x)\n",
        "      \n",
        "    predictions = logits.argmax(dim=-1).view(-1)\n",
        "    length_sentence=x[0].shape[0]\n",
        "    # add the number of correct predictions to the total correct\n",
        "    correct_temp=(predictions == targets.view(-1)).sum().item()\n",
        "    length_correct[length_sentence] += correct_temp\n",
        "    length_total[length_sentence] += targets.size(0)\n",
        "    \n",
        "   \n",
        "  length_accuracy={} \n",
        "  for i in length_correct.items():\n",
        "    length_accuracy[i[0]]=length_correct[i[0]]/length_total[i[0]]\n",
        "  return length_accuracy"
      ],
      "execution_count": 0,
      "outputs": []
    },
    {
      "metadata": {
        "id": "Ae7HCCy-lt10",
        "colab_type": "code",
        "colab": {}
      },
      "cell_type": "code",
      "source": [
        "def evaluate_batch_signtest(model, data, \n",
        "             batch_fn=get_minibatch, prep_fn=prepare_minibatch,\n",
        "             batch_size=12):\n",
        "  \"\"\"Accuracy of a model on given data set (using minibatches)\"\"\"\n",
        "  correct = 0\n",
        "  total = 0\n",
        "  is_correct=[]\n",
        "  model.eval()  # disable dropout\n",
        "  \n",
        "  for mb in batch_fn(data, batch_size=batch_size, shuffle=False):\n",
        "    x, targets = prep_fn(mb, model.vocab)\n",
        "    with torch.no_grad():\n",
        "      logits = model(x)\n",
        "      \n",
        "    predictions = logits.argmax(dim=-1).view(-1)\n",
        "    \n",
        "    # add the number of correct predictions to the total correct\n",
        "    correct_temp=(predictions == targets.view(-1)).sum().item()\n",
        "    correct += correct_temp\n",
        "    total += targets.size(0)\n",
        "    for i in range(correct_temp):\n",
        "      is_correct.append(\"+\")\n",
        "    for i in range( targets.size(0)-correct_temp):\n",
        "      is_correct.append(\"-\")\n",
        "  return correct / float(total),is_correct"
      ],
      "execution_count": 0,
      "outputs": []
    },
    {
      "metadata": {
        "id": "4BL-Y_gckAmC",
        "colab_type": "code",
        "colab": {}
      },
      "cell_type": "code",
      "source": [
        "def signtest_evaluate(model, data, prep_fn=prepare_example, **kwargs):\n",
        "  \"\"\"Accuracy of a model on given data set.\"\"\"\n",
        "  correct = 0\n",
        "  total = 0\n",
        "  model.eval()  # disable dropout (explained later)\n",
        "  is_correct=[]\n",
        "  for example in data:\n",
        "    \n",
        "    # convert the example input and label to PyTorch tensors\n",
        "    x, target = prep_fn(example, model.vocab)\n",
        "    \n",
        "    # forward pass\n",
        "    # get the output from the neural network for input x\n",
        "    with torch.no_grad():\n",
        "      logits = model(x)\n",
        "    \n",
        "    # get out the prediction\n",
        "    prediction = logits.argmax(dim=-1)\n",
        "    \n",
        "    # add the number of correct predictions to the total correct\n",
        "    correct += (prediction == target).sum().item()\n",
        "    if prediction==target:\n",
        "      is_correct.append(\"+\")\n",
        "    else:\n",
        "      is_correct.append(\"-\")\n",
        "    total += 1\n",
        "    \n",
        "\n",
        "  return correct / float(total), is_correct"
      ],
      "execution_count": 0,
      "outputs": []
    },
    {
      "metadata": {
        "id": "DNMik0g6jWHT",
        "colab_type": "code",
        "colab": {}
      },
      "cell_type": "code",
      "source": [
        "v_old = Vocabulary()\n",
        "for data_set in (train_data,):\n",
        "  for ex in data_set:\n",
        "    for token in ex.tokens:\n",
        "      v_old.count_token(token)\n",
        "\n",
        "v_old.build()\n",
        "models={\"BOW\":BOW(len(v_old.w2i), len(t2i), vocab=v_old),\n",
        "       \"CBOW\": CBOW(len(v_old.w2i), vocab=v_old),\n",
        "       \"DeepCBOW\":DeepCBOW(len(v_old.w2i), vocab=v_old),\n",
        "       \"PTDeepCBOW\":PTDeepCBOW(len(v.w2i),v),\n",
        "       \"LSTM\":LSTMClassifier(len(v.w2i), 300, 168, len(t2i), v),\n",
        "       \"TreeLSTM\":TreeLSTMClassifier(  len(v.w2i), 300, 150, len(t2i), v)}\n",
        "def do_train_model(models, name,isAllTreeLstm=False):\n",
        "  \n",
        "  model=models[name]\n",
        "  #setting parameters\n",
        "  if name==\"LSTM\":\n",
        "    batch_fn=get_minibatch\n",
        "    prep_fn=prepare_minibatch\n",
        "    eval_fn=evaluate\n",
        "  elif name==\"TreeLSTM\":\n",
        "    prep_fn=prepare_treelstm_minibatch\n",
        "    batch_fn=get_minibatch\n",
        "    eval_fn=evaluate\n",
        "    if isAllTreeLstm:\n",
        "      train_data=list(examplereader(\"trees/train.txt\", lower=LOWER, subtrees=True))\n",
        "  else:\n",
        "    eval_fn=simple_evaluate\n",
        "    batch_fn=get_examples\n",
        "    prep_fn=prepare_example\n",
        "  \n",
        "  print(model)\n",
        "  print_parameters(model)\n",
        "\n",
        "  \n",
        "  results_for_signtest=[]\n",
        "  accuracies=[]\n",
        "  losses_plots=[]\n",
        "  accuracies_plots=[]\n",
        "  accuracies_length=[]\n",
        "  for i in range(3):\n",
        "    #re-seeding\n",
        "    torch.manual_seed(i)\n",
        "    \n",
        "    #reintialisation\n",
        "    models={\"BOW\":BOW(len(v_old.w2i), len(t2i), vocab=v_old),\n",
        "       \"CBOW\": CBOW(len(v_old.w2i), vocab=v_old),\n",
        "       \"DeepCBOW\":DeepCBOW(len(v_old.w2i), vocab=v_old),\n",
        "       \"PTDeepCBOW\":PTDeepCBOW(len(v.w2i),v),\n",
        "       \"LSTM\":LSTMClassifier(len(v.w2i), 300, 168, len(t2i), v),\n",
        "       \"TreeLSTM\":TreeLSTMClassifier(len(v.w2i), 300, 150, len(t2i), v)}\n",
        "    \n",
        "    model = models[name].to(device)\n",
        "    #things for pre-trained embeddings\n",
        "    if name in [\"PTDeepCBOW\",\"LSTM\",\"TreeLSTM\"]:\n",
        "      with torch.no_grad():\n",
        "        model.embed.weight.data.copy_(torch.from_numpy(vectors))\n",
        "        model.embed.weight.requires_grad = False\n",
        "      \n",
        "    optimizer = optim.Adam(model.parameters(), lr=2e-4)\n",
        "    \n",
        "    #training\n",
        "    losses_plot, accuracies_plot= train_model(\n",
        "        model, optimizer, num_iterations=30000, \n",
        "        print_every=500, eval_every=500,\n",
        "        prep_fn=prep_fn,\n",
        "        eval_fn=eval_fn,\n",
        "        batch_fn=batch_fn,\n",
        "        batch_size=25, eval_batch_size=25)\n",
        "    \n",
        "    #testing\n",
        "    if name in [\"TreeLSTM\"]:\n",
        "      #accuracy, results_sign= evaluate_batch_signtest(model,test_data,prep_fn=prep_fn)\n",
        "      accuracy_length=sentence_length_batch_evaluate(model,test_data,prep_fn=prep_fn)\n",
        "    else:\n",
        "      #accuracy, results_sign=signtest_evaluate(model,test_data)\n",
        "      accuracy_length=sentence_length_evaluate(model,test_data)\n",
        "    \n",
        "    #appending\n",
        "    #accuracies.append(accuracy)\n",
        "    #results_for_signtest.append(results_sign)\n",
        "    #losses_plots.append(losses_plot)\n",
        "    #accuracies_plots.append(accuracies_plot)\n",
        "    accuracies_length.append(accuracy_length)\n",
        "  #saving \n",
        "    #zip1=zip([accuracy,results_sign,losses_plot,accuracies_plot,accuracy_length],[\"accuracy\",\"result\",\"losses_plot\",\"accuracies_plot\",\"accuracies_length\"])\n",
        "    zip2=zip([accuracy_length],[\"accuracies_length\"])\n",
        "    for res,res_type in zip2:\n",
        "      np.save('/gdrive/My Drive/results_nlp_no_stopping/{} {} {}'.format(name,res_type,i),np.array(res,dtype=\"object\"))\n",
        "    \n",
        "  return accuracies_length#results_for_signtest,accuracies,losses_plots,accuracies_plots"
      ],
      "execution_count": 0,
      "outputs": []
    },
    {
      "metadata": {
        "id": "ZvGYu4w9ttSg",
        "colab_type": "code",
        "outputId": "6e057c77-a94a-4ecb-fe29-528820dff469",
        "colab": {
          "base_uri": "https://localhost:8080/",
          "height": 42840
        }
      },
      "cell_type": "code",
      "source": [
        "for name in models.keys():\n",
        "  do_train_model(models,name)\n"
      ],
      "execution_count": 0,
      "outputs": [
        {
          "output_type": "stream",
          "text": [
            "BOW(\n",
            "  (embed): Embedding(18280, 5)\n",
            ")\n",
            "bias                     [5]          requires_grad=True\n",
            "embed.weight             [18280, 5]   requires_grad=True\n",
            "\n",
            "Total parameters: 91405\n",
            "\n",
            "Shuffling training data\n",
            "Iter 500: loss=3214.1255, time=1.46s\n",
            "iter 500: dev acc=0.1835\n",
            "new highscore\n",
            "Iter 1000: loss=3227.2374, time=4.21s\n",
            "iter 1000: dev acc=0.1853\n",
            "new highscore\n",
            "Iter 1500: loss=2890.2384, time=6.95s\n",
            "iter 1500: dev acc=0.1889\n",
            "new highscore\n",
            "Iter 2000: loss=2972.2562, time=9.67s\n",
            "iter 2000: dev acc=0.1916\n",
            "new highscore\n",
            "Iter 2500: loss=2929.4952, time=12.39s\n",
            "iter 2500: dev acc=0.1898\n",
            "Iter 3000: loss=2788.0756, time=15.07s\n",
            "iter 3000: dev acc=0.1935\n",
            "new highscore\n",
            "Iter 3500: loss=2822.4701, time=17.73s\n",
            "iter 3500: dev acc=0.1944\n",
            "new highscore\n",
            "Iter 4000: loss=2805.8019, time=19.46s\n",
            "iter 4000: dev acc=0.1944\n",
            "Iter 4500: loss=2708.6091, time=21.16s\n",
            "iter 4500: dev acc=0.1953\n",
            "new highscore\n",
            "Iter 5000: loss=2567.3582, time=22.90s\n",
            "iter 5000: dev acc=0.1944\n",
            "Iter 5500: loss=2564.1562, time=24.62s\n",
            "iter 5500: dev acc=0.1935\n",
            "Iter 6000: loss=2560.2228, time=26.35s\n",
            "iter 6000: dev acc=0.1971\n",
            "new highscore\n",
            "Iter 6500: loss=2416.7504, time=28.08s\n",
            "iter 6500: dev acc=0.1962\n",
            "Iter 7000: loss=2518.6723, time=29.81s\n",
            "iter 7000: dev acc=0.1989\n",
            "new highscore\n",
            "Iter 7500: loss=2493.5520, time=31.53s\n",
            "iter 7500: dev acc=0.1971\n",
            "Iter 8000: loss=2448.3883, time=33.26s\n",
            "iter 8000: dev acc=0.1980\n",
            "Iter 8500: loss=2402.9296, time=34.99s\n",
            "iter 8500: dev acc=0.2035\n",
            "new highscore\n",
            "Shuffling training data\n",
            "Iter 9000: loss=2462.9315, time=36.72s\n",
            "iter 9000: dev acc=0.2098\n",
            "new highscore\n",
            "Iter 9500: loss=2243.3878, time=38.45s\n",
            "iter 9500: dev acc=0.2089\n",
            "Iter 10000: loss=2244.6484, time=40.19s\n",
            "iter 10000: dev acc=0.2116\n",
            "new highscore\n",
            "Iter 10500: loss=2410.3734, time=41.92s\n",
            "iter 10500: dev acc=0.2116\n",
            "Iter 11000: loss=2232.8538, time=43.67s\n",
            "iter 11000: dev acc=0.2125\n",
            "new highscore\n",
            "Iter 11500: loss=2339.2171, time=45.41s\n",
            "iter 11500: dev acc=0.2125\n",
            "Iter 12000: loss=2321.5029, time=47.12s\n",
            "iter 12000: dev acc=0.2134\n",
            "new highscore\n",
            "Iter 12500: loss=2191.8899, time=48.86s\n",
            "iter 12500: dev acc=0.2162\n",
            "new highscore\n",
            "Iter 13000: loss=2309.2258, time=50.58s\n",
            "iter 13000: dev acc=0.2180\n",
            "new highscore\n",
            "Iter 13500: loss=2177.3450, time=52.30s\n",
            "iter 13500: dev acc=0.2180\n",
            "Iter 14000: loss=2231.4982, time=54.02s\n",
            "iter 14000: dev acc=0.2207\n",
            "new highscore\n",
            "Iter 14500: loss=2235.1971, time=55.75s\n",
            "iter 14500: dev acc=0.2207\n",
            "Iter 15000: loss=2299.6215, time=57.46s\n",
            "iter 15000: dev acc=0.2225\n",
            "new highscore\n",
            "Iter 15500: loss=2317.3692, time=59.18s\n",
            "iter 15500: dev acc=0.2207\n",
            "Iter 16000: loss=2085.0732, time=60.90s\n",
            "iter 16000: dev acc=0.2252\n",
            "new highscore\n",
            "Iter 16500: loss=2270.8677, time=62.64s\n",
            "iter 16500: dev acc=0.2243\n",
            "Iter 17000: loss=2258.0666, time=64.36s\n",
            "iter 17000: dev acc=0.2243\n",
            "Shuffling training data\n",
            "Iter 17500: loss=2100.1076, time=66.08s\n",
            "iter 17500: dev acc=0.2243\n",
            "Iter 18000: loss=2205.4800, time=67.82s\n",
            "iter 18000: dev acc=0.2243\n",
            "Iter 18500: loss=2166.5627, time=69.56s\n",
            "iter 18500: dev acc=0.2252\n",
            "Iter 19000: loss=2179.1605, time=71.29s\n",
            "iter 19000: dev acc=0.2262\n",
            "new highscore\n",
            "Iter 19500: loss=2054.9884, time=73.08s\n",
            "iter 19500: dev acc=0.2271\n",
            "new highscore\n",
            "Iter 20000: loss=2153.9995, time=74.81s\n",
            "iter 20000: dev acc=0.2271\n",
            "Iter 20500: loss=2333.5856, time=76.52s\n",
            "iter 20500: dev acc=0.2252\n",
            "Iter 21000: loss=1927.6979, time=78.25s\n",
            "iter 21000: dev acc=0.2262\n",
            "Iter 21500: loss=2048.9542, time=79.98s\n",
            "iter 21500: dev acc=0.2262\n",
            "Iter 22000: loss=2058.0625, time=81.69s\n",
            "iter 22000: dev acc=0.2271\n",
            "Iter 22500: loss=2133.0024, time=83.41s\n",
            "iter 22500: dev acc=0.2271\n",
            "Iter 23000: loss=2339.7191, time=85.13s\n",
            "iter 23000: dev acc=0.2243\n",
            "Iter 23500: loss=2004.0162, time=86.85s\n",
            "iter 23500: dev acc=0.2243\n",
            "Iter 24000: loss=2002.8502, time=88.57s\n",
            "iter 24000: dev acc=0.2252\n",
            "Iter 24500: loss=2084.7525, time=91.06s\n",
            "iter 24500: dev acc=0.2234\n",
            "Iter 25000: loss=2111.6779, time=93.80s\n",
            "iter 25000: dev acc=0.2234\n",
            "Iter 25500: loss=2113.3403, time=96.52s\n",
            "iter 25500: dev acc=0.2252\n",
            "Shuffling training data\n",
            "Iter 26000: loss=1929.3897, time=99.27s\n",
            "iter 26000: dev acc=0.2280\n",
            "new highscore\n",
            "Iter 26500: loss=2084.0195, time=101.97s\n",
            "iter 26500: dev acc=0.2280\n",
            "Iter 27000: loss=2104.2431, time=104.69s\n",
            "iter 27000: dev acc=0.2280\n",
            "Iter 27500: loss=2059.1904, time=107.42s\n",
            "iter 27500: dev acc=0.2271\n",
            "Iter 28000: loss=2045.2003, time=110.15s\n",
            "iter 28000: dev acc=0.2289\n",
            "new highscore\n",
            "Iter 28500: loss=1895.9027, time=112.86s\n",
            "iter 28500: dev acc=0.2271\n",
            "Iter 29000: loss=2166.6620, time=115.60s\n",
            "iter 29000: dev acc=0.2271\n",
            "Iter 29500: loss=2004.4143, time=118.30s\n",
            "iter 29500: dev acc=0.2252\n",
            "Iter 30000: loss=2080.7301, time=121.03s\n",
            "iter 30000: dev acc=0.2271\n",
            "Done training\n",
            "Loading best model\n",
            "best model iter 28000: train acc=0.2495, dev acc=0.2289, test acc=0.2290\n",
            "Shuffling training data\n",
            "Iter 500: loss=2798.7608, time=1.41s\n",
            "iter 500: dev acc=0.1817\n",
            "new highscore\n",
            "Iter 1000: loss=2895.5088, time=4.10s\n",
            "iter 1000: dev acc=0.1817\n",
            "Iter 1500: loss=2716.1361, time=6.84s\n",
            "iter 1500: dev acc=0.1798\n",
            "Iter 2000: loss=2680.4822, time=9.59s\n",
            "iter 2000: dev acc=0.1807\n",
            "Iter 2500: loss=2310.3845, time=12.33s\n",
            "iter 2500: dev acc=0.1826\n",
            "new highscore\n",
            "Iter 3000: loss=2669.8382, time=15.06s\n",
            "iter 3000: dev acc=0.1880\n",
            "new highscore\n",
            "Iter 3500: loss=2673.2118, time=17.77s\n",
            "iter 3500: dev acc=0.1871\n",
            "Iter 4000: loss=2546.1651, time=20.49s\n",
            "iter 4000: dev acc=0.1880\n",
            "Iter 4500: loss=2417.8334, time=23.19s\n",
            "iter 4500: dev acc=0.1880\n",
            "Iter 5000: loss=2517.4046, time=25.91s\n",
            "iter 5000: dev acc=0.1871\n",
            "Iter 5500: loss=2511.1655, time=28.64s\n",
            "iter 5500: dev acc=0.1889\n",
            "new highscore\n",
            "Iter 6000: loss=2413.5988, time=31.38s\n",
            "iter 6000: dev acc=0.1880\n",
            "Iter 6500: loss=2333.2006, time=34.11s\n",
            "iter 6500: dev acc=0.1907\n",
            "new highscore\n",
            "Iter 7000: loss=2476.1479, time=36.85s\n",
            "iter 7000: dev acc=0.1907\n",
            "Iter 7500: loss=2372.6930, time=39.59s\n",
            "iter 7500: dev acc=0.1935\n",
            "new highscore\n",
            "Iter 8000: loss=2090.7265, time=42.33s\n",
            "iter 8000: dev acc=0.2016\n",
            "new highscore\n",
            "Iter 8500: loss=2266.5072, time=45.06s\n",
            "iter 8500: dev acc=0.2035\n",
            "new highscore\n",
            "Shuffling training data\n",
            "Iter 9000: loss=2354.2052, time=47.78s\n",
            "iter 9000: dev acc=0.2053\n",
            "new highscore\n",
            "Iter 9500: loss=2326.5987, time=50.53s\n",
            "iter 9500: dev acc=0.2044\n",
            "Iter 10000: loss=2357.9478, time=53.28s\n",
            "iter 10000: dev acc=0.2044\n",
            "Iter 10500: loss=2114.0577, time=56.01s\n",
            "iter 10500: dev acc=0.2053\n",
            "Iter 11000: loss=2290.9918, time=58.75s\n",
            "iter 11000: dev acc=0.2053\n",
            "Iter 11500: loss=2182.2579, time=61.48s\n",
            "iter 11500: dev acc=0.2035\n",
            "Iter 12000: loss=2273.6383, time=64.21s\n",
            "iter 12000: dev acc=0.2044\n",
            "Iter 12500: loss=2116.7062, time=66.95s\n",
            "iter 12500: dev acc=0.2044\n",
            "Iter 13000: loss=2182.9827, time=69.71s\n",
            "iter 13000: dev acc=0.2044\n",
            "Iter 13500: loss=2150.4972, time=72.46s\n",
            "iter 13500: dev acc=0.2071\n",
            "new highscore\n",
            "Iter 14000: loss=2225.8906, time=75.20s\n",
            "iter 14000: dev acc=0.2089\n",
            "new highscore\n",
            "Iter 14500: loss=2129.8230, time=77.93s\n",
            "iter 14500: dev acc=0.2098\n",
            "new highscore\n",
            "Iter 15000: loss=2211.2337, time=80.67s\n",
            "iter 15000: dev acc=0.2098\n",
            "Iter 15500: loss=2224.6532, time=83.40s\n",
            "iter 15500: dev acc=0.2116\n",
            "new highscore\n",
            "Iter 16000: loss=2223.0120, time=86.14s\n",
            "iter 16000: dev acc=0.2125\n",
            "new highscore\n",
            "Iter 16500: loss=2117.9409, time=88.90s\n",
            "iter 16500: dev acc=0.2153\n",
            "new highscore\n",
            "Iter 17000: loss=2144.5006, time=91.60s\n",
            "iter 17000: dev acc=0.2144\n",
            "Shuffling training data\n",
            "Iter 17500: loss=2069.1838, time=94.38s\n",
            "iter 17500: dev acc=0.2125\n",
            "Iter 18000: loss=2044.0868, time=97.12s\n",
            "iter 18000: dev acc=0.2134\n",
            "Iter 18500: loss=2079.5497, time=99.86s\n",
            "iter 18500: dev acc=0.2116\n",
            "Iter 19000: loss=2198.8788, time=102.60s\n",
            "iter 19000: dev acc=0.2134\n",
            "Iter 19500: loss=2169.1784, time=105.35s\n",
            "iter 19500: dev acc=0.2144\n",
            "Iter 20000: loss=2073.9248, time=108.10s\n",
            "iter 20000: dev acc=0.2134\n",
            "Iter 20500: loss=2109.7506, time=110.86s\n",
            "iter 20500: dev acc=0.2134\n",
            "Iter 21000: loss=1965.4444, time=113.58s\n",
            "iter 21000: dev acc=0.2125\n",
            "Iter 21500: loss=2107.3526, time=116.35s\n",
            "iter 21500: dev acc=0.2116\n",
            "Iter 22000: loss=1992.4748, time=119.11s\n",
            "iter 22000: dev acc=0.2125\n",
            "Iter 22500: loss=2120.2339, time=121.77s\n",
            "iter 22500: dev acc=0.2153\n",
            "Iter 23000: loss=2000.0339, time=124.46s\n",
            "iter 23000: dev acc=0.2144\n",
            "Iter 23500: loss=2127.0780, time=127.15s\n",
            "iter 23500: dev acc=0.2162\n",
            "new highscore\n",
            "Iter 24000: loss=1932.0895, time=129.92s\n",
            "iter 24000: dev acc=0.2153\n",
            "Iter 24500: loss=2028.9769, time=132.63s\n",
            "iter 24500: dev acc=0.2180\n",
            "new highscore\n",
            "Iter 25000: loss=2092.4402, time=135.37s\n",
            "iter 25000: dev acc=0.2171\n",
            "Iter 25500: loss=1880.2697, time=138.09s\n",
            "iter 25500: dev acc=0.2207\n",
            "new highscore\n",
            "Shuffling training data\n",
            "Iter 26000: loss=1994.1946, time=140.86s\n",
            "iter 26000: dev acc=0.2171\n",
            "Iter 26500: loss=1965.7975, time=143.61s\n",
            "iter 26500: dev acc=0.2162\n",
            "Iter 27000: loss=2032.4958, time=146.35s\n",
            "iter 27000: dev acc=0.2207\n",
            "Iter 27500: loss=1918.1379, time=149.10s\n",
            "iter 27500: dev acc=0.2225\n",
            "new highscore\n",
            "Iter 28000: loss=2031.3722, time=151.83s\n",
            "iter 28000: dev acc=0.2207\n",
            "Iter 28500: loss=1998.0323, time=154.56s\n",
            "iter 28500: dev acc=0.2189\n",
            "Iter 29000: loss=1789.0267, time=157.31s\n",
            "iter 29000: dev acc=0.2216\n",
            "Iter 29500: loss=1992.4390, time=160.03s\n",
            "iter 29500: dev acc=0.2225\n",
            "Iter 30000: loss=1980.9948, time=162.77s\n",
            "iter 30000: dev acc=0.2216\n",
            "Done training\n",
            "Loading best model\n",
            "best model iter 27500: train acc=0.2560, dev acc=0.2225, test acc=0.2235\n",
            "Shuffling training data\n",
            "Iter 500: loss=2615.7789, time=1.41s\n",
            "iter 500: dev acc=0.2252\n",
            "new highscore\n",
            "Iter 1000: loss=2686.6034, time=4.13s\n",
            "iter 1000: dev acc=0.2334\n",
            "new highscore\n",
            "Iter 1500: loss=2494.6908, time=6.85s\n",
            "iter 1500: dev acc=0.2316\n",
            "Iter 2000: loss=2477.3599, time=9.65s\n",
            "iter 2000: dev acc=0.2298\n",
            "Iter 2500: loss=2532.4450, time=12.39s\n",
            "iter 2500: dev acc=0.2325\n",
            "Iter 3000: loss=2403.5348, time=15.14s\n",
            "iter 3000: dev acc=0.2343\n",
            "new highscore\n",
            "Iter 3500: loss=2438.2192, time=17.91s\n",
            "iter 3500: dev acc=0.2316\n",
            "Iter 4000: loss=2349.5926, time=20.65s\n",
            "iter 4000: dev acc=0.2316\n",
            "Iter 4500: loss=2415.9599, time=23.40s\n",
            "iter 4500: dev acc=0.2334\n",
            "Iter 5000: loss=2421.6962, time=26.13s\n",
            "iter 5000: dev acc=0.2334\n",
            "Iter 5500: loss=2268.3497, time=28.84s\n",
            "iter 5500: dev acc=0.2371\n",
            "new highscore\n",
            "Iter 6000: loss=2382.4307, time=31.51s\n",
            "iter 6000: dev acc=0.2361\n",
            "Iter 6500: loss=2323.5457, time=34.17s\n",
            "iter 6500: dev acc=0.2334\n",
            "Iter 7000: loss=2495.3503, time=36.90s\n",
            "iter 7000: dev acc=0.2316\n",
            "Iter 7500: loss=2358.7541, time=39.62s\n",
            "iter 7500: dev acc=0.2316\n",
            "Iter 8000: loss=2530.5605, time=42.35s\n",
            "iter 8000: dev acc=0.2316\n",
            "Iter 8500: loss=2269.1031, time=45.12s\n",
            "iter 8500: dev acc=0.2334\n",
            "Shuffling training data\n",
            "Iter 9000: loss=2373.9512, time=47.86s\n",
            "iter 9000: dev acc=0.2298\n",
            "Iter 9500: loss=2305.0825, time=50.62s\n",
            "iter 9500: dev acc=0.2289\n",
            "Iter 10000: loss=2272.1030, time=53.36s\n",
            "iter 10000: dev acc=0.2334\n",
            "Iter 10500: loss=2141.6972, time=56.08s\n",
            "iter 10500: dev acc=0.2371\n",
            "Iter 11000: loss=2242.7804, time=58.82s\n",
            "iter 11000: dev acc=0.2380\n",
            "new highscore\n",
            "Iter 11500: loss=2164.1366, time=61.53s\n",
            "iter 11500: dev acc=0.2389\n",
            "new highscore\n",
            "Iter 12000: loss=2067.9611, time=64.26s\n",
            "iter 12000: dev acc=0.2389\n",
            "Iter 12500: loss=2177.4816, time=66.97s\n",
            "iter 12500: dev acc=0.2380\n",
            "Iter 13000: loss=2407.4280, time=69.72s\n",
            "iter 13000: dev acc=0.2380\n",
            "Iter 13500: loss=2219.5903, time=72.50s\n",
            "iter 13500: dev acc=0.2380\n",
            "Iter 14000: loss=2221.3434, time=75.21s\n",
            "iter 14000: dev acc=0.2380\n",
            "Iter 14500: loss=2183.2610, time=77.94s\n",
            "iter 14500: dev acc=0.2371\n",
            "Iter 15000: loss=2163.4734, time=80.64s\n",
            "iter 15000: dev acc=0.2380\n",
            "Iter 15500: loss=2293.3866, time=83.35s\n",
            "iter 15500: dev acc=0.2380\n",
            "Iter 16000: loss=2046.4868, time=86.07s\n",
            "iter 16000: dev acc=0.2416\n",
            "new highscore\n",
            "Iter 16500: loss=2245.6203, time=88.79s\n",
            "iter 16500: dev acc=0.2425\n",
            "new highscore\n",
            "Iter 17000: loss=2170.6680, time=91.52s\n",
            "iter 17000: dev acc=0.2416\n",
            "Shuffling training data\n",
            "Iter 17500: loss=2293.8241, time=94.26s\n",
            "iter 17500: dev acc=0.2443\n",
            "new highscore\n",
            "Iter 18000: loss=2001.7488, time=96.99s\n",
            "iter 18000: dev acc=0.2425\n",
            "Iter 18500: loss=2257.5300, time=99.71s\n",
            "iter 18500: dev acc=0.2425\n",
            "Iter 19000: loss=2174.8732, time=102.44s\n",
            "iter 19000: dev acc=0.2425\n",
            "Iter 19500: loss=2228.6412, time=105.17s\n",
            "iter 19500: dev acc=0.2425\n",
            "Iter 20000: loss=1986.5661, time=107.88s\n",
            "iter 20000: dev acc=0.2443\n",
            "Iter 20500: loss=2051.6345, time=110.64s\n",
            "iter 20500: dev acc=0.2425\n",
            "Iter 21000: loss=2125.4556, time=113.37s\n",
            "iter 21000: dev acc=0.2452\n",
            "new highscore\n",
            "Iter 21500: loss=2172.0708, time=116.07s\n",
            "iter 21500: dev acc=0.2416\n",
            "Iter 22000: loss=1824.4928, time=118.83s\n",
            "iter 22000: dev acc=0.2443\n",
            "Iter 22500: loss=2083.8748, time=121.53s\n",
            "iter 22500: dev acc=0.2434\n",
            "Iter 23000: loss=2043.1773, time=124.22s\n",
            "iter 23000: dev acc=0.2443\n",
            "Iter 23500: loss=1923.5604, time=126.88s\n",
            "iter 23500: dev acc=0.2461\n",
            "new highscore\n",
            "Iter 24000: loss=1910.0211, time=129.57s\n",
            "iter 24000: dev acc=0.2461\n",
            "Iter 24500: loss=2077.0003, time=132.27s\n",
            "iter 24500: dev acc=0.2480\n",
            "new highscore\n",
            "Iter 25000: loss=2188.8502, time=135.01s\n",
            "iter 25000: dev acc=0.2489\n",
            "new highscore\n",
            "Iter 25500: loss=2163.0842, time=137.74s\n",
            "iter 25500: dev acc=0.2480\n",
            "Shuffling training data\n",
            "Iter 26000: loss=2005.3176, time=140.48s\n",
            "iter 26000: dev acc=0.2480\n",
            "Iter 26500: loss=1983.9569, time=143.20s\n",
            "iter 26500: dev acc=0.2480\n",
            "Iter 27000: loss=1954.7185, time=145.90s\n",
            "iter 27000: dev acc=0.2489\n",
            "Iter 27500: loss=2004.1832, time=148.62s\n",
            "iter 27500: dev acc=0.2507\n",
            "new highscore\n",
            "Iter 28000: loss=1966.6616, time=151.36s\n",
            "iter 28000: dev acc=0.2489\n",
            "Iter 28500: loss=2036.6563, time=154.08s\n",
            "iter 28500: dev acc=0.2516\n",
            "new highscore\n",
            "Iter 29000: loss=1932.5532, time=156.83s\n",
            "iter 29000: dev acc=0.2516\n",
            "Iter 29500: loss=2054.0508, time=159.54s\n",
            "iter 29500: dev acc=0.2525\n",
            "new highscore\n",
            "Iter 30000: loss=2084.9135, time=162.26s\n",
            "iter 30000: dev acc=0.2525\n",
            "Done training\n",
            "Loading best model\n",
            "best model iter 29500: train acc=0.2521, dev acc=0.2525, test acc=0.2385\n",
            "CBOW(\n",
            "  (embed): Embedding(18280, 300)\n",
            "  (W): Linear(in_features=300, out_features=5, bias=True)\n",
            ")\n",
            "embed.weight             [18280, 300] requires_grad=True\n",
            "W.weight                 [5, 300]     requires_grad=True\n",
            "W.bias                   [5]          requires_grad=True\n",
            "\n",
            "Total parameters: 5485505\n",
            "\n",
            "Shuffling training data\n",
            "Iter 500: loss=1434.1009, time=3.22s\n",
            "iter 500: dev acc=0.1953\n",
            "new highscore\n",
            "Iter 1000: loss=1261.6022, time=7.97s\n",
            "iter 1000: dev acc=0.1907\n",
            "Iter 1500: loss=1285.1301, time=12.67s\n",
            "iter 1500: dev acc=0.1880\n",
            "Iter 2000: loss=1247.0575, time=17.35s\n",
            "iter 2000: dev acc=0.2189\n",
            "new highscore\n",
            "Iter 2500: loss=1120.5225, time=22.25s\n",
            "iter 2500: dev acc=0.2035\n",
            "Iter 3000: loss=1124.6120, time=26.92s\n",
            "iter 3000: dev acc=0.2262\n",
            "new highscore\n",
            "Iter 3500: loss=1023.5350, time=31.81s\n",
            "iter 3500: dev acc=0.2452\n",
            "new highscore\n",
            "Iter 4000: loss=1019.1483, time=36.70s\n",
            "iter 4000: dev acc=0.2289\n",
            "Iter 4500: loss=1010.1923, time=41.40s\n",
            "iter 4500: dev acc=0.2407\n",
            "Iter 5000: loss=984.5622, time=46.14s\n",
            "iter 5000: dev acc=0.2761\n",
            "new highscore\n",
            "Iter 5500: loss=958.3297, time=51.01s\n",
            "iter 5500: dev acc=0.2552\n",
            "Iter 6000: loss=902.0197, time=55.74s\n",
            "iter 6000: dev acc=0.2752\n",
            "Iter 6500: loss=912.3592, time=60.39s\n",
            "iter 6500: dev acc=0.2543\n",
            "Iter 7000: loss=936.6351, time=65.06s\n",
            "iter 7000: dev acc=0.2607\n",
            "Iter 7500: loss=853.4331, time=69.78s\n",
            "iter 7500: dev acc=0.2670\n",
            "Iter 8000: loss=870.1132, time=74.52s\n",
            "iter 8000: dev acc=0.2561\n",
            "Iter 8500: loss=885.8748, time=79.22s\n",
            "iter 8500: dev acc=0.2416\n",
            "Shuffling training data\n",
            "Iter 9000: loss=777.2070, time=83.95s\n",
            "iter 9000: dev acc=0.2570\n",
            "Iter 9500: loss=737.8827, time=88.63s\n",
            "iter 9500: dev acc=0.2825\n",
            "new highscore\n",
            "Iter 10000: loss=789.0727, time=93.47s\n",
            "iter 10000: dev acc=0.2779\n",
            "Iter 10500: loss=775.0271, time=98.18s\n",
            "iter 10500: dev acc=0.2997\n",
            "new highscore\n",
            "Iter 11000: loss=761.4401, time=103.03s\n",
            "iter 11000: dev acc=0.2879\n",
            "Iter 11500: loss=777.7421, time=107.71s\n",
            "iter 11500: dev acc=0.2943\n",
            "Iter 12000: loss=775.3675, time=112.42s\n",
            "iter 12000: dev acc=0.3052\n",
            "new highscore\n",
            "Iter 12500: loss=784.0949, time=117.35s\n",
            "iter 12500: dev acc=0.2988\n",
            "Iter 13000: loss=772.2610, time=122.07s\n",
            "iter 13000: dev acc=0.2861\n",
            "Iter 13500: loss=746.5582, time=126.79s\n",
            "iter 13500: dev acc=0.2779\n",
            "Iter 14000: loss=760.8181, time=131.52s\n",
            "iter 14000: dev acc=0.2997\n",
            "Iter 14500: loss=774.8346, time=136.25s\n",
            "iter 14500: dev acc=0.2861\n",
            "Iter 15000: loss=770.5557, time=140.99s\n",
            "iter 15000: dev acc=0.2834\n",
            "Iter 15500: loss=763.8099, time=145.71s\n",
            "iter 15500: dev acc=0.2961\n",
            "Iter 16000: loss=788.6924, time=150.43s\n",
            "iter 16000: dev acc=0.2834\n",
            "Iter 16500: loss=771.8797, time=155.07s\n",
            "iter 16500: dev acc=0.2952\n",
            "Iter 17000: loss=779.0509, time=159.77s\n",
            "iter 17000: dev acc=0.2988\n",
            "Shuffling training data\n",
            "Iter 17500: loss=716.3633, time=164.48s\n",
            "iter 17500: dev acc=0.2888\n",
            "Iter 18000: loss=691.3553, time=169.21s\n",
            "iter 18000: dev acc=0.2707\n",
            "Iter 18500: loss=646.5473, time=173.95s\n",
            "iter 18500: dev acc=0.3025\n",
            "Iter 19000: loss=673.3584, time=178.67s\n",
            "iter 19000: dev acc=0.2679\n",
            "Iter 19500: loss=726.7265, time=183.36s\n",
            "iter 19500: dev acc=0.2861\n",
            "Iter 20000: loss=696.6831, time=188.09s\n",
            "iter 20000: dev acc=0.2916\n",
            "Iter 20500: loss=703.2386, time=192.81s\n",
            "iter 20500: dev acc=0.3006\n",
            "Iter 21000: loss=701.3944, time=197.54s\n",
            "iter 21000: dev acc=0.3006\n",
            "Iter 21500: loss=708.6671, time=202.25s\n",
            "iter 21500: dev acc=0.3061\n",
            "new highscore\n",
            "Iter 22000: loss=702.6534, time=207.18s\n",
            "iter 22000: dev acc=0.3006\n",
            "Iter 22500: loss=673.3400, time=211.87s\n",
            "iter 22500: dev acc=0.3233\n",
            "new highscore\n",
            "Iter 23000: loss=668.5267, time=216.72s\n",
            "iter 23000: dev acc=0.3152\n",
            "Iter 23500: loss=709.1854, time=221.46s\n",
            "iter 23500: dev acc=0.2979\n",
            "Iter 24000: loss=716.9023, time=226.18s\n",
            "iter 24000: dev acc=0.3152\n",
            "Iter 24500: loss=676.9205, time=230.88s\n",
            "iter 24500: dev acc=0.3206\n",
            "Iter 25000: loss=691.5280, time=235.59s\n",
            "iter 25000: dev acc=0.3052\n",
            "Iter 25500: loss=659.9449, time=240.25s\n",
            "iter 25500: dev acc=0.3152\n",
            "Shuffling training data\n",
            "Iter 26000: loss=599.0172, time=245.01s\n",
            "iter 26000: dev acc=0.3006\n",
            "Iter 26500: loss=586.2013, time=249.70s\n",
            "iter 26500: dev acc=0.2843\n",
            "Iter 27000: loss=623.9718, time=254.38s\n",
            "iter 27000: dev acc=0.3034\n",
            "Iter 27500: loss=606.5401, time=259.06s\n",
            "iter 27500: dev acc=0.3197\n",
            "Iter 28000: loss=630.2218, time=263.73s\n",
            "iter 28000: dev acc=0.3070\n",
            "Iter 28500: loss=613.5496, time=268.47s\n",
            "iter 28500: dev acc=0.3279\n",
            "new highscore\n",
            "Iter 29000: loss=604.7529, time=273.32s\n",
            "iter 29000: dev acc=0.3188\n",
            "Iter 29500: loss=604.1258, time=278.04s\n",
            "iter 29500: dev acc=0.3106\n",
            "Iter 30000: loss=613.9156, time=282.77s\n",
            "iter 30000: dev acc=0.3115\n",
            "Done training\n",
            "Loading best model\n",
            "best model iter 28500: train acc=0.5406, dev acc=0.3279, test acc=0.3181\n",
            "Shuffling training data\n",
            "Iter 500: loss=1483.7430, time=3.21s\n",
            "iter 500: dev acc=0.2361\n",
            "new highscore\n",
            "Iter 1000: loss=1317.6171, time=8.02s\n",
            "iter 1000: dev acc=0.2380\n",
            "new highscore\n",
            "Iter 1500: loss=1270.7740, time=12.85s\n",
            "iter 1500: dev acc=0.2498\n",
            "new highscore\n",
            "Iter 2000: loss=1174.4690, time=17.73s\n",
            "iter 2000: dev acc=0.2670\n",
            "new highscore\n",
            "Iter 2500: loss=1171.7940, time=22.39s\n",
            "iter 2500: dev acc=0.2552\n",
            "Iter 3000: loss=1085.3472, time=27.07s\n",
            "iter 3000: dev acc=0.2570\n",
            "Iter 3500: loss=1014.4811, time=31.77s\n",
            "iter 3500: dev acc=0.2788\n",
            "new highscore\n",
            "Iter 4000: loss=1009.1241, time=36.60s\n",
            "iter 4000: dev acc=0.2498\n",
            "Iter 4500: loss=1011.4706, time=41.29s\n",
            "iter 4500: dev acc=0.2716\n",
            "Iter 5000: loss=953.9352, time=45.99s\n",
            "iter 5000: dev acc=0.2888\n",
            "new highscore\n",
            "Iter 5500: loss=922.6728, time=50.78s\n",
            "iter 5500: dev acc=0.2916\n",
            "new highscore\n",
            "Iter 6000: loss=962.4119, time=55.65s\n",
            "iter 6000: dev acc=0.3124\n",
            "new highscore\n",
            "Iter 6500: loss=898.6647, time=60.51s\n",
            "iter 6500: dev acc=0.2879\n",
            "Iter 7000: loss=895.4632, time=65.21s\n",
            "iter 7000: dev acc=0.2870\n",
            "Iter 7500: loss=862.6421, time=69.91s\n",
            "iter 7500: dev acc=0.2934\n",
            "Iter 8000: loss=874.1505, time=74.64s\n",
            "iter 8000: dev acc=0.2870\n",
            "Iter 8500: loss=851.6152, time=79.32s\n",
            "iter 8500: dev acc=0.2634\n",
            "Shuffling training data\n",
            "Iter 9000: loss=735.9617, time=84.06s\n",
            "iter 9000: dev acc=0.2825\n",
            "Iter 9500: loss=755.1676, time=88.76s\n",
            "iter 9500: dev acc=0.3079\n",
            "Iter 10000: loss=777.5377, time=93.49s\n",
            "iter 10000: dev acc=0.3215\n",
            "new highscore\n",
            "Iter 10500: loss=777.0019, time=98.33s\n",
            "iter 10500: dev acc=0.3243\n",
            "new highscore\n",
            "Iter 11000: loss=756.8177, time=103.19s\n",
            "iter 11000: dev acc=0.3070\n",
            "Iter 11500: loss=793.3911, time=107.88s\n",
            "iter 11500: dev acc=0.2916\n",
            "Iter 12000: loss=803.5217, time=112.59s\n",
            "iter 12000: dev acc=0.2979\n",
            "Iter 12500: loss=761.5472, time=117.32s\n",
            "iter 12500: dev acc=0.3279\n",
            "new highscore\n",
            "Iter 13000: loss=769.2191, time=122.22s\n",
            "iter 13000: dev acc=0.3025\n",
            "Iter 13500: loss=761.5289, time=126.93s\n",
            "iter 13500: dev acc=0.3088\n",
            "Iter 14000: loss=742.8965, time=131.61s\n",
            "iter 14000: dev acc=0.3025\n",
            "Iter 14500: loss=780.0833, time=136.34s\n",
            "iter 14500: dev acc=0.3025\n",
            "Iter 15000: loss=779.6416, time=141.03s\n",
            "iter 15000: dev acc=0.3106\n",
            "Iter 15500: loss=729.2883, time=145.73s\n",
            "iter 15500: dev acc=0.3179\n",
            "Iter 16000: loss=796.5058, time=150.39s\n",
            "iter 16000: dev acc=0.3261\n",
            "Iter 16500: loss=759.6327, time=155.07s\n",
            "iter 16500: dev acc=0.3143\n",
            "Iter 17000: loss=786.7897, time=159.75s\n",
            "iter 17000: dev acc=0.3224\n",
            "Shuffling training data\n",
            "Iter 17500: loss=695.3843, time=164.46s\n",
            "iter 17500: dev acc=0.3324\n",
            "new highscore\n",
            "Iter 18000: loss=671.4401, time=169.33s\n",
            "iter 18000: dev acc=0.3270\n",
            "Iter 18500: loss=626.8194, time=174.03s\n",
            "iter 18500: dev acc=0.2934\n",
            "Iter 19000: loss=669.2362, time=178.76s\n",
            "iter 19000: dev acc=0.3115\n",
            "Iter 19500: loss=714.6164, time=183.47s\n",
            "iter 19500: dev acc=0.3261\n",
            "Iter 20000: loss=735.1990, time=188.20s\n",
            "iter 20000: dev acc=0.3252\n",
            "Iter 20500: loss=697.2959, time=192.90s\n",
            "iter 20500: dev acc=0.3025\n",
            "Iter 21000: loss=668.4892, time=197.62s\n",
            "iter 21000: dev acc=0.2961\n",
            "Iter 21500: loss=674.7555, time=202.31s\n",
            "iter 21500: dev acc=0.3342\n",
            "new highscore\n",
            "Iter 22000: loss=700.6132, time=207.16s\n",
            "iter 22000: dev acc=0.3370\n",
            "new highscore\n",
            "Iter 22500: loss=718.4343, time=212.09s\n",
            "iter 22500: dev acc=0.3424\n",
            "new highscore\n",
            "Iter 23000: loss=710.5027, time=217.01s\n",
            "iter 23000: dev acc=0.3206\n",
            "Iter 23500: loss=681.0958, time=221.72s\n",
            "iter 23500: dev acc=0.3415\n",
            "Iter 24000: loss=700.1840, time=226.32s\n",
            "iter 24000: dev acc=0.3279\n",
            "Iter 24500: loss=686.6822, time=230.97s\n",
            "iter 24500: dev acc=0.3134\n",
            "Iter 25000: loss=683.5766, time=235.68s\n",
            "iter 25000: dev acc=0.3315\n",
            "Iter 25500: loss=686.8757, time=240.39s\n",
            "iter 25500: dev acc=0.3433\n",
            "new highscore\n",
            "Shuffling training data\n",
            "Iter 26000: loss=600.1447, time=245.25s\n",
            "iter 26000: dev acc=0.3388\n",
            "Iter 26500: loss=610.2536, time=249.98s\n",
            "iter 26500: dev acc=0.3606\n",
            "new highscore\n",
            "Iter 27000: loss=570.8165, time=254.84s\n",
            "iter 27000: dev acc=0.3288\n",
            "Iter 27500: loss=606.0371, time=259.58s\n",
            "iter 27500: dev acc=0.3351\n",
            "Iter 28000: loss=616.8814, time=264.19s\n",
            "iter 28000: dev acc=0.3388\n",
            "Iter 28500: loss=611.4470, time=268.82s\n",
            "iter 28500: dev acc=0.3288\n",
            "Iter 29000: loss=628.4726, time=273.50s\n",
            "iter 29000: dev acc=0.3342\n",
            "Iter 29500: loss=606.9144, time=278.19s\n",
            "iter 29500: dev acc=0.3179\n",
            "Iter 30000: loss=588.9371, time=282.88s\n",
            "iter 30000: dev acc=0.3015\n",
            "Done training\n",
            "Loading best model\n",
            "best model iter 26500: train acc=0.5398, dev acc=0.3606, test acc=0.3457\n",
            "Shuffling training data\n",
            "Iter 500: loss=1524.6085, time=3.21s\n",
            "iter 500: dev acc=0.1944\n",
            "new highscore\n",
            "Iter 1000: loss=1331.9130, time=8.00s\n",
            "iter 1000: dev acc=0.2080\n",
            "new highscore\n",
            "Iter 1500: loss=1237.5410, time=12.82s\n",
            "iter 1500: dev acc=0.2216\n",
            "new highscore\n",
            "Iter 2000: loss=1158.7024, time=17.68s\n",
            "iter 2000: dev acc=0.2252\n",
            "new highscore\n",
            "Iter 2500: loss=1128.2644, time=22.46s\n",
            "iter 2500: dev acc=0.2425\n",
            "new highscore\n",
            "Iter 3000: loss=1060.9332, time=27.34s\n",
            "iter 3000: dev acc=0.2443\n",
            "new highscore\n",
            "Iter 3500: loss=1004.9103, time=32.12s\n",
            "iter 3500: dev acc=0.2461\n",
            "new highscore\n",
            "Iter 4000: loss=1033.5969, time=37.00s\n",
            "iter 4000: dev acc=0.2452\n",
            "Iter 4500: loss=978.6333, time=41.71s\n",
            "iter 4500: dev acc=0.2470\n",
            "new highscore\n",
            "Iter 5000: loss=977.6155, time=46.57s\n",
            "iter 5000: dev acc=0.2534\n",
            "new highscore\n",
            "Iter 5500: loss=888.8282, time=51.49s\n",
            "iter 5500: dev acc=0.2743\n",
            "new highscore\n",
            "Iter 6000: loss=902.5606, time=56.38s\n",
            "iter 6000: dev acc=0.2525\n",
            "Iter 6500: loss=858.0244, time=61.09s\n",
            "iter 6500: dev acc=0.2634\n",
            "Iter 7000: loss=902.7995, time=65.82s\n",
            "iter 7000: dev acc=0.2788\n",
            "new highscore\n",
            "Iter 7500: loss=879.2701, time=70.70s\n",
            "iter 7500: dev acc=0.2997\n",
            "new highscore\n",
            "Iter 8000: loss=885.3311, time=75.59s\n",
            "iter 8000: dev acc=0.3106\n",
            "new highscore\n",
            "Iter 8500: loss=884.7270, time=80.43s\n",
            "iter 8500: dev acc=0.2979\n",
            "Shuffling training data\n",
            "Iter 9000: loss=743.2809, time=85.18s\n",
            "iter 9000: dev acc=0.2788\n",
            "Iter 9500: loss=768.9313, time=89.87s\n",
            "iter 9500: dev acc=0.2906\n",
            "Iter 10000: loss=774.3696, time=94.57s\n",
            "iter 10000: dev acc=0.2943\n",
            "Iter 10500: loss=730.2317, time=99.26s\n",
            "iter 10500: dev acc=0.2916\n",
            "Iter 11000: loss=754.7752, time=103.97s\n",
            "iter 11000: dev acc=0.3124\n",
            "new highscore\n",
            "Iter 11500: loss=810.5362, time=108.79s\n",
            "iter 11500: dev acc=0.2979\n",
            "Iter 12000: loss=746.3126, time=113.48s\n",
            "iter 12000: dev acc=0.3097\n",
            "Iter 12500: loss=778.9192, time=118.19s\n",
            "iter 12500: dev acc=0.3025\n",
            "Iter 13000: loss=764.5003, time=122.89s\n",
            "iter 13000: dev acc=0.3088\n",
            "Iter 13500: loss=777.2094, time=127.60s\n",
            "iter 13500: dev acc=0.3079\n",
            "Iter 14000: loss=759.3911, time=132.30s\n",
            "iter 14000: dev acc=0.3170\n",
            "new highscore\n",
            "Iter 14500: loss=756.7556, time=137.16s\n",
            "iter 14500: dev acc=0.3070\n",
            "Iter 15000: loss=769.1465, time=141.88s\n",
            "iter 15000: dev acc=0.3079\n",
            "Iter 15500: loss=793.9354, time=146.58s\n",
            "iter 15500: dev acc=0.3070\n",
            "Iter 16000: loss=764.2710, time=151.30s\n",
            "iter 16000: dev acc=0.3034\n",
            "Iter 16500: loss=775.8088, time=155.95s\n",
            "iter 16500: dev acc=0.3342\n",
            "new highscore\n",
            "Iter 17000: loss=785.4038, time=160.65s\n",
            "iter 17000: dev acc=0.3061\n",
            "Shuffling training data\n",
            "Iter 17500: loss=687.1948, time=165.31s\n",
            "iter 17500: dev acc=0.3197\n",
            "Iter 18000: loss=673.6196, time=170.03s\n",
            "iter 18000: dev acc=0.2970\n",
            "Iter 18500: loss=691.7032, time=174.73s\n",
            "iter 18500: dev acc=0.2925\n",
            "Iter 19000: loss=678.0318, time=179.44s\n",
            "iter 19000: dev acc=0.3306\n",
            "Iter 19500: loss=694.5110, time=184.13s\n",
            "iter 19500: dev acc=0.2979\n",
            "Iter 20000: loss=703.4691, time=188.86s\n",
            "iter 20000: dev acc=0.2970\n",
            "Iter 20500: loss=712.1713, time=193.58s\n",
            "iter 20500: dev acc=0.2952\n",
            "Iter 21000: loss=646.7044, time=198.32s\n",
            "iter 21000: dev acc=0.3252\n",
            "Iter 21500: loss=692.0254, time=203.03s\n",
            "iter 21500: dev acc=0.3379\n",
            "new highscore\n",
            "Iter 22000: loss=663.7220, time=207.95s\n",
            "iter 22000: dev acc=0.3370\n",
            "Iter 22500: loss=711.7307, time=212.66s\n",
            "iter 22500: dev acc=0.3261\n",
            "Iter 23000: loss=701.2614, time=217.37s\n",
            "iter 23000: dev acc=0.3297\n",
            "Iter 23500: loss=731.0156, time=222.08s\n",
            "iter 23500: dev acc=0.3134\n",
            "Iter 24000: loss=693.6470, time=226.78s\n",
            "iter 24000: dev acc=0.2997\n",
            "Iter 24500: loss=712.5878, time=231.44s\n",
            "iter 24500: dev acc=0.3124\n",
            "Iter 25000: loss=707.4926, time=236.13s\n",
            "iter 25000: dev acc=0.3170\n",
            "Iter 25500: loss=703.3905, time=240.86s\n",
            "iter 25500: dev acc=0.3215\n",
            "Shuffling training data\n",
            "Iter 26000: loss=615.8229, time=245.59s\n",
            "iter 26000: dev acc=0.3088\n",
            "Iter 26500: loss=615.0199, time=250.31s\n",
            "iter 26500: dev acc=0.3061\n",
            "Iter 27000: loss=615.8076, time=254.99s\n",
            "iter 27000: dev acc=0.2979\n",
            "Iter 27500: loss=614.8402, time=259.71s\n",
            "iter 27500: dev acc=0.3279\n",
            "Iter 28000: loss=629.9814, time=264.40s\n",
            "iter 28000: dev acc=0.3043\n",
            "Iter 28500: loss=623.1514, time=269.08s\n",
            "iter 28500: dev acc=0.3206\n",
            "Iter 29000: loss=602.1306, time=273.69s\n",
            "iter 29000: dev acc=0.3088\n",
            "Iter 29500: loss=625.4944, time=278.35s\n",
            "iter 29500: dev acc=0.3224\n",
            "Iter 30000: loss=652.5572, time=283.04s\n",
            "iter 30000: dev acc=0.3188\n",
            "Done training\n",
            "Loading best model\n",
            "best model iter 21500: train acc=0.4836, dev acc=0.3379, test acc=0.3421\n",
            "DeepCBOW(\n",
            "  (embed): Embedding(18280, 300)\n",
            "  (W): Linear(in_features=300, out_features=100, bias=True)\n",
            "  (Seq): Sequential(\n",
            "    (0): Linear(in_features=300, out_features=100, bias=True)\n",
            "    (1): Tanh()\n",
            "    (2): Linear(in_features=100, out_features=100, bias=True)\n",
            "    (3): Tanh()\n",
            "    (4): Linear(in_features=100, out_features=5, bias=True)\n",
            "  )\n",
            ")\n",
            "embed.weight             [18280, 300] requires_grad=True\n",
            "W.weight                 [100, 300]   requires_grad=True\n",
            "W.bias                   [100]        requires_grad=True\n",
            "Seq.2.weight             [100, 100]   requires_grad=True\n",
            "Seq.2.bias               [100]        requires_grad=True\n",
            "Seq.4.weight             [5, 100]     requires_grad=True\n",
            "Seq.4.bias               [5]          requires_grad=True\n",
            "\n",
            "Total parameters: 5524705\n",
            "\n",
            "Shuffling training data\n",
            "Iter 500: loss=835.0516, time=4.57s\n",
            "iter 500: dev acc=0.2643\n",
            "new highscore\n",
            "Iter 1000: loss=826.9318, time=11.54s\n",
            "iter 1000: dev acc=0.2525\n",
            "Iter 1500: loss=840.5900, time=18.44s\n",
            "iter 1500: dev acc=0.2480\n",
            "Iter 2000: loss=806.5702, time=25.25s\n",
            "iter 2000: dev acc=0.2797\n",
            "new highscore\n",
            "Iter 2500: loss=808.0349, time=32.29s\n",
            "iter 2500: dev acc=0.2807\n",
            "new highscore\n",
            "Iter 3000: loss=796.1887, time=39.33s\n",
            "iter 3000: dev acc=0.2743\n",
            "Iter 3500: loss=794.9865, time=46.20s\n",
            "iter 3500: dev acc=0.2807\n",
            "Iter 4000: loss=776.4644, time=53.05s\n",
            "iter 4000: dev acc=0.2852\n",
            "new highscore\n",
            "Iter 4500: loss=804.9829, time=60.13s\n",
            "iter 4500: dev acc=0.2761\n",
            "Iter 5000: loss=785.4723, time=66.96s\n",
            "iter 5000: dev acc=0.2934\n",
            "new highscore\n",
            "Iter 5500: loss=794.4586, time=73.95s\n",
            "iter 5500: dev acc=0.3197\n",
            "new highscore\n",
            "Iter 6000: loss=782.7165, time=80.94s\n",
            "iter 6000: dev acc=0.2943\n",
            "Iter 6500: loss=784.3295, time=87.72s\n",
            "iter 6500: dev acc=0.2897\n",
            "Iter 7000: loss=800.8320, time=94.54s\n",
            "iter 7000: dev acc=0.2997\n",
            "Iter 7500: loss=781.5013, time=101.38s\n",
            "iter 7500: dev acc=0.3152\n",
            "Iter 8000: loss=769.5141, time=108.24s\n",
            "iter 8000: dev acc=0.3152\n",
            "Iter 8500: loss=763.0041, time=115.11s\n",
            "iter 8500: dev acc=0.3261\n",
            "new highscore\n",
            "Shuffling training data\n",
            "Iter 9000: loss=733.6986, time=122.17s\n",
            "iter 9000: dev acc=0.3079\n",
            "Iter 9500: loss=727.6700, time=129.01s\n",
            "iter 9500: dev acc=0.3115\n",
            "Iter 10000: loss=735.2204, time=135.86s\n",
            "iter 10000: dev acc=0.3188\n",
            "Iter 10500: loss=734.7326, time=142.69s\n",
            "iter 10500: dev acc=0.3061\n",
            "Iter 11000: loss=728.4276, time=149.53s\n",
            "iter 11000: dev acc=0.3188\n",
            "Iter 11500: loss=710.8131, time=156.37s\n",
            "iter 11500: dev acc=0.3243\n",
            "Iter 12000: loss=724.6840, time=163.13s\n",
            "iter 12000: dev acc=0.3397\n",
            "new highscore\n",
            "Iter 12500: loss=745.9308, time=170.15s\n",
            "iter 12500: dev acc=0.3279\n",
            "Iter 13000: loss=709.7717, time=177.04s\n",
            "iter 13000: dev acc=0.3179\n",
            "Iter 13500: loss=722.6716, time=183.91s\n",
            "iter 13500: dev acc=0.3460\n",
            "new highscore\n",
            "Iter 14000: loss=696.0734, time=190.88s\n",
            "iter 14000: dev acc=0.3524\n",
            "new highscore\n",
            "Iter 14500: loss=726.5403, time=197.90s\n",
            "iter 14500: dev acc=0.3442\n",
            "Iter 15000: loss=714.1555, time=204.76s\n",
            "iter 15000: dev acc=0.3470\n",
            "Iter 15500: loss=714.8810, time=211.61s\n",
            "iter 15500: dev acc=0.3379\n",
            "Iter 16000: loss=726.7904, time=218.50s\n",
            "iter 16000: dev acc=0.3497\n",
            "Iter 16500: loss=702.1523, time=225.33s\n",
            "iter 16500: dev acc=0.3515\n",
            "Iter 17000: loss=737.0027, time=232.18s\n",
            "iter 17000: dev acc=0.3252\n",
            "Shuffling training data\n",
            "Iter 17500: loss=672.1614, time=239.08s\n",
            "iter 17500: dev acc=0.3379\n",
            "Iter 18000: loss=644.6519, time=245.95s\n",
            "iter 18000: dev acc=0.3342\n",
            "Iter 18500: loss=665.4848, time=252.81s\n",
            "iter 18500: dev acc=0.3324\n",
            "Iter 19000: loss=652.3466, time=259.69s\n",
            "iter 19000: dev acc=0.3433\n",
            "Iter 19500: loss=671.3144, time=266.55s\n",
            "iter 19500: dev acc=0.3315\n",
            "Iter 20000: loss=662.8470, time=273.38s\n",
            "iter 20000: dev acc=0.3297\n",
            "Iter 20500: loss=629.3870, time=280.08s\n",
            "iter 20500: dev acc=0.3306\n",
            "Iter 21000: loss=660.6496, time=286.89s\n",
            "iter 21000: dev acc=0.3342\n",
            "Iter 21500: loss=631.4010, time=293.73s\n",
            "iter 21500: dev acc=0.3315\n",
            "Iter 22000: loss=657.1622, time=300.59s\n",
            "iter 22000: dev acc=0.3351\n",
            "Iter 22500: loss=665.6115, time=307.46s\n",
            "iter 22500: dev acc=0.3460\n",
            "Iter 23000: loss=659.2944, time=314.31s\n",
            "iter 23000: dev acc=0.3252\n",
            "Iter 23500: loss=653.6534, time=321.20s\n",
            "iter 23500: dev acc=0.3479\n",
            "Iter 24000: loss=664.5913, time=327.98s\n",
            "iter 24000: dev acc=0.3479\n",
            "Iter 24500: loss=632.2780, time=334.81s\n",
            "iter 24500: dev acc=0.3488\n",
            "Iter 25000: loss=651.7637, time=341.63s\n",
            "iter 25000: dev acc=0.3597\n",
            "new highscore\n",
            "Iter 25500: loss=651.1362, time=348.60s\n",
            "iter 25500: dev acc=0.3615\n",
            "new highscore\n",
            "Shuffling training data\n",
            "Iter 26000: loss=617.0666, time=355.67s\n",
            "iter 26000: dev acc=0.3533\n",
            "Iter 26500: loss=567.9599, time=362.59s\n",
            "iter 26500: dev acc=0.3588\n",
            "Iter 27000: loss=578.4387, time=369.42s\n",
            "iter 27000: dev acc=0.3351\n",
            "Iter 27500: loss=575.7390, time=376.28s\n",
            "iter 27500: dev acc=0.3542\n",
            "Iter 28000: loss=588.3112, time=383.16s\n",
            "iter 28000: dev acc=0.3370\n",
            "Iter 28500: loss=590.3050, time=390.03s\n",
            "iter 28500: dev acc=0.3433\n",
            "Iter 29000: loss=578.5192, time=396.88s\n",
            "iter 29000: dev acc=0.3470\n",
            "Iter 29500: loss=585.9770, time=403.73s\n",
            "iter 29500: dev acc=0.3451\n",
            "Iter 30000: loss=587.8395, time=410.58s\n",
            "iter 30000: dev acc=0.3488\n",
            "Done training\n",
            "Loading best model\n",
            "best model iter 25500: train acc=0.5442, dev acc=0.3615, test acc=0.3792\n",
            "Shuffling training data\n",
            "Iter 500: loss=880.7597, time=4.59s\n",
            "iter 500: dev acc=0.2698\n",
            "new highscore\n",
            "Iter 1000: loss=838.6598, time=11.59s\n",
            "iter 1000: dev acc=0.2834\n",
            "new highscore\n",
            "Iter 1500: loss=809.2443, time=18.58s\n",
            "iter 1500: dev acc=0.2888\n",
            "new highscore\n",
            "Iter 2000: loss=803.5280, time=25.50s\n",
            "iter 2000: dev acc=0.2734\n",
            "Iter 2500: loss=800.4919, time=32.35s\n",
            "iter 2500: dev acc=0.3097\n",
            "new highscore\n",
            "Iter 3000: loss=795.3633, time=39.41s\n",
            "iter 3000: dev acc=0.3052\n",
            "Iter 3500: loss=775.7337, time=46.30s\n",
            "iter 3500: dev acc=0.3143\n",
            "new highscore\n",
            "Iter 4000: loss=787.3670, time=53.32s\n",
            "iter 4000: dev acc=0.2779\n",
            "Iter 4500: loss=797.9431, time=60.17s\n",
            "iter 4500: dev acc=0.2770\n",
            "Iter 5000: loss=805.7037, time=67.05s\n",
            "iter 5000: dev acc=0.2852\n",
            "Iter 5500: loss=792.9918, time=73.90s\n",
            "iter 5500: dev acc=0.2743\n",
            "Iter 6000: loss=777.5557, time=80.76s\n",
            "iter 6000: dev acc=0.2988\n",
            "Iter 6500: loss=772.4009, time=87.64s\n",
            "iter 6500: dev acc=0.2843\n",
            "Iter 7000: loss=764.6242, time=94.53s\n",
            "iter 7000: dev acc=0.3270\n",
            "new highscore\n",
            "Iter 7500: loss=777.7664, time=101.52s\n",
            "iter 7500: dev acc=0.2970\n",
            "Iter 8000: loss=762.6892, time=108.42s\n",
            "iter 8000: dev acc=0.3043\n",
            "Iter 8500: loss=777.7522, time=115.31s\n",
            "iter 8500: dev acc=0.2897\n",
            "Shuffling training data\n",
            "Iter 9000: loss=730.7093, time=122.14s\n",
            "iter 9000: dev acc=0.2970\n",
            "Iter 9500: loss=736.0775, time=128.97s\n",
            "iter 9500: dev acc=0.2970\n",
            "Iter 10000: loss=721.4281, time=135.83s\n",
            "iter 10000: dev acc=0.3188\n",
            "Iter 10500: loss=739.4689, time=142.67s\n",
            "iter 10500: dev acc=0.3315\n",
            "new highscore\n",
            "Iter 11000: loss=693.9565, time=149.58s\n",
            "iter 11000: dev acc=0.3270\n",
            "Iter 11500: loss=732.5220, time=156.45s\n",
            "iter 11500: dev acc=0.3143\n",
            "Iter 12000: loss=751.1065, time=163.36s\n",
            "iter 12000: dev acc=0.3233\n",
            "Iter 12500: loss=713.2338, time=170.24s\n",
            "iter 12500: dev acc=0.3188\n",
            "Iter 13000: loss=720.6452, time=177.13s\n",
            "iter 13000: dev acc=0.3134\n",
            "Iter 13500: loss=702.3869, time=184.00s\n",
            "iter 13500: dev acc=0.2770\n",
            "Iter 14000: loss=733.5766, time=190.90s\n",
            "iter 14000: dev acc=0.2961\n",
            "Iter 14500: loss=710.3941, time=197.74s\n",
            "iter 14500: dev acc=0.3342\n",
            "new highscore\n",
            "Iter 15000: loss=724.4222, time=204.74s\n",
            "iter 15000: dev acc=0.3170\n",
            "Iter 15500: loss=716.8021, time=211.60s\n",
            "iter 15500: dev acc=0.3143\n",
            "Iter 16000: loss=716.0758, time=218.47s\n",
            "iter 16000: dev acc=0.3333\n",
            "Iter 16500: loss=716.5290, time=225.30s\n",
            "iter 16500: dev acc=0.3351\n",
            "new highscore\n",
            "Iter 17000: loss=714.6628, time=232.29s\n",
            "iter 17000: dev acc=0.3233\n",
            "Shuffling training data\n",
            "Iter 17500: loss=652.0262, time=239.18s\n",
            "iter 17500: dev acc=0.3279\n",
            "Iter 18000: loss=633.0236, time=246.07s\n",
            "iter 18000: dev acc=0.3324\n",
            "Iter 18500: loss=626.6617, time=252.94s\n",
            "iter 18500: dev acc=0.3061\n",
            "Iter 19000: loss=639.8699, time=259.80s\n",
            "iter 19000: dev acc=0.3333\n",
            "Iter 19500: loss=667.5996, time=266.63s\n",
            "iter 19500: dev acc=0.3224\n",
            "Iter 20000: loss=653.6531, time=273.50s\n",
            "iter 20000: dev acc=0.3515\n",
            "new highscore\n",
            "Iter 20500: loss=640.7088, time=280.43s\n",
            "iter 20500: dev acc=0.3297\n",
            "Iter 21000: loss=680.9995, time=287.23s\n",
            "iter 21000: dev acc=0.3388\n",
            "Iter 21500: loss=681.3911, time=294.10s\n",
            "iter 21500: dev acc=0.3233\n",
            "Iter 22000: loss=661.9622, time=300.98s\n",
            "iter 22000: dev acc=0.3388\n",
            "Iter 22500: loss=645.6900, time=307.87s\n",
            "iter 22500: dev acc=0.3442\n",
            "Iter 23000: loss=657.7226, time=314.73s\n",
            "iter 23000: dev acc=0.3597\n",
            "new highscore\n",
            "Iter 23500: loss=680.6879, time=321.75s\n",
            "iter 23500: dev acc=0.3361\n",
            "Iter 24000: loss=636.9994, time=328.56s\n",
            "iter 24000: dev acc=0.3460\n",
            "Iter 24500: loss=650.9936, time=335.42s\n",
            "iter 24500: dev acc=0.3533\n",
            "Iter 25000: loss=623.4274, time=342.27s\n",
            "iter 25000: dev acc=0.3460\n",
            "Iter 25500: loss=654.0476, time=349.18s\n",
            "iter 25500: dev acc=0.3342\n",
            "Shuffling training data\n",
            "Iter 26000: loss=611.6408, time=356.06s\n",
            "iter 26000: dev acc=0.3415\n",
            "Iter 26500: loss=584.8732, time=362.89s\n",
            "iter 26500: dev acc=0.3515\n",
            "Iter 27000: loss=579.5746, time=369.77s\n",
            "iter 27000: dev acc=0.3397\n",
            "Iter 27500: loss=537.4144, time=376.66s\n",
            "iter 27500: dev acc=0.3560\n",
            "Iter 28000: loss=598.5425, time=383.55s\n",
            "iter 28000: dev acc=0.3460\n",
            "Iter 28500: loss=597.8908, time=390.40s\n",
            "iter 28500: dev acc=0.3515\n",
            "Iter 29000: loss=604.6103, time=397.27s\n",
            "iter 29000: dev acc=0.3406\n",
            "Iter 29500: loss=610.5938, time=404.12s\n",
            "iter 29500: dev acc=0.3451\n",
            "Iter 30000: loss=572.5373, time=411.04s\n",
            "iter 30000: dev acc=0.3451\n",
            "Done training\n",
            "Loading best model\n",
            "best model iter 23000: train acc=0.5081, dev acc=0.3597, test acc=0.3688\n",
            "Shuffling training data\n",
            "Iter 500: loss=895.4512, time=4.55s\n",
            "iter 500: dev acc=0.2525\n",
            "new highscore\n",
            "Iter 1000: loss=847.3382, time=11.49s\n",
            "iter 1000: dev acc=0.2761\n",
            "new highscore\n",
            "Iter 1500: loss=803.5364, time=18.39s\n",
            "iter 1500: dev acc=0.3061\n",
            "new highscore\n",
            "Iter 2000: loss=791.9324, time=25.42s\n",
            "iter 2000: dev acc=0.2761\n",
            "Iter 2500: loss=794.0917, time=32.28s\n",
            "iter 2500: dev acc=0.2634\n",
            "Iter 3000: loss=802.9165, time=39.14s\n",
            "iter 3000: dev acc=0.3061\n",
            "Iter 3500: loss=800.4280, time=45.99s\n",
            "iter 3500: dev acc=0.2825\n",
            "Iter 4000: loss=781.2000, time=52.87s\n",
            "iter 4000: dev acc=0.2716\n",
            "Iter 4500: loss=816.2709, time=59.74s\n",
            "iter 4500: dev acc=0.2852\n",
            "Iter 5000: loss=788.3847, time=66.61s\n",
            "iter 5000: dev acc=0.3088\n",
            "new highscore\n",
            "Iter 5500: loss=783.5910, time=73.62s\n",
            "iter 5500: dev acc=0.3152\n",
            "new highscore\n",
            "Iter 6000: loss=789.0613, time=80.62s\n",
            "iter 6000: dev acc=0.3052\n",
            "Iter 6500: loss=764.6261, time=87.52s\n",
            "iter 6500: dev acc=0.3243\n",
            "new highscore\n",
            "Iter 7000: loss=764.3706, time=94.54s\n",
            "iter 7000: dev acc=0.2925\n",
            "Iter 7500: loss=770.2447, time=101.45s\n",
            "iter 7500: dev acc=0.2906\n",
            "Iter 8000: loss=758.2934, time=108.37s\n",
            "iter 8000: dev acc=0.3025\n",
            "Iter 8500: loss=746.2521, time=115.25s\n",
            "iter 8500: dev acc=0.3025\n",
            "Shuffling training data\n",
            "Iter 9000: loss=736.6933, time=122.13s\n",
            "iter 9000: dev acc=0.3015\n",
            "Iter 9500: loss=734.9084, time=128.98s\n",
            "iter 9500: dev acc=0.3179\n",
            "Iter 10000: loss=710.4819, time=135.89s\n",
            "iter 10000: dev acc=0.3252\n",
            "new highscore\n",
            "Iter 10500: loss=736.5872, time=142.91s\n",
            "iter 10500: dev acc=0.3270\n",
            "new highscore\n",
            "Iter 11000: loss=726.0841, time=149.97s\n",
            "iter 11000: dev acc=0.3324\n",
            "new highscore\n",
            "Iter 11500: loss=747.4098, time=156.98s\n",
            "iter 11500: dev acc=0.3188\n",
            "Iter 12000: loss=727.6009, time=163.82s\n",
            "iter 12000: dev acc=0.3424\n",
            "new highscore\n",
            "Iter 12500: loss=728.5419, time=170.84s\n",
            "iter 12500: dev acc=0.3143\n",
            "Iter 13000: loss=708.1776, time=177.74s\n",
            "iter 13000: dev acc=0.3206\n",
            "Iter 13500: loss=735.1868, time=184.59s\n",
            "iter 13500: dev acc=0.3052\n",
            "Iter 14000: loss=704.2626, time=191.38s\n",
            "iter 14000: dev acc=0.3470\n",
            "new highscore\n",
            "Iter 14500: loss=725.2010, time=198.44s\n",
            "iter 14500: dev acc=0.3660\n",
            "new highscore\n",
            "Iter 15000: loss=716.5409, time=205.47s\n",
            "iter 15000: dev acc=0.2961\n",
            "Iter 15500: loss=712.8236, time=212.38s\n",
            "iter 15500: dev acc=0.3324\n",
            "Iter 16000: loss=689.1363, time=219.26s\n",
            "iter 16000: dev acc=0.3460\n",
            "Iter 16500: loss=724.8350, time=226.12s\n",
            "iter 16500: dev acc=0.3479\n",
            "Iter 17000: loss=709.8216, time=233.03s\n",
            "iter 17000: dev acc=0.3379\n",
            "Shuffling training data\n",
            "Iter 17500: loss=653.0866, time=239.94s\n",
            "iter 17500: dev acc=0.3424\n",
            "Iter 18000: loss=656.9673, time=246.78s\n",
            "iter 18000: dev acc=0.3297\n",
            "Iter 18500: loss=637.4680, time=253.66s\n",
            "iter 18500: dev acc=0.3361\n",
            "Iter 19000: loss=647.2095, time=260.52s\n",
            "iter 19000: dev acc=0.3279\n",
            "Iter 19500: loss=668.1122, time=267.40s\n",
            "iter 19500: dev acc=0.3215\n",
            "Iter 20000: loss=635.5012, time=274.25s\n",
            "iter 20000: dev acc=0.3061\n",
            "Iter 20500: loss=654.4991, time=281.12s\n",
            "iter 20500: dev acc=0.3161\n",
            "Iter 21000: loss=647.7342, time=288.00s\n",
            "iter 21000: dev acc=0.3315\n",
            "Iter 21500: loss=646.0643, time=294.90s\n",
            "iter 21500: dev acc=0.3397\n",
            "Iter 22000: loss=662.7946, time=301.77s\n",
            "iter 22000: dev acc=0.3524\n",
            "Iter 22500: loss=666.2667, time=308.64s\n",
            "iter 22500: dev acc=0.3342\n",
            "Iter 23000: loss=641.3416, time=315.52s\n",
            "iter 23000: dev acc=0.3551\n",
            "Iter 23500: loss=685.5660, time=322.33s\n",
            "iter 23500: dev acc=0.3143\n",
            "Iter 24000: loss=610.2970, time=329.12s\n",
            "iter 24000: dev acc=0.3206\n",
            "Iter 24500: loss=660.9526, time=335.98s\n",
            "iter 24500: dev acc=0.3488\n",
            "Iter 25000: loss=662.2541, time=342.85s\n",
            "iter 25000: dev acc=0.3397\n",
            "Iter 25500: loss=685.4378, time=349.69s\n",
            "iter 25500: dev acc=0.3315\n",
            "Shuffling training data\n",
            "Iter 26000: loss=582.2338, time=356.62s\n",
            "iter 26000: dev acc=0.3706\n",
            "new highscore\n",
            "Iter 26500: loss=570.6573, time=363.60s\n",
            "iter 26500: dev acc=0.3351\n",
            "Iter 27000: loss=558.2694, time=370.47s\n",
            "iter 27000: dev acc=0.3261\n",
            "Iter 27500: loss=573.2011, time=377.33s\n",
            "iter 27500: dev acc=0.3279\n",
            "Iter 28000: loss=570.3196, time=384.20s\n",
            "iter 28000: dev acc=0.3351\n",
            "Iter 28500: loss=587.6598, time=391.08s\n",
            "iter 28500: dev acc=0.3424\n",
            "Iter 29000: loss=575.5217, time=397.86s\n",
            "iter 29000: dev acc=0.3415\n",
            "Iter 29500: loss=590.0750, time=404.74s\n",
            "iter 29500: dev acc=0.3424\n",
            "Iter 30000: loss=593.6298, time=411.63s\n",
            "iter 30000: dev acc=0.3233\n",
            "Done training\n",
            "Loading best model\n",
            "best model iter 26000: train acc=0.5287, dev acc=0.3706, test acc=0.3756\n",
            "PTDeepCBOW(\n",
            "  (embed): Embedding(20727, 300)\n",
            "  (W): Linear(in_features=300, out_features=100, bias=True)\n",
            "  (Seq): Sequential(\n",
            "    (0): Linear(in_features=300, out_features=100, bias=True)\n",
            "    (1): Tanh()\n",
            "    (2): Linear(in_features=100, out_features=100, bias=True)\n",
            "    (3): Tanh()\n",
            "    (4): Linear(in_features=100, out_features=5, bias=True)\n",
            "  )\n",
            ")\n",
            "embed.weight             [20727, 300] requires_grad=True\n",
            "W.weight                 [100, 300]   requires_grad=True\n",
            "W.bias                   [100]        requires_grad=True\n",
            "Seq.2.weight             [100, 100]   requires_grad=True\n",
            "Seq.2.bias               [100]        requires_grad=True\n",
            "Seq.4.weight             [5, 100]     requires_grad=True\n",
            "Seq.4.bias               [5]          requires_grad=True\n",
            "\n",
            "Total parameters: 6258805\n",
            "\n",
            "Shuffling training data\n",
            "Iter 500: loss=803.8099, time=3.63s\n",
            "iter 500: dev acc=0.3560\n",
            "new highscore\n",
            "Iter 1000: loss=732.7496, time=9.62s\n",
            "iter 1000: dev acc=0.2888\n",
            "Iter 1500: loss=710.5028, time=15.53s\n",
            "iter 1500: dev acc=0.3370\n",
            "Iter 2000: loss=703.7830, time=21.45s\n",
            "iter 2000: dev acc=0.3697\n",
            "new highscore\n",
            "Iter 2500: loss=691.7198, time=27.43s\n",
            "iter 2500: dev acc=0.3706\n",
            "new highscore\n",
            "Iter 3000: loss=672.9731, time=33.41s\n",
            "iter 3000: dev acc=0.4015\n",
            "new highscore\n",
            "Iter 3500: loss=714.5690, time=39.40s\n",
            "iter 3500: dev acc=0.4087\n",
            "new highscore\n",
            "Iter 4000: loss=711.4197, time=45.39s\n",
            "iter 4000: dev acc=0.3451\n",
            "Iter 4500: loss=688.5891, time=51.25s\n",
            "iter 4500: dev acc=0.3960\n",
            "Iter 5000: loss=669.3326, time=57.12s\n",
            "iter 5000: dev acc=0.4078\n",
            "Iter 5500: loss=674.6055, time=63.01s\n",
            "iter 5500: dev acc=0.3878\n",
            "Iter 6000: loss=714.2072, time=68.92s\n",
            "iter 6000: dev acc=0.3887\n",
            "Iter 6500: loss=664.5684, time=74.84s\n",
            "iter 6500: dev acc=0.4096\n",
            "new highscore\n",
            "Iter 7000: loss=684.1294, time=80.80s\n",
            "iter 7000: dev acc=0.3560\n",
            "Iter 7500: loss=667.5430, time=86.70s\n",
            "iter 7500: dev acc=0.3978\n",
            "Iter 8000: loss=663.7746, time=92.61s\n",
            "iter 8000: dev acc=0.3987\n",
            "Iter 8500: loss=676.2448, time=98.53s\n",
            "iter 8500: dev acc=0.4133\n",
            "new highscore\n",
            "Shuffling training data\n",
            "Iter 9000: loss=657.1108, time=104.50s\n",
            "iter 9000: dev acc=0.4005\n",
            "Iter 9500: loss=676.5723, time=110.41s\n",
            "iter 9500: dev acc=0.3769\n",
            "Iter 10000: loss=675.6640, time=116.31s\n",
            "iter 10000: dev acc=0.4187\n",
            "new highscore\n",
            "Iter 10500: loss=675.9239, time=122.28s\n",
            "iter 10500: dev acc=0.3515\n",
            "Iter 11000: loss=644.5230, time=128.21s\n",
            "iter 11000: dev acc=0.4114\n",
            "Iter 11500: loss=654.8807, time=134.13s\n",
            "iter 11500: dev acc=0.4015\n",
            "Iter 12000: loss=655.7612, time=140.01s\n",
            "iter 12000: dev acc=0.4096\n",
            "Iter 12500: loss=667.6232, time=145.92s\n",
            "iter 12500: dev acc=0.3969\n",
            "Iter 13000: loss=660.5530, time=151.84s\n",
            "iter 13000: dev acc=0.4133\n",
            "Iter 13500: loss=687.5821, time=157.75s\n",
            "iter 13500: dev acc=0.4251\n",
            "new highscore\n",
            "Iter 14000: loss=679.8792, time=163.72s\n",
            "iter 14000: dev acc=0.3969\n",
            "Iter 14500: loss=683.2690, time=169.65s\n",
            "iter 14500: dev acc=0.4296\n",
            "new highscore\n",
            "Iter 15000: loss=666.3160, time=175.62s\n",
            "iter 15000: dev acc=0.4214\n",
            "Iter 15500: loss=649.8053, time=181.55s\n",
            "iter 15500: dev acc=0.4114\n",
            "Iter 16000: loss=663.4357, time=187.38s\n",
            "iter 16000: dev acc=0.4214\n",
            "Iter 16500: loss=658.7931, time=193.18s\n",
            "iter 16500: dev acc=0.3742\n",
            "Iter 17000: loss=677.5428, time=199.03s\n",
            "iter 17000: dev acc=0.4151\n",
            "Shuffling training data\n",
            "Iter 17500: loss=629.8097, time=204.97s\n",
            "iter 17500: dev acc=0.3715\n",
            "Iter 18000: loss=657.7957, time=210.88s\n",
            "iter 18000: dev acc=0.4114\n",
            "Iter 18500: loss=659.6918, time=216.75s\n",
            "iter 18500: dev acc=0.4214\n",
            "Iter 19000: loss=635.9317, time=222.65s\n",
            "iter 19000: dev acc=0.4069\n",
            "Iter 19500: loss=671.8046, time=228.54s\n",
            "iter 19500: dev acc=0.4187\n",
            "Iter 20000: loss=625.1577, time=234.44s\n",
            "iter 20000: dev acc=0.4205\n",
            "Iter 20500: loss=640.4750, time=240.34s\n",
            "iter 20500: dev acc=0.4169\n",
            "Iter 21000: loss=649.6841, time=246.23s\n",
            "iter 21000: dev acc=0.4178\n",
            "Iter 21500: loss=672.3641, time=252.15s\n",
            "iter 21500: dev acc=0.3906\n",
            "Iter 22000: loss=642.1666, time=258.09s\n",
            "iter 22000: dev acc=0.4160\n",
            "Iter 22500: loss=666.7325, time=263.98s\n",
            "iter 22500: dev acc=0.4042\n",
            "Iter 23000: loss=646.0492, time=269.91s\n",
            "iter 23000: dev acc=0.4214\n",
            "Iter 23500: loss=659.9238, time=275.84s\n",
            "iter 23500: dev acc=0.3933\n",
            "Iter 24000: loss=658.5728, time=281.77s\n",
            "iter 24000: dev acc=0.3787\n",
            "Iter 24500: loss=652.9058, time=287.70s\n",
            "iter 24500: dev acc=0.3978\n",
            "Iter 25000: loss=658.6674, time=293.59s\n",
            "iter 25000: dev acc=0.3769\n",
            "Iter 25500: loss=655.5207, time=299.49s\n",
            "iter 25500: dev acc=0.4223\n",
            "Shuffling training data\n",
            "Iter 26000: loss=659.6400, time=305.42s\n",
            "iter 26000: dev acc=0.3969\n",
            "Iter 26500: loss=640.1175, time=311.35s\n",
            "iter 26500: dev acc=0.4387\n",
            "new highscore\n",
            "Iter 27000: loss=631.1663, time=317.36s\n",
            "iter 27000: dev acc=0.4133\n",
            "Iter 27500: loss=655.0093, time=323.28s\n",
            "iter 27500: dev acc=0.3824\n",
            "Iter 28000: loss=648.2726, time=329.19s\n",
            "iter 28000: dev acc=0.4205\n",
            "Iter 28500: loss=650.5113, time=335.11s\n",
            "iter 28500: dev acc=0.4005\n",
            "Iter 29000: loss=662.2527, time=341.01s\n",
            "iter 29000: dev acc=0.4278\n",
            "Iter 29500: loss=648.0805, time=346.93s\n",
            "iter 29500: dev acc=0.4105\n",
            "Iter 30000: loss=650.3883, time=352.82s\n",
            "iter 30000: dev acc=0.4360\n",
            "Done training\n",
            "Loading best model\n",
            "best model iter 26500: train acc=0.4582, dev acc=0.4387, test acc=0.4520\n",
            "Shuffling training data\n",
            "Iter 500: loss=805.3901, time=3.63s\n",
            "iter 500: dev acc=0.2807\n",
            "new highscore\n",
            "Iter 1000: loss=761.5033, time=9.64s\n",
            "iter 1000: dev acc=0.3833\n",
            "new highscore\n",
            "Iter 1500: loss=739.3088, time=15.60s\n",
            "iter 1500: dev acc=0.3924\n",
            "new highscore\n",
            "Iter 2000: loss=743.9964, time=21.57s\n",
            "iter 2000: dev acc=0.3034\n",
            "Iter 2500: loss=692.2114, time=27.47s\n",
            "iter 2500: dev acc=0.3479\n",
            "Iter 3000: loss=688.5756, time=33.38s\n",
            "iter 3000: dev acc=0.3760\n",
            "Iter 3500: loss=707.7137, time=39.30s\n",
            "iter 3500: dev acc=0.3270\n",
            "Iter 4000: loss=692.6339, time=45.17s\n",
            "iter 4000: dev acc=0.3751\n",
            "Iter 4500: loss=686.9210, time=51.10s\n",
            "iter 4500: dev acc=0.3651\n",
            "Iter 5000: loss=660.2203, time=57.03s\n",
            "iter 5000: dev acc=0.4096\n",
            "new highscore\n",
            "Iter 5500: loss=680.3235, time=63.00s\n",
            "iter 5500: dev acc=0.3751\n",
            "Iter 6000: loss=705.9836, time=68.90s\n",
            "iter 6000: dev acc=0.4015\n",
            "Iter 6500: loss=672.3929, time=74.82s\n",
            "iter 6500: dev acc=0.4242\n",
            "new highscore\n",
            "Iter 7000: loss=666.6007, time=80.76s\n",
            "iter 7000: dev acc=0.4178\n",
            "Iter 7500: loss=676.7453, time=86.64s\n",
            "iter 7500: dev acc=0.4042\n",
            "Iter 8000: loss=652.5144, time=92.57s\n",
            "iter 8000: dev acc=0.4160\n",
            "Iter 8500: loss=655.8288, time=98.47s\n",
            "iter 8500: dev acc=0.4233\n",
            "Shuffling training data\n",
            "Iter 9000: loss=692.5865, time=104.41s\n",
            "iter 9000: dev acc=0.3769\n",
            "Iter 9500: loss=662.1907, time=110.32s\n",
            "iter 9500: dev acc=0.4214\n",
            "Iter 10000: loss=672.7880, time=116.07s\n",
            "iter 10000: dev acc=0.4087\n",
            "Iter 10500: loss=673.5176, time=121.87s\n",
            "iter 10500: dev acc=0.3851\n",
            "Iter 11000: loss=660.9095, time=127.77s\n",
            "iter 11000: dev acc=0.4005\n",
            "Iter 11500: loss=653.8406, time=133.68s\n",
            "iter 11500: dev acc=0.4078\n",
            "Iter 12000: loss=664.4609, time=139.58s\n",
            "iter 12000: dev acc=0.4051\n",
            "Iter 12500: loss=666.1386, time=145.50s\n",
            "iter 12500: dev acc=0.3733\n",
            "Iter 13000: loss=639.8983, time=151.45s\n",
            "iter 13000: dev acc=0.4142\n",
            "Iter 13500: loss=647.7870, time=157.34s\n",
            "iter 13500: dev acc=0.3996\n",
            "Iter 14000: loss=657.4788, time=163.22s\n",
            "iter 14000: dev acc=0.4242\n",
            "Iter 14500: loss=644.2661, time=169.13s\n",
            "iter 14500: dev acc=0.4187\n",
            "Iter 15000: loss=679.0898, time=175.05s\n",
            "iter 15000: dev acc=0.4069\n",
            "Iter 15500: loss=656.3900, time=180.96s\n",
            "iter 15500: dev acc=0.4314\n",
            "new highscore\n",
            "Iter 16000: loss=669.7244, time=186.89s\n",
            "iter 16000: dev acc=0.4024\n",
            "Iter 16500: loss=651.8087, time=192.84s\n",
            "iter 16500: dev acc=0.4051\n",
            "Iter 17000: loss=662.8156, time=198.76s\n",
            "iter 17000: dev acc=0.3969\n",
            "Shuffling training data\n",
            "Iter 17500: loss=659.0395, time=204.67s\n",
            "iter 17500: dev acc=0.4060\n",
            "Iter 18000: loss=640.5299, time=210.58s\n",
            "iter 18000: dev acc=0.3760\n",
            "Iter 18500: loss=665.7811, time=216.51s\n",
            "iter 18500: dev acc=0.4160\n",
            "Iter 19000: loss=640.6003, time=222.38s\n",
            "iter 19000: dev acc=0.4160\n",
            "Iter 19500: loss=666.0855, time=228.28s\n",
            "iter 19500: dev acc=0.4287\n",
            "Iter 20000: loss=643.4870, time=234.19s\n",
            "iter 20000: dev acc=0.3969\n",
            "Iter 20500: loss=645.2927, time=240.09s\n",
            "iter 20500: dev acc=0.4223\n",
            "Iter 21000: loss=670.2560, time=245.98s\n",
            "iter 21000: dev acc=0.4205\n",
            "Iter 21500: loss=652.2774, time=251.86s\n",
            "iter 21500: dev acc=0.4260\n",
            "Iter 22000: loss=687.5393, time=257.81s\n",
            "iter 22000: dev acc=0.4314\n",
            "Iter 22500: loss=654.0140, time=263.69s\n",
            "iter 22500: dev acc=0.4133\n",
            "Iter 23000: loss=662.1249, time=269.61s\n",
            "iter 23000: dev acc=0.4133\n",
            "Iter 23500: loss=648.7431, time=275.51s\n",
            "iter 23500: dev acc=0.4096\n",
            "Iter 24000: loss=648.3642, time=281.31s\n",
            "iter 24000: dev acc=0.4051\n",
            "Iter 24500: loss=650.4102, time=287.19s\n",
            "iter 24500: dev acc=0.4015\n",
            "Iter 25000: loss=654.4310, time=293.04s\n",
            "iter 25000: dev acc=0.4124\n",
            "Iter 25500: loss=635.1203, time=298.95s\n",
            "iter 25500: dev acc=0.4169\n",
            "Shuffling training data\n",
            "Iter 26000: loss=635.9272, time=304.90s\n",
            "iter 26000: dev acc=0.3887\n",
            "Iter 26500: loss=644.3946, time=310.81s\n",
            "iter 26500: dev acc=0.4160\n",
            "Iter 27000: loss=660.5229, time=316.50s\n",
            "iter 27000: dev acc=0.3815\n",
            "Iter 27500: loss=631.9217, time=322.40s\n",
            "iter 27500: dev acc=0.4278\n",
            "Iter 28000: loss=649.4384, time=328.31s\n",
            "iter 28000: dev acc=0.4214\n",
            "Iter 28500: loss=668.8281, time=334.18s\n",
            "iter 28500: dev acc=0.4205\n",
            "Iter 29000: loss=635.1219, time=340.08s\n",
            "iter 29000: dev acc=0.3842\n",
            "Iter 29500: loss=624.7089, time=346.01s\n",
            "iter 29500: dev acc=0.4114\n",
            "Iter 30000: loss=652.6099, time=351.94s\n",
            "iter 30000: dev acc=0.4296\n",
            "Done training\n",
            "Loading best model\n",
            "best model iter 15500: train acc=0.4685, dev acc=0.4314, test acc=0.4462\n",
            "Shuffling training data\n",
            "Iter 500: loss=822.1073, time=3.60s\n",
            "iter 500: dev acc=0.2888\n",
            "new highscore\n",
            "Iter 1000: loss=754.6606, time=9.56s\n",
            "iter 1000: dev acc=0.3370\n",
            "new highscore\n",
            "Iter 1500: loss=728.9120, time=15.53s\n",
            "iter 1500: dev acc=0.3460\n",
            "new highscore\n",
            "Iter 2000: loss=722.5395, time=21.51s\n",
            "iter 2000: dev acc=0.3896\n",
            "new highscore\n",
            "Iter 2500: loss=710.8414, time=27.49s\n",
            "iter 2500: dev acc=0.3688\n",
            "Iter 3000: loss=692.7615, time=33.40s\n",
            "iter 3000: dev acc=0.3887\n",
            "Iter 3500: loss=683.4748, time=39.21s\n",
            "iter 3500: dev acc=0.3969\n",
            "new highscore\n",
            "Iter 4000: loss=684.3134, time=45.02s\n",
            "iter 4000: dev acc=0.3606\n",
            "Iter 4500: loss=687.6230, time=50.91s\n",
            "iter 4500: dev acc=0.3887\n",
            "Iter 5000: loss=656.8758, time=56.83s\n",
            "iter 5000: dev acc=0.3878\n",
            "Iter 5500: loss=701.2272, time=62.68s\n",
            "iter 5500: dev acc=0.3615\n",
            "Iter 6000: loss=675.9621, time=68.57s\n",
            "iter 6000: dev acc=0.3860\n",
            "Iter 6500: loss=676.9842, time=74.46s\n",
            "iter 6500: dev acc=0.3742\n",
            "Iter 7000: loss=680.2065, time=80.34s\n",
            "iter 7000: dev acc=0.4169\n",
            "new highscore\n",
            "Iter 7500: loss=670.4684, time=86.26s\n",
            "iter 7500: dev acc=0.4105\n",
            "Iter 8000: loss=687.8878, time=92.14s\n",
            "iter 8000: dev acc=0.3697\n",
            "Iter 8500: loss=663.5146, time=98.02s\n",
            "iter 8500: dev acc=0.3996\n",
            "Shuffling training data\n",
            "Iter 9000: loss=648.0217, time=103.93s\n",
            "iter 9000: dev acc=0.4251\n",
            "new highscore\n",
            "Iter 9500: loss=649.6752, time=109.87s\n",
            "iter 9500: dev acc=0.3906\n",
            "Iter 10000: loss=652.3100, time=115.76s\n",
            "iter 10000: dev acc=0.3860\n",
            "Iter 10500: loss=680.1382, time=121.64s\n",
            "iter 10500: dev acc=0.3787\n",
            "Iter 11000: loss=659.0714, time=127.46s\n",
            "iter 11000: dev acc=0.4178\n",
            "Iter 11500: loss=661.1337, time=133.32s\n",
            "iter 11500: dev acc=0.4205\n",
            "Iter 12000: loss=685.8072, time=139.17s\n",
            "iter 12000: dev acc=0.4223\n",
            "Iter 12500: loss=663.6059, time=145.06s\n",
            "iter 12500: dev acc=0.3969\n",
            "Iter 13000: loss=676.1827, time=150.95s\n",
            "iter 13000: dev acc=0.4124\n",
            "Iter 13500: loss=669.9670, time=156.84s\n",
            "iter 13500: dev acc=0.4015\n",
            "Iter 14000: loss=663.3673, time=162.72s\n",
            "iter 14000: dev acc=0.3860\n",
            "Iter 14500: loss=664.2662, time=168.57s\n",
            "iter 14500: dev acc=0.4105\n",
            "Iter 15000: loss=654.8007, time=174.46s\n",
            "iter 15000: dev acc=0.3887\n",
            "Iter 15500: loss=674.3294, time=180.35s\n",
            "iter 15500: dev acc=0.3333\n",
            "Iter 16000: loss=640.6857, time=186.23s\n",
            "iter 16000: dev acc=0.4169\n",
            "Iter 16500: loss=693.6809, time=192.12s\n",
            "iter 16500: dev acc=0.4114\n",
            "Iter 17000: loss=645.1374, time=197.97s\n",
            "iter 17000: dev acc=0.3951\n",
            "Shuffling training data\n",
            "Iter 17500: loss=675.2150, time=203.80s\n",
            "iter 17500: dev acc=0.3806\n",
            "Iter 18000: loss=650.5053, time=209.69s\n",
            "iter 18000: dev acc=0.3851\n",
            "Iter 18500: loss=643.8503, time=215.56s\n",
            "iter 18500: dev acc=0.4214\n",
            "Iter 19000: loss=632.2265, time=221.45s\n",
            "iter 19000: dev acc=0.4196\n",
            "Iter 19500: loss=691.9922, time=227.31s\n",
            "iter 19500: dev acc=0.4060\n",
            "Iter 20000: loss=634.2148, time=233.19s\n",
            "iter 20000: dev acc=0.3860\n",
            "Iter 20500: loss=698.5826, time=239.09s\n",
            "iter 20500: dev acc=0.3806\n",
            "Iter 21000: loss=649.0219, time=244.96s\n",
            "iter 21000: dev acc=0.4033\n",
            "Iter 21500: loss=663.9972, time=250.85s\n",
            "iter 21500: dev acc=0.4051\n",
            "Iter 22000: loss=644.6716, time=256.72s\n",
            "iter 22000: dev acc=0.4151\n",
            "Iter 22500: loss=655.5840, time=262.60s\n",
            "iter 22500: dev acc=0.4069\n",
            "Iter 23000: loss=633.6729, time=268.52s\n",
            "iter 23000: dev acc=0.4024\n",
            "Iter 23500: loss=654.3153, time=274.43s\n",
            "iter 23500: dev acc=0.3987\n",
            "Iter 24000: loss=667.5551, time=280.28s\n",
            "iter 24000: dev acc=0.4287\n",
            "new highscore\n",
            "Iter 24500: loss=651.7280, time=286.20s\n",
            "iter 24500: dev acc=0.4105\n",
            "Iter 25000: loss=645.5949, time=292.07s\n",
            "iter 25000: dev acc=0.4096\n",
            "Iter 25500: loss=615.7002, time=297.96s\n",
            "iter 25500: dev acc=0.4214\n",
            "Shuffling training data\n",
            "Iter 26000: loss=634.3794, time=303.82s\n",
            "iter 26000: dev acc=0.4169\n",
            "Iter 26500: loss=628.6441, time=309.73s\n",
            "iter 26500: dev acc=0.4242\n",
            "Iter 27000: loss=626.7541, time=315.56s\n",
            "iter 27000: dev acc=0.4242\n",
            "Iter 27500: loss=651.6150, time=321.46s\n",
            "iter 27500: dev acc=0.3815\n",
            "Iter 28000: loss=668.1127, time=327.33s\n",
            "iter 28000: dev acc=0.4296\n",
            "new highscore\n",
            "Iter 28500: loss=603.7101, time=333.25s\n",
            "iter 28500: dev acc=0.4060\n",
            "Iter 29000: loss=647.2807, time=339.17s\n",
            "iter 29000: dev acc=0.4269\n",
            "Iter 29500: loss=673.6998, time=345.04s\n",
            "iter 29500: dev acc=0.3987\n",
            "Iter 30000: loss=652.1180, time=350.83s\n",
            "iter 30000: dev acc=0.4124\n",
            "Done training\n",
            "Loading best model\n",
            "best model iter 28000: train acc=0.4501, dev acc=0.4296, test acc=0.4244\n",
            "LSTMClassifier(\n",
            "  (embed): Embedding(20727, 300, padding_idx=1)\n",
            "  (rnn): MyLSTMCell(300, 168)\n",
            "  (output_layer): Sequential(\n",
            "    (0): Dropout(p=0.5)\n",
            "    (1): Linear(in_features=168, out_features=5, bias=True)\n",
            "  )\n",
            ")\n",
            "embed.weight             [20727, 300] requires_grad=True\n",
            "rnn.Wi.weight            [672, 300]   requires_grad=True\n",
            "rnn.Wi.bias              [672]        requires_grad=True\n",
            "rnn.Wh.weight            [672, 168]   requires_grad=True\n",
            "rnn.Wh.bias              [672]        requires_grad=True\n",
            "output_layer.1.weight    [5, 168]     requires_grad=True\n",
            "output_layer.1.bias      [5]          requires_grad=True\n",
            "\n",
            "Total parameters: 6534785\n",
            "\n",
            "Shuffling training data\n",
            "Shuffling training data\n",
            "Iter 500: loss=719.9695, time=84.35s\n",
            "iter 500: dev acc=0.4105\n",
            "new highscore\n",
            "Shuffling training data\n",
            "Iter 1000: loss=649.9242, time=171.54s\n",
            "iter 1000: dev acc=0.4269\n",
            "new highscore\n",
            "Shuffling training data\n",
            "Shuffling training data\n",
            "Iter 1500: loss=621.9858, time=258.96s\n",
            "iter 1500: dev acc=0.4378\n",
            "new highscore\n",
            "Shuffling training data\n",
            "Iter 2000: loss=604.7924, time=345.74s\n",
            "iter 2000: dev acc=0.4378\n",
            "Shuffling training data\n",
            "Shuffling training data\n",
            "Iter 2500: loss=594.1080, time=433.77s\n",
            "iter 2500: dev acc=0.4342\n",
            "Shuffling training data\n",
            "Iter 3000: loss=570.1730, time=519.76s\n",
            "iter 3000: dev acc=0.4496\n",
            "new highscore\n",
            "Shuffling training data\n",
            "Shuffling training data\n",
            "Iter 3500: loss=555.9263, time=607.18s\n",
            "iter 3500: dev acc=0.4550\n",
            "new highscore\n",
            "Shuffling training data\n",
            "Iter 4000: loss=539.2146, time=695.10s\n",
            "iter 4000: dev acc=0.4423\n",
            "Shuffling training data\n",
            "Shuffling training data\n",
            "Iter 4500: loss=513.3605, time=781.83s\n",
            "iter 4500: dev acc=0.4541\n",
            "Shuffling training data\n",
            "Iter 5000: loss=495.0953, time=869.65s\n",
            "iter 5000: dev acc=0.4487\n",
            "Shuffling training data\n",
            "Shuffling training data\n",
            "Iter 5500: loss=469.8850, time=956.58s\n",
            "iter 5500: dev acc=0.4496\n",
            "Shuffling training data\n",
            "Iter 6000: loss=440.4217, time=1044.07s\n",
            "iter 6000: dev acc=0.4478\n",
            "Shuffling training data\n",
            "Shuffling training data\n",
            "Iter 6500: loss=416.9049, time=1131.30s\n",
            "iter 6500: dev acc=0.4496\n",
            "Shuffling training data\n",
            "Iter 7000: loss=385.7802, time=1218.13s\n",
            "iter 7000: dev acc=0.4441\n",
            "Shuffling training data\n",
            "Iter 7500: loss=360.2861, time=1305.09s\n",
            "iter 7500: dev acc=0.4360\n",
            "Shuffling training data\n",
            "Shuffling training data\n",
            "Iter 8000: loss=320.2702, time=1391.92s\n",
            "iter 8000: dev acc=0.4332\n",
            "Shuffling training data\n",
            "Iter 8500: loss=302.3314, time=1479.82s\n",
            "iter 8500: dev acc=0.4178\n",
            "Shuffling training data\n",
            "Shuffling training data\n",
            "Iter 9000: loss=266.1939, time=1567.65s\n",
            "iter 9000: dev acc=0.4233\n",
            "Shuffling training data\n",
            "Iter 9500: loss=247.9154, time=1655.05s\n",
            "iter 9500: dev acc=0.4223\n",
            "Shuffling training data\n",
            "Shuffling training data\n",
            "Iter 10000: loss=214.0830, time=1742.28s\n",
            "iter 10000: dev acc=0.4296\n",
            "Shuffling training data\n",
            "Iter 10500: loss=196.9851, time=1829.44s\n",
            "iter 10500: dev acc=0.4242\n",
            "Shuffling training data\n",
            "Shuffling training data\n",
            "Iter 11000: loss=178.9719, time=1916.65s\n",
            "iter 11000: dev acc=0.4124\n",
            "Shuffling training data\n",
            "Iter 11500: loss=157.5164, time=2003.74s\n",
            "iter 11500: dev acc=0.4223\n",
            "Shuffling training data\n",
            "Shuffling training data\n",
            "Iter 12000: loss=154.3255, time=2090.50s\n",
            "iter 12000: dev acc=0.4087\n",
            "Shuffling training data\n",
            "Iter 12500: loss=134.3538, time=2177.39s\n",
            "iter 12500: dev acc=0.3978\n",
            "Shuffling training data\n",
            "Shuffling training data\n",
            "Iter 13000: loss=119.8620, time=2264.46s\n",
            "iter 13000: dev acc=0.4105\n",
            "Shuffling training data\n",
            "Iter 13500: loss=107.2533, time=2351.49s\n",
            "iter 13500: dev acc=0.3996\n",
            "Shuffling training data\n",
            "Iter 14000: loss=94.3903, time=2438.95s\n",
            "iter 14000: dev acc=0.4360\n",
            "Shuffling training data\n",
            "Shuffling training data\n",
            "Iter 14500: loss=99.2278, time=2526.09s\n",
            "iter 14500: dev acc=0.4069\n",
            "Shuffling training data\n",
            "Iter 15000: loss=91.6944, time=2612.56s\n",
            "iter 15000: dev acc=0.4196\n",
            "Shuffling training data\n",
            "Shuffling training data\n",
            "Iter 15500: loss=69.1171, time=2700.42s\n",
            "iter 15500: dev acc=0.4105\n",
            "Shuffling training data\n",
            "Iter 16000: loss=56.8600, time=2786.97s\n",
            "iter 16000: dev acc=0.3987\n",
            "Shuffling training data\n",
            "Shuffling training data\n",
            "Iter 16500: loss=92.3367, time=2874.66s\n",
            "iter 16500: dev acc=0.4087\n",
            "Shuffling training data\n",
            "Iter 17000: loss=51.6747, time=2960.73s\n",
            "iter 17000: dev acc=0.4087\n",
            "Shuffling training data\n",
            "Shuffling training data\n",
            "Iter 17500: loss=50.7843, time=3047.52s\n",
            "iter 17500: dev acc=0.4178\n",
            "Shuffling training data\n",
            "Iter 18000: loss=80.8711, time=3134.82s\n",
            "iter 18000: dev acc=0.4233\n",
            "Shuffling training data\n",
            "Shuffling training data\n",
            "Iter 18500: loss=44.1370, time=3223.01s\n",
            "iter 18500: dev acc=0.4169\n",
            "Shuffling training data\n",
            "Iter 19000: loss=45.0275, time=3310.39s\n",
            "iter 19000: dev acc=0.4151\n",
            "Shuffling training data\n",
            "Shuffling training data\n",
            "Iter 19500: loss=45.3557, time=3397.07s\n",
            "iter 19500: dev acc=0.4078\n",
            "Shuffling training data\n",
            "Iter 20000: loss=51.6412, time=3483.80s\n",
            "iter 20000: dev acc=0.4260\n",
            "Shuffling training data\n",
            "Iter 20500: loss=41.7642, time=3570.74s\n",
            "iter 20500: dev acc=0.4142\n",
            "Shuffling training data\n",
            "Shuffling training data\n",
            "Iter 21000: loss=31.7865, time=3657.78s\n",
            "iter 21000: dev acc=0.4296\n",
            "Shuffling training data\n",
            "Iter 21500: loss=52.8911, time=3744.09s\n",
            "iter 21500: dev acc=0.4223\n",
            "Shuffling training data\n",
            "Shuffling training data\n",
            "Iter 22000: loss=33.0098, time=3830.67s\n",
            "iter 22000: dev acc=0.4323\n",
            "Shuffling training data\n",
            "Iter 22500: loss=32.3447, time=3917.32s\n",
            "iter 22500: dev acc=0.4087\n",
            "Shuffling training data\n",
            "Shuffling training data\n",
            "Iter 23000: loss=36.7786, time=4003.86s\n",
            "iter 23000: dev acc=0.4069\n",
            "Shuffling training data\n",
            "Iter 23500: loss=31.4300, time=4091.05s\n",
            "iter 23500: dev acc=0.4269\n",
            "Shuffling training data\n",
            "Shuffling training data\n",
            "Iter 24000: loss=18.7632, time=4177.75s\n",
            "iter 24000: dev acc=0.4278\n",
            "Shuffling training data\n",
            "Iter 24500: loss=33.0866, time=4266.08s\n",
            "iter 24500: dev acc=0.4078\n",
            "Shuffling training data\n",
            "Shuffling training data\n",
            "Iter 25000: loss=36.4204, time=4354.58s\n",
            "iter 25000: dev acc=0.4024\n",
            "Shuffling training data\n",
            "Iter 25500: loss=30.4852, time=4442.58s\n",
            "iter 25500: dev acc=0.4287\n",
            "Shuffling training data\n",
            "Shuffling training data\n",
            "Iter 26000: loss=25.5687, time=4530.74s\n",
            "iter 26000: dev acc=0.4114\n",
            "Shuffling training data\n",
            "Iter 26500: loss=15.8335, time=4618.17s\n",
            "iter 26500: dev acc=0.4087\n",
            "Shuffling training data\n",
            "Iter 27000: loss=10.7156, time=4705.85s\n",
            "iter 27000: dev acc=0.4169\n",
            "Shuffling training data\n",
            "Shuffling training data\n",
            "Iter 27500: loss=46.1835, time=4793.42s\n",
            "iter 27500: dev acc=0.4124\n",
            "Shuffling training data\n",
            "Iter 28000: loss=23.2751, time=4881.26s\n",
            "iter 28000: dev acc=0.4251\n",
            "Shuffling training data\n",
            "Shuffling training data\n",
            "Iter 28500: loss=23.4050, time=4968.63s\n",
            "iter 28500: dev acc=0.4042\n",
            "Shuffling training data\n",
            "Iter 29000: loss=18.8789, time=5056.16s\n",
            "iter 29000: dev acc=0.4105\n",
            "Shuffling training data\n",
            "Shuffling training data\n",
            "Iter 29500: loss=22.8684, time=5143.54s\n",
            "iter 29500: dev acc=0.4242\n",
            "Shuffling training data\n",
            "Iter 30000: loss=20.5515, time=5231.26s\n",
            "iter 30000: dev acc=0.4223\n",
            "Done training\n",
            "Loading best model\n",
            "best model iter 3500: train acc=0.5600, dev acc=0.4550, test acc=0.4814\n",
            "Shuffling training data\n",
            "Shuffling training data\n",
            "Iter 500: loss=718.4770, time=84.68s\n",
            "iter 500: dev acc=0.4087\n",
            "new highscore\n",
            "Shuffling training data\n",
            "Iter 1000: loss=644.9543, time=172.58s\n",
            "iter 1000: dev acc=0.4251\n",
            "new highscore\n",
            "Shuffling training data\n",
            "Shuffling training data\n",
            "Iter 1500: loss=622.1782, time=259.84s\n",
            "iter 1500: dev acc=0.4387\n",
            "new highscore\n",
            "Shuffling training data\n",
            "Iter 2000: loss=601.0830, time=346.74s\n",
            "iter 2000: dev acc=0.4432\n",
            "new highscore\n",
            "Shuffling training data\n",
            "Shuffling training data\n",
            "Iter 2500: loss=587.4354, time=434.15s\n",
            "iter 2500: dev acc=0.4569\n",
            "new highscore\n",
            "Shuffling training data\n",
            "Iter 3000: loss=573.3735, time=521.42s\n",
            "iter 3000: dev acc=0.4559\n",
            "Shuffling training data\n",
            "Shuffling training data\n",
            "Iter 3500: loss=555.3979, time=608.78s\n",
            "iter 3500: dev acc=0.4441\n",
            "Shuffling training data\n",
            "Iter 4000: loss=540.6552, time=696.46s\n",
            "iter 4000: dev acc=0.4587\n",
            "new highscore\n",
            "Shuffling training data\n",
            "Shuffling training data\n",
            "Iter 4500: loss=520.8333, time=784.84s\n",
            "iter 4500: dev acc=0.4650\n",
            "new highscore\n",
            "Shuffling training data\n",
            "Iter 5000: loss=497.4177, time=872.14s\n",
            "iter 5000: dev acc=0.4532\n",
            "Shuffling training data\n",
            "Shuffling training data\n",
            "Iter 5500: loss=477.4954, time=960.04s\n",
            "iter 5500: dev acc=0.4623\n",
            "Shuffling training data\n",
            "Iter 6000: loss=453.6334, time=1049.03s\n",
            "iter 6000: dev acc=0.4387\n",
            "Shuffling training data\n",
            "Shuffling training data\n",
            "Iter 6500: loss=430.0719, time=1137.03s\n",
            "iter 6500: dev acc=0.4378\n",
            "Shuffling training data\n",
            "Iter 7000: loss=400.9451, time=1223.18s\n",
            "iter 7000: dev acc=0.4342\n",
            "Shuffling training data\n",
            "Iter 7500: loss=374.5648, time=1309.74s\n",
            "iter 7500: dev acc=0.4523\n",
            "Shuffling training data\n",
            "Shuffling training data\n",
            "Iter 8000: loss=346.1785, time=1396.13s\n",
            "iter 8000: dev acc=0.4360\n",
            "Shuffling training data\n",
            "Iter 8500: loss=322.8791, time=1484.12s\n",
            "iter 8500: dev acc=0.4287\n",
            "Shuffling training data\n",
            "Shuffling training data\n",
            "Iter 9000: loss=281.8164, time=1572.17s\n",
            "iter 9000: dev acc=0.4296\n",
            "Shuffling training data\n",
            "Iter 9500: loss=266.2316, time=1661.29s\n",
            "iter 9500: dev acc=0.4269\n",
            "Shuffling training data\n",
            "Shuffling training data\n",
            "Iter 10000: loss=241.0176, time=1749.61s\n",
            "iter 10000: dev acc=0.4169\n",
            "Shuffling training data\n",
            "Iter 10500: loss=216.6894, time=1837.29s\n",
            "iter 10500: dev acc=0.4178\n",
            "Shuffling training data\n",
            "Shuffling training data\n",
            "Iter 11000: loss=199.7298, time=1925.03s\n",
            "iter 11000: dev acc=0.4278\n",
            "Shuffling training data\n",
            "Iter 11500: loss=182.1224, time=2012.14s\n",
            "iter 11500: dev acc=0.4214\n",
            "Shuffling training data\n",
            "Shuffling training data\n",
            "Iter 12000: loss=151.1997, time=2100.05s\n",
            "iter 12000: dev acc=0.4305\n",
            "Shuffling training data\n",
            "Iter 12500: loss=139.7770, time=2187.97s\n",
            "iter 12500: dev acc=0.4033\n",
            "Shuffling training data\n",
            "Shuffling training data\n",
            "Iter 13000: loss=131.0762, time=2276.00s\n",
            "iter 13000: dev acc=0.4214\n",
            "Shuffling training data\n",
            "Iter 13500: loss=111.5080, time=2363.72s\n",
            "iter 13500: dev acc=0.4124\n",
            "Shuffling training data\n",
            "Iter 14000: loss=112.8618, time=2452.02s\n",
            "iter 14000: dev acc=0.4187\n",
            "Shuffling training data\n",
            "Shuffling training data\n",
            "Iter 14500: loss=105.5457, time=2540.36s\n",
            "iter 14500: dev acc=0.4251\n",
            "Shuffling training data\n",
            "Iter 15000: loss=77.1821, time=2628.28s\n",
            "iter 15000: dev acc=0.4314\n",
            "Shuffling training data\n",
            "Shuffling training data\n",
            "Iter 15500: loss=83.7321, time=2715.44s\n",
            "iter 15500: dev acc=0.4342\n",
            "Shuffling training data\n",
            "Iter 16000: loss=72.3920, time=2802.50s\n",
            "iter 16000: dev acc=0.4196\n",
            "Shuffling training data\n",
            "Shuffling training data\n",
            "Iter 16500: loss=70.0482, time=2888.84s\n",
            "iter 16500: dev acc=0.4269\n",
            "Shuffling training data\n",
            "Iter 17000: loss=73.2935, time=2975.07s\n",
            "iter 17000: dev acc=0.4124\n",
            "Shuffling training data\n",
            "Shuffling training data\n",
            "Iter 17500: loss=55.0336, time=3061.26s\n",
            "iter 17500: dev acc=0.4060\n",
            "Shuffling training data\n",
            "Iter 18000: loss=65.8896, time=3148.09s\n",
            "iter 18000: dev acc=0.4124\n",
            "Shuffling training data\n",
            "Shuffling training data\n",
            "Iter 18500: loss=43.6421, time=3235.11s\n",
            "iter 18500: dev acc=0.4160\n",
            "Shuffling training data\n",
            "Iter 19000: loss=55.5078, time=3321.48s\n",
            "iter 19000: dev acc=0.4214\n",
            "Shuffling training data\n",
            "Shuffling training data\n",
            "Iter 19500: loss=62.0503, time=3408.44s\n",
            "iter 19500: dev acc=0.4187\n",
            "Shuffling training data\n",
            "Iter 20000: loss=45.8090, time=3494.69s\n",
            "iter 20000: dev acc=0.4078\n",
            "Shuffling training data\n",
            "Iter 20500: loss=34.5713, time=3580.60s\n",
            "iter 20500: dev acc=0.4087\n",
            "Shuffling training data\n",
            "Shuffling training data\n",
            "Iter 21000: loss=33.3130, time=3666.27s\n",
            "iter 21000: dev acc=0.4160\n",
            "Shuffling training data\n",
            "Iter 21500: loss=39.2053, time=3751.06s\n",
            "iter 21500: dev acc=0.4233\n",
            "Shuffling training data\n",
            "Shuffling training data\n",
            "Iter 22000: loss=35.8668, time=3835.68s\n",
            "iter 22000: dev acc=0.4187\n",
            "Shuffling training data\n",
            "Iter 22500: loss=49.3208, time=3920.54s\n",
            "iter 22500: dev acc=0.4151\n",
            "Shuffling training data\n",
            "Shuffling training data\n",
            "Iter 23000: loss=28.1006, time=4005.37s\n",
            "iter 23000: dev acc=0.4114\n",
            "Shuffling training data\n",
            "Iter 23500: loss=14.1711, time=4090.68s\n",
            "iter 23500: dev acc=0.4142\n",
            "Shuffling training data\n",
            "Shuffling training data\n",
            "Iter 24000: loss=45.8833, time=4176.38s\n",
            "iter 24000: dev acc=0.4187\n",
            "Shuffling training data\n",
            "Iter 24500: loss=30.7853, time=4261.81s\n",
            "iter 24500: dev acc=0.4214\n",
            "Shuffling training data\n",
            "Shuffling training data\n",
            "Iter 25000: loss=33.6693, time=4347.45s\n",
            "iter 25000: dev acc=0.4114\n",
            "Shuffling training data\n",
            "Iter 25500: loss=36.9725, time=4433.92s\n",
            "iter 25500: dev acc=0.4178\n",
            "Shuffling training data\n",
            "Shuffling training data\n",
            "Iter 26000: loss=22.0270, time=4520.43s\n",
            "iter 26000: dev acc=0.3942\n",
            "Shuffling training data\n",
            "Iter 26500: loss=34.1346, time=4605.71s\n",
            "iter 26500: dev acc=0.4051\n",
            "Shuffling training data\n",
            "Iter 27000: loss=27.2465, time=4691.14s\n",
            "iter 27000: dev acc=0.4051\n",
            "Shuffling training data\n",
            "Shuffling training data\n",
            "Iter 27500: loss=18.7317, time=4776.21s\n",
            "iter 27500: dev acc=0.4133\n",
            "Shuffling training data\n",
            "Iter 28000: loss=12.5121, time=4862.03s\n",
            "iter 28000: dev acc=0.3996\n",
            "Shuffling training data\n",
            "Shuffling training data\n",
            "Iter 28500: loss=26.9089, time=4946.83s\n",
            "iter 28500: dev acc=0.4087\n",
            "Shuffling training data\n",
            "Iter 29000: loss=35.9180, time=5030.98s\n",
            "iter 29000: dev acc=0.4078\n",
            "Shuffling training data\n",
            "Shuffling training data\n",
            "Iter 29500: loss=16.0146, time=5115.04s\n",
            "iter 29500: dev acc=0.4005\n",
            "Shuffling training data\n",
            "Iter 30000: loss=28.8621, time=5199.44s\n",
            "iter 30000: dev acc=0.4223\n",
            "Done training\n",
            "Loading best model\n",
            "best model iter 4500: train acc=0.6005, dev acc=0.4650, test acc=0.4665\n",
            "Shuffling training data\n",
            "Shuffling training data\n",
            "Iter 500: loss=731.4530, time=69.00s\n",
            "iter 500: dev acc=0.4051\n",
            "new highscore\n",
            "Shuffling training data\n",
            "Iter 1000: loss=650.4583, time=118.80s\n",
            "iter 1000: dev acc=0.4269\n",
            "new highscore\n",
            "Shuffling training data\n",
            "Shuffling training data\n",
            "Iter 1500: loss=619.6260, time=168.80s\n",
            "iter 1500: dev acc=0.4514\n",
            "new highscore\n",
            "Shuffling training data\n",
            "Iter 2000: loss=604.0683, time=218.62s\n",
            "iter 2000: dev acc=0.4405\n",
            "Shuffling training data\n",
            "Shuffling training data\n",
            "Iter 2500: loss=585.3252, time=268.22s\n",
            "iter 2500: dev acc=0.4469\n",
            "Shuffling training data\n",
            "Iter 3000: loss=572.4080, time=317.60s\n",
            "iter 3000: dev acc=0.4414\n",
            "Shuffling training data\n",
            "Shuffling training data\n",
            "Iter 3500: loss=553.8832, time=367.15s\n",
            "iter 3500: dev acc=0.4450\n",
            "Shuffling training data\n",
            "Iter 4000: loss=534.5037, time=416.98s\n",
            "iter 4000: dev acc=0.4559\n",
            "new highscore\n",
            "Shuffling training data\n",
            "Shuffling training data\n",
            "Iter 4500: loss=514.8111, time=467.56s\n",
            "iter 4500: dev acc=0.4650\n",
            "new highscore\n",
            "Shuffling training data\n",
            "Iter 5000: loss=496.0519, time=517.94s\n",
            "iter 5000: dev acc=0.4614\n",
            "Shuffling training data\n",
            "Shuffling training data\n",
            "Iter 5500: loss=467.0143, time=567.56s\n",
            "iter 5500: dev acc=0.4532\n",
            "Shuffling training data\n",
            "Iter 6000: loss=443.6022, time=617.28s\n",
            "iter 6000: dev acc=0.4523\n",
            "Shuffling training data\n",
            "Shuffling training data\n",
            "Iter 6500: loss=418.5115, time=666.94s\n",
            "iter 6500: dev acc=0.4323\n",
            "Shuffling training data\n",
            "Iter 7000: loss=385.4871, time=716.62s\n",
            "iter 7000: dev acc=0.4514\n",
            "Shuffling training data\n",
            "Iter 7500: loss=360.4522, time=766.45s\n",
            "iter 7500: dev acc=0.4351\n",
            "Shuffling training data\n",
            "Shuffling training data\n",
            "Iter 8000: loss=325.3033, time=816.41s\n",
            "iter 8000: dev acc=0.4060\n",
            "Shuffling training data\n",
            "Iter 8500: loss=304.5771, time=866.54s\n",
            "iter 8500: dev acc=0.4233\n",
            "Shuffling training data\n",
            "Shuffling training data\n",
            "Iter 9000: loss=277.6998, time=916.40s\n",
            "iter 9000: dev acc=0.4033\n",
            "Shuffling training data\n",
            "Iter 9500: loss=245.7225, time=966.00s\n",
            "iter 9500: dev acc=0.4096\n",
            "Shuffling training data\n",
            "Shuffling training data\n",
            "Iter 10000: loss=223.7192, time=1016.07s\n",
            "iter 10000: dev acc=0.4178\n",
            "Shuffling training data\n",
            "Iter 10500: loss=201.7716, time=1065.58s\n",
            "iter 10500: dev acc=0.4033\n",
            "Shuffling training data\n",
            "Shuffling training data\n",
            "Iter 11000: loss=184.6197, time=1115.62s\n",
            "iter 11000: dev acc=0.4069\n",
            "Shuffling training data\n",
            "Iter 11500: loss=159.9618, time=1165.32s\n",
            "iter 11500: dev acc=0.4214\n",
            "Shuffling training data\n",
            "Shuffling training data\n",
            "Iter 12000: loss=147.2311, time=1214.84s\n",
            "iter 12000: dev acc=0.4087\n",
            "Shuffling training data\n",
            "Iter 12500: loss=134.2812, time=1264.43s\n",
            "iter 12500: dev acc=0.4024\n",
            "Shuffling training data\n",
            "Shuffling training data\n",
            "Iter 13000: loss=115.6921, time=1314.19s\n",
            "iter 13000: dev acc=0.3978\n",
            "Shuffling training data\n",
            "Iter 13500: loss=110.8044, time=1363.69s\n",
            "iter 13500: dev acc=0.3842\n",
            "Shuffling training data\n",
            "Iter 14000: loss=112.8137, time=1413.64s\n",
            "iter 14000: dev acc=0.3960\n",
            "Shuffling training data\n",
            "Shuffling training data\n",
            "Iter 14500: loss=94.2143, time=1463.35s\n",
            "iter 14500: dev acc=0.4133\n",
            "Shuffling training data\n",
            "Iter 15000: loss=90.3882, time=1513.00s\n",
            "iter 15000: dev acc=0.3942\n",
            "Shuffling training data\n",
            "Shuffling training data\n",
            "Iter 15500: loss=74.6803, time=1562.43s\n",
            "iter 15500: dev acc=0.4024\n",
            "Shuffling training data\n",
            "Iter 16000: loss=79.1270, time=1612.19s\n",
            "iter 16000: dev acc=0.3933\n",
            "Shuffling training data\n",
            "Shuffling training data\n",
            "Iter 16500: loss=79.3952, time=1661.85s\n",
            "iter 16500: dev acc=0.4142\n",
            "Shuffling training data\n",
            "Iter 17000: loss=74.3924, time=1711.59s\n",
            "iter 17000: dev acc=0.4205\n",
            "Shuffling training data\n",
            "Shuffling training data\n",
            "Iter 17500: loss=53.6292, time=1761.26s\n",
            "iter 17500: dev acc=0.4160\n",
            "Shuffling training data\n",
            "Iter 18000: loss=60.4057, time=1810.86s\n",
            "iter 18000: dev acc=0.3969\n",
            "Shuffling training data\n",
            "Shuffling training data\n",
            "Iter 18500: loss=70.6390, time=1860.64s\n",
            "iter 18500: dev acc=0.4005\n",
            "Shuffling training data\n",
            "Iter 19000: loss=50.2535, time=1910.31s\n",
            "iter 19000: dev acc=0.3951\n",
            "Shuffling training data\n",
            "Shuffling training data\n",
            "Iter 19500: loss=67.7362, time=1959.97s\n",
            "iter 19500: dev acc=0.4087\n",
            "Shuffling training data\n",
            "Iter 20000: loss=44.4954, time=2009.55s\n",
            "iter 20000: dev acc=0.3906\n",
            "Shuffling training data\n",
            "Iter 20500: loss=29.9628, time=2059.37s\n",
            "iter 20500: dev acc=0.3942\n",
            "Shuffling training data\n",
            "Shuffling training data\n",
            "Iter 21000: loss=45.5551, time=2108.74s\n",
            "iter 21000: dev acc=0.4033\n",
            "Shuffling training data\n",
            "Iter 21500: loss=49.5944, time=2158.32s\n",
            "iter 21500: dev acc=0.3996\n",
            "Shuffling training data\n",
            "Shuffling training data\n",
            "Iter 22000: loss=42.3307, time=2208.02s\n",
            "iter 22000: dev acc=0.4142\n",
            "Shuffling training data\n",
            "Iter 22500: loss=44.8083, time=2257.90s\n",
            "iter 22500: dev acc=0.3978\n",
            "Shuffling training data\n",
            "Shuffling training data\n",
            "Iter 23000: loss=27.7344, time=2307.22s\n",
            "iter 23000: dev acc=0.4042\n",
            "Shuffling training data\n",
            "Iter 23500: loss=21.0432, time=2356.97s\n",
            "iter 23500: dev acc=0.4015\n",
            "Shuffling training data\n",
            "Shuffling training data\n",
            "Iter 24000: loss=50.6730, time=2406.42s\n",
            "iter 24000: dev acc=0.4114\n",
            "Shuffling training data\n",
            "Iter 24500: loss=32.5331, time=2455.78s\n",
            "iter 24500: dev acc=0.4069\n",
            "Shuffling training data\n",
            "Shuffling training data\n",
            "Iter 25000: loss=18.6589, time=2505.57s\n",
            "iter 25000: dev acc=0.4024\n",
            "Shuffling training data\n",
            "Iter 25500: loss=33.0296, time=2555.48s\n",
            "iter 25500: dev acc=0.4042\n",
            "Shuffling training data\n",
            "Shuffling training data\n",
            "Iter 26000: loss=26.9510, time=2605.22s\n",
            "iter 26000: dev acc=0.4033\n",
            "Shuffling training data\n",
            "Iter 26500: loss=27.9595, time=2655.10s\n",
            "iter 26500: dev acc=0.3960\n",
            "Shuffling training data\n",
            "Iter 27000: loss=20.0616, time=2704.43s\n",
            "iter 27000: dev acc=0.3942\n",
            "Shuffling training data\n",
            "Shuffling training data\n",
            "Iter 27500: loss=25.0319, time=2754.35s\n",
            "iter 27500: dev acc=0.4223\n",
            "Shuffling training data\n",
            "Iter 28000: loss=30.9241, time=2803.99s\n",
            "iter 28000: dev acc=0.4005\n",
            "Shuffling training data\n",
            "Shuffling training data\n",
            "Iter 28500: loss=29.9818, time=2853.67s\n",
            "iter 28500: dev acc=0.4196\n",
            "Shuffling training data\n",
            "Iter 29000: loss=21.4979, time=2903.10s\n",
            "iter 29000: dev acc=0.4005\n",
            "Shuffling training data\n",
            "Shuffling training data\n",
            "Iter 29500: loss=22.1003, time=2952.77s\n",
            "iter 29500: dev acc=0.3987\n",
            "Shuffling training data\n",
            "Iter 30000: loss=15.4584, time=3002.53s\n",
            "iter 30000: dev acc=0.4142\n",
            "Done training\n",
            "Loading best model\n",
            "best model iter 4500: train acc=0.5998, dev acc=0.4650, test acc=0.4679\n",
            "TreeLSTMClassifier(\n",
            "  (embed): Embedding(20727, 300, padding_idx=1)\n",
            "  (treelstm): TreeLSTM(\n",
            "    (reduce): TreeLSTMCell(300, 150)\n",
            "    (proj_x): Linear(in_features=300, out_features=150, bias=True)\n",
            "    (proj_x_gate): Linear(in_features=300, out_features=150, bias=True)\n",
            "    (buffers_dropout): Dropout(p=0.5)\n",
            "  )\n",
            "  (output_layer): Sequential(\n",
            "    (0): Dropout(p=0.5)\n",
            "    (1): Linear(in_features=150, out_features=5, bias=True)\n",
            "  )\n",
            ")\n",
            "embed.weight             [20727, 300] requires_grad=True\n",
            "treelstm.reduce.reduce_layer.weight [750, 300]   requires_grad=True\n",
            "treelstm.reduce.reduce_layer.bias [750]        requires_grad=True\n",
            "treelstm.proj_x.weight   [150, 300]   requires_grad=True\n",
            "treelstm.proj_x.bias     [150]        requires_grad=True\n",
            "treelstm.proj_x_gate.weight [150, 300]   requires_grad=True\n",
            "treelstm.proj_x_gate.bias [150]        requires_grad=True\n",
            "output_layer.1.weight    [5, 150]     requires_grad=True\n",
            "output_layer.1.bias      [5]          requires_grad=True\n",
            "\n",
            "Total parameters: 6534905\n",
            "\n",
            "Shuffling training data\n",
            "Shuffling training data\n",
            "Iter 500: loss=710.9337, time=130.28s\n",
            "iter 500: dev acc=0.4251\n",
            "new highscore\n",
            "Shuffling training data\n",
            "Iter 1000: loss=636.6952, time=265.82s\n",
            "iter 1000: dev acc=0.4260\n",
            "new highscore\n",
            "Shuffling training data\n",
            "Shuffling training data\n",
            "Iter 1500: loss=609.6065, time=400.75s\n",
            "iter 1500: dev acc=0.4251\n",
            "Shuffling training data\n",
            "Iter 2000: loss=593.1278, time=537.25s\n",
            "iter 2000: dev acc=0.4641\n",
            "new highscore\n",
            "Shuffling training data\n",
            "Shuffling training data\n",
            "Iter 2500: loss=579.8433, time=671.83s\n",
            "iter 2500: dev acc=0.4541\n",
            "Shuffling training data\n",
            "Iter 3000: loss=562.5935, time=806.68s\n",
            "iter 3000: dev acc=0.4650\n",
            "new highscore\n",
            "Shuffling training data\n",
            "Shuffling training data\n",
            "Iter 3500: loss=551.4738, time=942.05s\n",
            "iter 3500: dev acc=0.4614\n",
            "Shuffling training data\n",
            "Iter 4000: loss=537.7418, time=1077.88s\n",
            "iter 4000: dev acc=0.4596\n",
            "Shuffling training data\n",
            "Shuffling training data\n",
            "Iter 4500: loss=515.9022, time=1214.56s\n",
            "iter 4500: dev acc=0.4532\n",
            "Shuffling training data\n",
            "Iter 5000: loss=501.7152, time=1349.23s\n",
            "iter 5000: dev acc=0.4514\n",
            "Shuffling training data\n",
            "Shuffling training data\n",
            "Iter 5500: loss=488.1001, time=1484.27s\n",
            "iter 5500: dev acc=0.4505\n",
            "Shuffling training data\n",
            "Iter 6000: loss=465.8893, time=1619.32s\n",
            "iter 6000: dev acc=0.4587\n",
            "Shuffling training data\n",
            "Shuffling training data\n",
            "Iter 6500: loss=444.1333, time=1754.15s\n",
            "iter 6500: dev acc=0.4287\n",
            "Shuffling training data\n",
            "Iter 7000: loss=420.5127, time=1888.87s\n",
            "iter 7000: dev acc=0.4396\n",
            "Shuffling training data\n",
            "Iter 7500: loss=408.1284, time=2026.03s\n",
            "iter 7500: dev acc=0.4351\n",
            "Shuffling training data\n",
            "Shuffling training data\n",
            "Iter 8000: loss=378.6540, time=2164.14s\n",
            "iter 8000: dev acc=0.4314\n",
            "Shuffling training data\n",
            "Iter 8500: loss=356.8212, time=2301.35s\n",
            "iter 8500: dev acc=0.4187\n",
            "Shuffling training data\n",
            "Shuffling training data\n",
            "Iter 9000: loss=329.9675, time=2437.38s\n",
            "iter 9000: dev acc=0.4296\n",
            "Shuffling training data\n",
            "Iter 9500: loss=309.6597, time=2569.98s\n",
            "iter 9500: dev acc=0.4078\n",
            "Shuffling training data\n",
            "Shuffling training data\n",
            "Iter 10000: loss=281.8494, time=2700.56s\n",
            "iter 10000: dev acc=0.4078\n",
            "Shuffling training data\n",
            "Iter 10500: loss=258.6718, time=2826.13s\n",
            "iter 10500: dev acc=0.4060\n"
          ],
          "name": "stdout"
        }
      ]
    },
    {
      "metadata": {
        "id": "WGBTfRP7kdsI",
        "colab_type": "code",
        "colab": {}
      },
      "cell_type": "code",
      "source": [
        "from decimal import Decimal\n",
        "from scipy.special import comb\n",
        "\n",
        "\n",
        "def sign_test(results_1, results_2):\n",
        "    \"\"\"test for significance\n",
        "  results_1 is a list of classification results (+ for correct, - incorrect)\n",
        "  results_2 is a list of classification results (+ for correct, - incorrect)\n",
        "  \"\"\"\n",
        "    ties, plus, minus = 0, 0, 0\n",
        "\n",
        "  # \"-\" carries the error\n",
        "    for i in range(len(results_1)):\n",
        "        if results_1[i]==results_2[i]:\n",
        "            ties += 1\n",
        "        elif results_1[i]==\"-\": \n",
        "            plus += 1\n",
        "        elif results_2[i]==\"-\": \n",
        "            minus += 1\n",
        "    n = 2*np.floor(ties/2)+plus+minus\n",
        "    k = np.floor(ties/2)+np.minimum(plus,minus)\n",
        "    \n",
        "    summation = Decimal(0.0)\n",
        "    for i in range(0,int(k)+1):\n",
        "        summation +=Decimal(comb(int(n), int(i), exact=True))\n",
        "  # use two-tailed version of test\n",
        "    summation *= 2\n",
        "    summation *= (Decimal(0.5)**Decimal(n))\n",
        "  \n",
        "    print(\"the difference is\", \n",
        "        \"not significant\" if summation >= 0.05 else \"significant\")\n",
        "  \n",
        "    return summation\n"
      ],
      "execution_count": 0,
      "outputs": []
    },
    {
      "metadata": {
        "id": "abjYzpMsuwRa",
        "colab_type": "code",
        "colab": {}
      },
      "cell_type": "code",
      "source": [
        "name=\"BOW\"\n",
        "accuracy_bow,results_sign_bow,losses_plot_bow,accuracies_plot_bow, length_accuracies_bow=[[],[],[]],[[],[],[]],[[],[],[]],[[],[],[]],[[],[],[]]\n",
        "for i in range(3):\n",
        "  for res,res_type in zip([accuracy_bow,results_sign_bow,losses_plot_bow,accuracies_plot_bow,length_accuracies_bow],[\"accuracy\",\"result\",\"losses_plot\",\"accuracies_plot\",\"accuracies_length\"]):\n",
        "    res[i].append(np.load('/gdrive/My Drive/results_nlp_no_stopping/{} {} {}.npy'.format(name,res_type,i)))"
      ],
      "execution_count": 0,
      "outputs": []
    },
    {
      "metadata": {
        "id": "SmDmMJ4s3GqG",
        "colab_type": "code",
        "colab": {}
      },
      "cell_type": "code",
      "source": [
        "#cbow#length_accuracies_cbow[0]={0: 0.0, 1: 0.0, 2: 0.0, 3: 0.2857142857142857, 4: 0.23809523809523808, 5: 0.38235294117647056, 6: 0.3448275862068966, 7: 0.3088235294117647, 8: 0.35353535353535354, 9: 0.36764705882352944, 10: 0.375, 11: 0.2537313432835821, 12: 0.27848101265822783, 13: 0.3023255813953488, 14: 0.275, 15: 0.2872340425531915, 16: 0.27631578947368424, 17: 0.3541666666666667, 18: 0.2980769230769231, 19: 0.32608695652173914, 20: 0.30952380952380953, 21: 0.26666666666666666, 22: 0.32954545454545453, 23: 0.32978723404255317, 24: 0.32098765432098764, 25: 0.1791044776119403, 26: 0.3484848484848485, 27: 0.36231884057971014, 28: 0.2807017543859649, 29: 0.24528301886792453, 30: 0.5428571428571428, 31: 0.3076923076923077, 32: 0.25806451612903225, 33: 0.3333333333333333, 34: 0.20833333333333334, 35: 0.3157894736842105, 36: 0.3333333333333333, 37: 0.3333333333333333, 38: 0.35, 39: 0.45454545454545453, 40: 0.2, 41: 0.0, 42: 0.3333333333333333, 43: 0.25, 44: 0.3333333333333333, 45: 0.5, 46: 0.0, 47: 0.5, 48: 0.75, 49: 0.0, 50: 0.0, 51: 0.0, 52: 0.0, 53: 0.0, 54: 0.0, 55: 0.0, 56: 0.0}\n",
        "#length_accuracies_cbow[1]={0: 0.0, 1: 0.0, 2: 0.14285714285714285, 3: 0.2857142857142857, 4: 0.14285714285714285, 5: 0.5294117647058824, 6: 0.5, 7: 0.3382352941176471, 8: 0.35353535353535354, 9: 0.5, 10: 0.2916666666666667, 11: 0.26865671641791045, 12: 0.379746835443038, 13: 0.4069767441860465, 14: 0.325, 15: 0.3191489361702128, 16: 0.25, 17: 0.34375, 18: 0.3557692307692308, 19: 0.3695652173913043, 20: 0.36904761904761907, 21: 0.37333333333333335, 22: 0.2727272727272727, 23: 0.26595744680851063, 24: 0.38271604938271603, 25: 0.26865671641791045, 26: 0.3787878787878788, 27: 0.30434782608695654, 28: 0.2807017543859649, 29: 0.33962264150943394, 30: 0.45714285714285713, 31: 0.2564102564102564, 32: 0.3548387096774194, 33: 0.358974358974359, 34: 0.125, 35: 0.3684210526315789, 36: 0.23809523809523808, 37: 0.2777777777777778, 38: 0.3, 39: 0.36363636363636365, 40: 0.4, 41: 0.0, 42: 0.16666666666666666, 43: 0.25, 44: 0.6666666666666666, 45: 0.25, 46: 0.6666666666666666, 47: 0.5, 48: 0.25, 49: 0.0, 50: 0.0, 51: 0.0, 52: 0.0, 53: 0.0, 54: 0.0, 55: 0.0, 56: 0.0}\n",
        "#length_accuracies_cbow[2]={0: 0.0, 1: 0.0, 2: 0.7142857142857143, 3: 0.35714285714285715, 4: 0.38095238095238093, 5: 0.38235294117647056, 6: 0.3620689655172414, 7: 0.3235294117647059, 8: 0.3434343434343434, 9: 0.35294117647058826, 10: 0.3888888888888889, 11: 0.31343283582089554, 12: 0.3670886075949367, 13: 0.38372093023255816, 14: 0.3, 15: 0.2872340425531915, 16: 0.3157894736842105, 17: 0.3229166666666667, 18: 0.33653846153846156, 19: 0.42391304347826086, 20: 0.32142857142857145, 21: 0.25333333333333335, 22: 0.2727272727272727, 23: 0.3191489361702128, 24: 0.38271604938271603, 25: 0.29850746268656714, 26: 0.4090909090909091, 27: 0.34782608695652173, 28: 0.22807017543859648, 29: 0.3584905660377358, 30: 0.2857142857142857, 31: 0.358974358974359, 32: 0.25806451612903225, 33: 0.4358974358974359, 34: 0.25, 35: 0.47368421052631576, 36: 0.38095238095238093, 37: 0.16666666666666666, 38: 0.45, 39: 0.09090909090909091, 40: 0.4, 41: 0.2857142857142857, 42: 0.16666666666666666, 43: 0.125, 44: 0.3333333333333333, 45: 0.5, 46: 0.3333333333333333, 47: 0.0, 48: 0.25, 49: 0.0, 50: 0.0, 51: 0.0, 52: 0.0, 53: 0.0, 54: 0.0, 55: 0.0, 56: 0.0}\n",
        "bow_accuraccies_length=average_length(length_accuracies_bow,isprint=0)\n"
      ],
      "execution_count": 0,
      "outputs": []
    },
    {
      "metadata": {
        "id": "ZGn5AEwWvFNB",
        "colab_type": "code",
        "colab": {}
      },
      "cell_type": "code",
      "source": [
        "name=\"CBOW\"\n",
        "accuracy_cbow,results_sign_cbow,losses_plot_cbow,accuracies_plot_cbow, length_accuracies_cbow=[[],[],[]],[[],[],[]],[[],[],[]],[[],[],[]],[[],[],[]]\n",
        "for i in range(3):\n",
        "  for res,res_type in zip([accuracy_cbow,results_sign_cbow,losses_plot_cbow,accuracies_plot_cbow,length_accuracies_cbow],[\"accuracy\",\"result\",\"losses_plot\",\"accuracies_plot\",\"accuracies_length\"]):\n",
        "    res[i].append(np.load('/gdrive/My Drive/results_nlp_no_stopping/{} {} {}.npy'.format(name,res_type,i)))"
      ],
      "execution_count": 0,
      "outputs": []
    },
    {
      "metadata": {
        "id": "S-APs4cwxea_",
        "colab_type": "code",
        "colab": {}
      },
      "cell_type": "code",
      "source": [
        "length_accuracies_cbow[0]={0: 0.0, 1: 0.0, 2: 0.0, 3: 0.2857142857142857, 4: 0.23809523809523808, 5: 0.38235294117647056, 6: 0.3448275862068966, 7: 0.3088235294117647, 8: 0.35353535353535354, 9: 0.36764705882352944, 10: 0.375, 11: 0.2537313432835821, 12: 0.27848101265822783, 13: 0.3023255813953488, 14: 0.275, 15: 0.2872340425531915, 16: 0.27631578947368424, 17: 0.3541666666666667, 18: 0.2980769230769231, 19: 0.32608695652173914, 20: 0.30952380952380953, 21: 0.26666666666666666, 22: 0.32954545454545453, 23: 0.32978723404255317, 24: 0.32098765432098764, 25: 0.1791044776119403, 26: 0.3484848484848485, 27: 0.36231884057971014, 28: 0.2807017543859649, 29: 0.24528301886792453, 30: 0.5428571428571428, 31: 0.3076923076923077, 32: 0.25806451612903225, 33: 0.3333333333333333, 34: 0.20833333333333334, 35: 0.3157894736842105, 36: 0.3333333333333333, 37: 0.3333333333333333, 38: 0.35, 39: 0.45454545454545453, 40: 0.2, 41: 0.0, 42: 0.3333333333333333, 43: 0.25, 44: 0.3333333333333333, 45: 0.5, 46: 0.0, 47: 0.5, 48: 0.75, 49: 0.0, 50: 0.0, 51: 0.0, 52: 0.0, 53: 0.0, 54: 0.0, 55: 0.0, 56: 0.0}\n",
        "length_accuracies_cbow[1]={0: 0.0, 1: 0.0, 2: 0.14285714285714285, 3: 0.2857142857142857, 4: 0.14285714285714285, 5: 0.5294117647058824, 6: 0.5, 7: 0.3382352941176471, 8: 0.35353535353535354, 9: 0.5, 10: 0.2916666666666667, 11: 0.26865671641791045, 12: 0.379746835443038, 13: 0.4069767441860465, 14: 0.325, 15: 0.3191489361702128, 16: 0.25, 17: 0.34375, 18: 0.3557692307692308, 19: 0.3695652173913043, 20: 0.36904761904761907, 21: 0.37333333333333335, 22: 0.2727272727272727, 23: 0.26595744680851063, 24: 0.38271604938271603, 25: 0.26865671641791045, 26: 0.3787878787878788, 27: 0.30434782608695654, 28: 0.2807017543859649, 29: 0.33962264150943394, 30: 0.45714285714285713, 31: 0.2564102564102564, 32: 0.3548387096774194, 33: 0.358974358974359, 34: 0.125, 35: 0.3684210526315789, 36: 0.23809523809523808, 37: 0.2777777777777778, 38: 0.3, 39: 0.36363636363636365, 40: 0.4, 41: 0.0, 42: 0.16666666666666666, 43: 0.25, 44: 0.6666666666666666, 45: 0.25, 46: 0.6666666666666666, 47: 0.5, 48: 0.25, 49: 0.0, 50: 0.0, 51: 0.0, 52: 0.0, 53: 0.0, 54: 0.0, 55: 0.0, 56: 0.0}\n",
        "length_accuracies_cbow[2]={0: 0.0, 1: 0.0, 2: 0.7142857142857143, 3: 0.35714285714285715, 4: 0.38095238095238093, 5: 0.38235294117647056, 6: 0.3620689655172414, 7: 0.3235294117647059, 8: 0.3434343434343434, 9: 0.35294117647058826, 10: 0.3888888888888889, 11: 0.31343283582089554, 12: 0.3670886075949367, 13: 0.38372093023255816, 14: 0.3, 15: 0.2872340425531915, 16: 0.3157894736842105, 17: 0.3229166666666667, 18: 0.33653846153846156, 19: 0.42391304347826086, 20: 0.32142857142857145, 21: 0.25333333333333335, 22: 0.2727272727272727, 23: 0.3191489361702128, 24: 0.38271604938271603, 25: 0.29850746268656714, 26: 0.4090909090909091, 27: 0.34782608695652173, 28: 0.22807017543859648, 29: 0.3584905660377358, 30: 0.2857142857142857, 31: 0.358974358974359, 32: 0.25806451612903225, 33: 0.4358974358974359, 34: 0.25, 35: 0.47368421052631576, 36: 0.38095238095238093, 37: 0.16666666666666666, 38: 0.45, 39: 0.09090909090909091, 40: 0.4, 41: 0.2857142857142857, 42: 0.16666666666666666, 43: 0.125, 44: 0.3333333333333333, 45: 0.5, 46: 0.3333333333333333, 47: 0.0, 48: 0.25, 49: 0.0, 50: 0.0, 51: 0.0, 52: 0.0, 53: 0.0, 54: 0.0, 55: 0.0, 56: 0.0}\n",
        "cbow_accuraccies_length=average_length(length_accuracies_cbow)\n"
      ],
      "execution_count": 0,
      "outputs": []
    },
    {
      "metadata": {
        "id": "zH49afz3vP3A",
        "colab_type": "code",
        "colab": {}
      },
      "cell_type": "code",
      "source": [
        "name=\"DeepCBOW\"\n",
        "accuracy_cbow,results_sign_dcbow,losses_plot_dcbow,accuracies_plot_dcbow, length_accuracies_dcbow=[[],[],[]],[[],[],[]],[[],[],[]],[[],[],[]],[[],[],[]]\n",
        "for i in range(3):\n",
        "  for res,res_type in zip([accuracy_cbow,results_sign_dcbow,losses_plot_dcbow,accuracies_plot_dcbow,length_accuracies_dcbow],[\"accuracy\",\"result\",\"losses_plot\",\"accuracies_plot\",\"accuracies_length\"]):\n",
        "    res[i].append(np.load('/gdrive/My Drive/results_nlp_no_stopping/{} {} {}.npy'.format(name,res_type,i)))"
      ],
      "execution_count": 0,
      "outputs": []
    },
    {
      "metadata": {
        "id": "qm-5rsqLzsVh",
        "colab_type": "code",
        "colab": {}
      },
      "cell_type": "code",
      "source": [
        "length_accuracies_dcbow[0]={0: 0.0, 1: 0.0, 2: 0.14285714285714285, 3: 0.42857142857142855, 4: 0.19047619047619047, 5: 0.3235294117647059, 6: 0.39655172413793105, 7: 0.3088235294117647, 8: 0.42424242424242425, 9: 0.39705882352941174, 10: 0.375, 11: 0.40298507462686567, 12: 0.379746835443038, 13: 0.5116279069767442, 14: 0.3125, 15: 0.3723404255319149, 16: 0.34210526315789475, 17: 0.3854166666666667, 18: 0.375, 19: 0.33695652173913043, 20: 0.3333333333333333, 21: 0.37333333333333335, 22: 0.3409090909090909, 23: 0.3191489361702128, 24: 0.38271604938271603, 25: 0.417910447761194, 26: 0.48484848484848486, 27: 0.3188405797101449, 28: 0.3684210526315789, 29: 0.2641509433962264, 30: 0.45714285714285713, 31: 0.4358974358974359, 32: 0.16129032258064516, 33: 0.46153846153846156, 34: 0.375, 35: 0.47368421052631576, 36: 0.42857142857142855, 37: 0.2777777777777778, 38: 0.45, 39: 0.09090909090909091, 40: 0.5, 41: 0.42857142857142855, 42: 0.3333333333333333, 43: 0.25, 44: 0.16666666666666666, 45: 0.5, 46: 0.6666666666666666, 47: 0.0, 48: 0.5, 49: 0.0, 50: 0.0, 51: 0.0, 52: 0.0, 53: 0.0, 54: 0.0, 55: 0.0, 56: 0.5}\n",
        "length_accuracies_dcbow[1]={0: 0.0, 1: 0.0, 2: 0.0, 3: 0.35714285714285715, 4: 0.19047619047619047, 5: 0.2647058823529412, 6: 0.39655172413793105, 7: 0.35294117647058826, 8: 0.3434343434343434, 9: 0.4411764705882353, 10: 0.3472222222222222, 11: 0.43283582089552236, 12: 0.3291139240506329, 13: 0.38372093023255816, 14: 0.325, 15: 0.3829787234042553, 16: 0.3026315789473684, 17: 0.3645833333333333, 18: 0.3269230769230769, 19: 0.41304347826086957, 20: 0.35714285714285715, 21: 0.26666666666666666, 22: 0.375, 23: 0.3191489361702128, 24: 0.4444444444444444, 25: 0.3880597014925373, 26: 0.4393939393939394, 27: 0.4782608695652174, 28: 0.3333333333333333, 29: 0.33962264150943394, 30: 0.4, 31: 0.28205128205128205, 32: 0.25806451612903225, 33: 0.48717948717948717, 34: 0.4166666666666667, 35: 0.3684210526315789, 36: 0.42857142857142855, 37: 0.16666666666666666, 38: 0.4, 39: 0.09090909090909091, 40: 0.6, 41: 0.2857142857142857, 42: 0.16666666666666666, 43: 0.25, 44: 0.3333333333333333, 45: 0.0, 46: 0.3333333333333333, 47: 0.5, 48: 0.25, 49: 0.0, 50: 0.0, 51: 0.0, 52: 0.0, 53: 0.0, 54: 0.0, 55: 0.0, 56: 0.5}\n",
        "length_accuracies_dcbow[2]={0: 0.0, 1: 0.0, 2: 0.14285714285714285, 3: 0.5, 4: 0.2857142857142857, 5: 0.4411764705882353, 6: 0.39655172413793105, 7: 0.38235294117647056, 8: 0.43434343434343436, 9: 0.5147058823529411, 10: 0.4027777777777778, 11: 0.4626865671641791, 12: 0.4430379746835443, 13: 0.37209302325581395, 14: 0.35, 15: 0.3617021276595745, 16: 0.34210526315789475, 17: 0.40625, 18: 0.34615384615384615, 19: 0.3804347826086957, 20: 0.40476190476190477, 21: 0.30666666666666664, 22: 0.3522727272727273, 23: 0.3404255319148936, 24: 0.3950617283950617, 25: 0.34328358208955223, 26: 0.30303030303030304, 27: 0.37681159420289856, 28: 0.3508771929824561, 29: 0.20754716981132076, 30: 0.45714285714285713, 31: 0.23076923076923078, 32: 0.3225806451612903, 33: 0.41025641025641024, 34: 0.25, 35: 0.2631578947368421, 36: 0.3333333333333333, 37: 0.1111111111111111, 38: 0.4, 39: 0.36363636363636365, 40: 0.6, 41: 0.2857142857142857, 42: 0.16666666666666666, 43: 0.25, 44: 0.16666666666666666, 45: 0.0, 46: 0.0, 47: 0.0, 48: 0.5, 49: 0.0, 50: 0.0, 51: 0.0, 52: 0.0, 53: 0.0, 54: 0.0, 55: 0.0, 56: 0.0}\n",
        "dcbow_accuraccies_length=average_length(length_accuracies_dcbow)\n"
      ],
      "execution_count": 0,
      "outputs": []
    },
    {
      "metadata": {
        "id": "XH6tCQFYjMCD",
        "colab_type": "code",
        "colab": {}
      },
      "cell_type": "code",
      "source": [
        "name=\"PTDeepCBOW\"\n",
        "accuracy_pt,results_sign_pt,losses_plot_pt,accuracies_plot_pt, length_accuracies_pt=[[],[],[]],[[],[],[]],[[],[],[]],[[],[],[]],[[],[],[]]\n",
        "for i in range(3):\n",
        "  for res,res_type in zip([accuracy_pt,results_sign_pt,losses_plot_pt,accuracies_plot_pt,length_accuracies_pt],[\"accuracy\",\"result\",\"losses_plot\",\"accuracies_plot\",\"accuracies_length\"]):\n",
        "    res[i].append(np.load('/gdrive/My Drive/results_nlp_no_stopping/{} {} {}.npy'.format(name,res_type,i)))"
      ],
      "execution_count": 0,
      "outputs": []
    },
    {
      "metadata": {
        "id": "RRppvPb1gG71",
        "colab_type": "code",
        "colab": {}
      },
      "cell_type": "code",
      "source": [
        "length_accuracies_pt[0]={0: 0.0, 1: 0.0, 2: 0.0, 3: 0.42857142857142855, 4: 0.23809523809523808, 5: 0.35294117647058826, 6: 0.4827586206896552, 7: 0.4411764705882353, 8: 0.5151515151515151, 9: 0.6470588235294118, 10: 0.4027777777777778, 11: 0.4925373134328358, 12: 0.4177215189873418, 13: 0.5232558139534884, 14: 0.35, 15: 0.425531914893617, 16: 0.5394736842105263, 17: 0.4583333333333333, 18: 0.41346153846153844, 19: 0.5217391304347826, 20: 0.4523809523809524, 21: 0.37333333333333335, 22: 0.42045454545454547, 23: 0.4148936170212766, 24: 0.3950617283950617, 25: 0.5373134328358209, 26: 0.5, 27: 0.5072463768115942, 28: 0.43859649122807015, 29: 0.37735849056603776, 30: 0.37142857142857144, 31: 0.358974358974359, 32: 0.3870967741935484, 33: 0.5128205128205128, 34: 0.4583333333333333, 35: 0.3157894736842105, 36: 0.2857142857142857, 37: 0.2777777777777778, 38: 0.45, 39: 0.2727272727272727, 40: 0.3, 41: 0.2857142857142857, 42: 0.16666666666666666, 43: 0.375, 44: 0.16666666666666666, 45: 0.5, 46: 0.6666666666666666, 47: 0.5, 48: 0.5, 49: 0.0, 50: 0.0, 51: 0.0, 52: 0.0, 53: 0.0, 54: 0.0, 55: 0.0, 56: 0.0}\n",
        "length_accuracies_pt[1]={0: 0.0, 1: 0.0, 2: 0.0, 3: 0.35714285714285715, 4: 0.23809523809523808, 5: 0.4117647058823529, 6: 0.46551724137931033, 7: 0.4264705882352941, 8: 0.3838383838383838, 9: 0.6176470588235294, 10: 0.4166666666666667, 11: 0.44776119402985076, 12: 0.4430379746835443, 13: 0.5465116279069767, 14: 0.3, 15: 0.4574468085106383, 16: 0.5657894736842105, 17: 0.46875, 18: 0.3942307692307692, 19: 0.5434782608695652, 20: 0.47619047619047616, 21: 0.3466666666666667, 22: 0.4772727272727273, 23: 0.3829787234042553, 24: 0.41975308641975306, 25: 0.44776119402985076, 26: 0.5, 27: 0.5652173913043478, 28: 0.3333333333333333, 29: 0.3584905660377358, 30: 0.37142857142857144, 31: 0.38461538461538464, 32: 0.41935483870967744, 33: 0.4358974358974359, 34: 0.4583333333333333, 35: 0.2631578947368421, 36: 0.42857142857142855, 37: 0.2777777777777778, 38: 0.55, 39: 0.18181818181818182, 40: 0.5, 41: 0.42857142857142855, 42: 0.16666666666666666, 43: 0.375, 44: 0.16666666666666666, 45: 0.5, 46: 0.3333333333333333, 47: 0.0, 48: 0.5, 49: 0.0, 50: 0.0, 51: 0.0, 52: 0.0, 53: 0.0, 54: 0.0, 55: 0.0, 56: 0.5}\n",
        "length_accuracies_pt[2]={0: 0.0, 1: 0.0, 2: 0.0, 3: 0.2857142857142857, 4: 0.23809523809523808, 5: 0.35294117647058826, 6: 0.46551724137931033, 7: 0.4411764705882353, 8: 0.45454545454545453, 9: 0.6470588235294118, 10: 0.3472222222222222, 11: 0.44776119402985076, 12: 0.3924050632911392, 13: 0.5116279069767442, 14: 0.325, 15: 0.48936170212765956, 16: 0.5131578947368421, 17: 0.46875, 18: 0.41346153846153844, 19: 0.5108695652173914, 20: 0.39285714285714285, 21: 0.30666666666666664, 22: 0.3977272727272727, 23: 0.3617021276595745, 24: 0.41975308641975306, 25: 0.40298507462686567, 26: 0.4393939393939394, 27: 0.463768115942029, 28: 0.22807017543859648, 29: 0.3018867924528302, 30: 0.37142857142857144, 31: 0.41025641025641024, 32: 0.41935483870967744, 33: 0.358974358974359, 34: 0.375, 35: 0.42105263157894735, 36: 0.42857142857142855, 37: 0.3333333333333333, 38: 0.5, 39: 0.09090909090909091, 40: 0.4, 41: 0.42857142857142855, 42: 0.3333333333333333, 43: 0.5, 44: 0.3333333333333333, 45: 0.25, 46: 0.3333333333333333, 47: 0.0, 48: 0.5, 49: 0.0, 50: 0.0, 51: 0.0, 52: 0.0, 53: 0.0, 54: 0.0, 55: 0.0, 56: 0.5}\n",
        "pt_accuraccies_length=average_length(length_accuracies_pt)\n"
      ],
      "execution_count": 0,
      "outputs": []
    },
    {
      "metadata": {
        "id": "vWdV92qtG9Kq",
        "colab_type": "code",
        "colab": {}
      },
      "cell_type": "code",
      "source": [
        "name=\"LSTM\"\n",
        "accuracy_lstm,results_sign_lstm,losses_plot_lstm,accuracies_plot_lstm,length_accuracies_lstm=[[],[],[]],[[],[],[]],[[],[],[]],[[],[],[]],[[],[],[]]\n",
        "for i in range(3):\n",
        "  for res,res_type in zip([accuracy_lstm,results_sign_lstm,losses_plot_lstm,accuracies_plot_lstm,length_accuracies_lstm],[\"accuracy\",\"result\",\"losses_plot\",\"accuracies_plot\",\"accuracies_length\"]):\n",
        "    res[i].append(np.load('/gdrive/My Drive/results_nlp_no_stopping/{} {} {}.npy'.format(name,res_type,i)))"
      ],
      "execution_count": 0,
      "outputs": []
    },
    {
      "metadata": {
        "id": "COFv7vU90Sn_",
        "colab_type": "code",
        "colab": {}
      },
      "cell_type": "code",
      "source": [
        "length_accuracies_lstm[0]={0: 0.0, 1: 0.0, 2: 0.42857142857142855, 3: 0.5714285714285714, 4: 0.38095238095238093, 5: 0.4117647058823529, 6: 0.6206896551724138, 7: 0.5, 8: 0.47474747474747475, 9: 0.75, 10: 0.4583333333333333, 11: 0.5074626865671642, 12: 0.4810126582278481, 13: 0.43023255813953487, 14: 0.375, 15: 0.5106382978723404, 16: 0.5657894736842105, 17: 0.5833333333333334, 18: 0.5288461538461539, 19: 0.5434782608695652, 20: 0.44047619047619047, 21: 0.41333333333333333, 22: 0.38636363636363635, 23: 0.40425531914893614, 24: 0.41975308641975306, 25: 0.47761194029850745, 26: 0.45454545454545453, 27: 0.5362318840579711, 28: 0.2982456140350877, 29: 0.37735849056603776, 30: 0.5428571428571428, 31: 0.3333333333333333, 32: 0.3225806451612903, 33: 0.5128205128205128, 34: 0.4583333333333333, 35: 0.3157894736842105, 36: 0.38095238095238093, 37: 0.4444444444444444, 38: 0.5, 39: 0.36363636363636365, 40: 0.5, 41: 0.5714285714285714, 42: 0.16666666666666666, 43: 0.5, 44: 0.16666666666666666, 45: 0.25, 46: 0.6666666666666666, 47: 0.0, 48: 0.5, 49: 0.0, 50: 0.0, 51: 0.0, 52: 0.0, 53: 0.0, 54: 0.0, 55: 0.0, 56: 0.0}\n",
        "length_accuracies_lstm[1]={0: 0.0, 1: 0.0, 2: 0.7142857142857143, 3: 0.5714285714285714, 4: 0.38095238095238093, 5: 0.5294117647058824, 6: 0.5689655172413793, 7: 0.4852941176470588, 8: 0.45454545454545453, 9: 0.6617647058823529, 10: 0.4444444444444444, 11: 0.5223880597014925, 12: 0.5063291139240507, 13: 0.43023255813953487, 14: 0.4125, 15: 0.46808510638297873, 16: 0.5, 17: 0.5104166666666666, 18: 0.46153846153846156, 19: 0.5434782608695652, 20: 0.34523809523809523, 21: 0.37333333333333335, 22: 0.3522727272727273, 23: 0.40425531914893614, 24: 0.4444444444444444, 25: 0.5074626865671642, 26: 0.5303030303030303, 27: 0.5072463768115942, 28: 0.24561403508771928, 29: 0.37735849056603776, 30: 0.4857142857142857, 31: 0.4358974358974359, 32: 0.3225806451612903, 33: 0.48717948717948717, 34: 0.2916666666666667, 35: 0.47368421052631576, 36: 0.38095238095238093, 37: 0.4444444444444444, 38: 0.55, 39: 0.18181818181818182, 40: 0.4, 41: 0.5714285714285714, 42: 0.3333333333333333, 43: 0.75, 44: 0.16666666666666666, 45: 0.25, 46: 0.6666666666666666, 47: 0.0, 48: 0.5, 49: 0.0, 50: 0.0, 51: 0.0, 52: 0.0, 53: 0.0, 54: 0.0, 55: 0.0, 56: 0.0}\n",
        "length_accuracies_lstm[2]={0: 0.0, 1: 0.0, 2: 0.5714285714285714, 3: 0.6428571428571429, 4: 0.38095238095238093, 5: 0.5, 6: 0.5689655172413793, 7: 0.5147058823529411, 8: 0.5353535353535354, 9: 0.6764705882352942, 10: 0.4444444444444444, 11: 0.5074626865671642, 12: 0.5316455696202531, 13: 0.5, 14: 0.2875, 15: 0.4574468085106383, 16: 0.4473684210526316, 17: 0.53125, 18: 0.5, 19: 0.5108695652173914, 20: 0.42857142857142855, 21: 0.3333333333333333, 22: 0.3977272727272727, 23: 0.425531914893617, 24: 0.4444444444444444, 25: 0.4925373134328358, 26: 0.45454545454545453, 27: 0.463768115942029, 28: 0.3684210526315789, 29: 0.4716981132075472, 30: 0.4857142857142857, 31: 0.358974358974359, 32: 0.3870967741935484, 33: 0.4358974358974359, 34: 0.4166666666666667, 35: 0.15789473684210525, 36: 0.3333333333333333, 37: 0.3333333333333333, 38: 0.35, 39: 0.18181818181818182, 40: 0.3, 41: 0.42857142857142855, 42: 0.5, 43: 0.5, 44: 0.3333333333333333, 45: 0.25, 46: 0.6666666666666666, 47: 0.0, 48: 0.5, 49: 0.0, 50: 0.0, 51: 0.0, 52: 0.0, 53: 0.0, 54: 0.0, 55: 0.0, 56: 0.0}\n",
        "lstm_accuraccies_length=average_length(length_accuracies_lstm,isprint=0)\n"
      ],
      "execution_count": 0,
      "outputs": []
    },
    {
      "metadata": {
        "id": "gXpUsXiA8Z8_",
        "colab_type": "code",
        "colab": {}
      },
      "cell_type": "code",
      "source": [
        "def average_length(length_accuracies, isCompartment=False, isprint=False):\n",
        "  average_length={i:0 for i in range(57)}\n",
        "  \n",
        "  for length_accuracy in length_accuracies:\n",
        "    if isprint:\n",
        "      print(str(length_accuracy[0]))\n",
        "    else:\n",
        "      for j in length_accuracy.items():\n",
        "        average_length[j[0]]+=j[1]/3\n",
        "  return average_length\n",
        "  "
      ],
      "execution_count": 0,
      "outputs": []
    },
    {
      "metadata": {
        "id": "z8BvWXQcvbzn",
        "colab_type": "code",
        "colab": {}
      },
      "cell_type": "code",
      "source": [
        "name=\"TreeLSTM\"\n",
        "accuracy_tree_lstm,results_sign_tree_lstm,losses_plot_tree_lstm,accuracies_plot_tree_lstm,length_accuracies_tree_lstm=[[],[],[]],[[],[],[]],[[],[],[]],[[],[],[]],[[],[],[]]\n",
        "for i in range(3):\n",
        "  for res,res_type in zip([accuracy_tree_lstm,results_sign_tree_lstm,losses_plot_tree_lstm,accuracies_plot_tree_lstm,length_accuracies_tree_lstm],[\"accuracy\",\"result\",\"losses_plot\",\"accuracies_plot\",\"accuracies_length\"]):\n",
        "    res[i].append(np.load('/gdrive/My Drive/results_nlp/{} {} {}.npy'.format(name,res_type,i)))"
      ],
      "execution_count": 0,
      "outputs": []
    },
    {
      "metadata": {
        "id": "nqeNuII10wem",
        "colab_type": "code",
        "colab": {}
      },
      "cell_type": "code",
      "source": [
        "length_accuracies_tree_lstm[0]={0: 0.0, 1: 0.0, 2: 0.2857142857142857, 3: 0.35714285714285715, 4: 0.47619047619047616, 5: 0.4411764705882353, 6: 0.5862068965517241, 7: 0.39705882352941174, 8: 0.43434343434343436, 9: 0.7205882352941176, 10: 0.4305555555555556, 11: 0.5223880597014925, 12: 0.4810126582278481, 13: 0.45348837209302323, 14: 0.3875, 15: 0.48936170212765956, 16: 0.5, 17: 0.5625, 18: 0.5192307692307693, 19: 0.5543478260869565, 20: 0.34523809523809523, 21: 0.37333333333333335, 22: 0.4659090909090909, 23: 0.425531914893617, 24: 0.43209876543209874, 25: 0.43283582089552236, 26: 0.4696969696969697, 27: 0.5217391304347826, 28: 0.3333333333333333, 29: 0.4339622641509434, 30: 0.42857142857142855, 31: 0.4358974358974359, 32: 0.3548387096774194, 33: 0.5384615384615384, 34: 0.5416666666666666, 35: 0.47368421052631576, 36: 0.42857142857142855, 37: 0.2777777777777778, 38: 0.45, 39: 0.2727272727272727, 40: 0.6, 41: 0.42857142857142855, 42: 0.3333333333333333, 43: 0.5, 44: 0.16666666666666666, 45: 0.25, 46: 0.6666666666666666, 47: 0.0, 48: 0.25, 49: 0.0, 50: 0.0, 51: 0.0, 52: 0.0, 53: 0.0, 54: 0.0, 55: 0.0, 56: 0.0}\n",
        "length_accuracies_tree_lstm[1]={0: 0.0, 1: 0.0, 2: 0.14285714285714285, 3: 0.35714285714285715, 4: 0.42857142857142855, 5: 0.5, 6: 0.5689655172413793, 7: 0.47058823529411764, 8: 0.41414141414141414, 9: 0.6176470588235294, 10: 0.3888888888888889, 11: 0.5373134328358209, 12: 0.43037974683544306, 13: 0.46511627906976744, 14: 0.375, 15: 0.48936170212765956, 16: 0.5131578947368421, 17: 0.5416666666666666, 18: 0.5096153846153846, 19: 0.5217391304347826, 20: 0.38095238095238093, 21: 0.3466666666666667, 22: 0.45454545454545453, 23: 0.4148936170212766, 24: 0.38271604938271603, 25: 0.47761194029850745, 26: 0.48484848484848486, 27: 0.463768115942029, 28: 0.3508771929824561, 29: 0.33962264150943394, 30: 0.5142857142857142, 31: 0.46153846153846156, 32: 0.45161290322580644, 33: 0.48717948717948717, 34: 0.625, 35: 0.42105263157894735, 36: 0.47619047619047616, 37: 0.3333333333333333, 38: 0.5, 39: 0.45454545454545453, 40: 0.6, 41: 0.5714285714285714, 42: 0.16666666666666666, 43: 0.5, 44: 0.16666666666666666, 45: 0.25, 46: 0.3333333333333333, 47: 0.0, 48: 0.5, 49: 0.0, 50: 0.0, 51: 0.0, 52: 0.0, 53: 0.0, 54: 0.0, 55: 0.0, 56: 0.0}\n",
        "length_accuracies_tree_lstm[2]={0: 0.0, 1: 0.0, 2: 0.2857142857142857, 3: 0.35714285714285715, 4: 0.38095238095238093, 5: 0.5, 6: 0.5689655172413793, 7: 0.4852941176470588, 8: 0.494949494949495, 9: 0.6470588235294118, 10: 0.4166666666666667, 11: 0.4925373134328358, 12: 0.45569620253164556, 13: 0.4186046511627907, 14: 0.375, 15: 0.5106382978723404, 16: 0.5131578947368421, 17: 0.53125, 18: 0.5096153846153846, 19: 0.532608695652174, 20: 0.34523809523809523, 21: 0.4, 22: 0.4659090909090909, 23: 0.4148936170212766, 24: 0.41975308641975306, 25: 0.4626865671641791, 26: 0.48484848484848486, 27: 0.4492753623188406, 28: 0.3684210526315789, 29: 0.4716981132075472, 30: 0.4, 31: 0.3076923076923077, 32: 0.3548387096774194, 33: 0.4358974358974359, 34: 0.6666666666666666, 35: 0.42105263157894735, 36: 0.5238095238095238, 37: 0.3333333333333333, 38: 0.5, 39: 0.2727272727272727, 40: 0.7, 41: 0.5714285714285714, 42: 0.3333333333333333, 43: 0.5, 44: 0.16666666666666666, 45: 0.5, 46: 0.3333333333333333, 47: 0.0, 48: 0.25, 49: 0.0, 50: 0.0, 51: 0.0, 52: 0.0, 53: 0.0, 54: 0.0, 55: 0.0, 56: 0.0}\n",
        "tree_lstm_accuraccies_length=average_length(length_accuracies_tree_lstm,isprint=0)\n"
      ],
      "execution_count": 0,
      "outputs": []
    },
    {
      "metadata": {
        "id": "9-GaeP6FL2hV",
        "colab_type": "code",
        "colab": {}
      },
      "cell_type": "code",
      "source": [
        "name=\"TreeLSTM\"#all\n",
        "accuracy_tree_lstm_all,results_sign_tree_lstm_all,losses_plot_tree_lstm_all,accuracies_plot_tree_lstm_all,length_accuracies_tree_lstm_all=[[],[],[]],[[],[],[]],[[],[],[]],[[],[],[]],[[],[],[]]\n",
        "for i in range(3):\n",
        "  for res,res_type in zip([accuracy_tree_lstm_all,results_sign_tree_lstm_all,losses_plot_tree_lstm_all,accuracies_plot_tree_lstm_all,length_accuracies_tree_lstm_all],[\"accuracy\",\"result\",\"losses_plot\",\"accuracies_plot\",\"accuracies_length\"]):\n",
        "    res[i].append(np.load('/gdrive/My Drive/results_nlp/{}_all {} {}.npy'.format(name,res_type,i)))"
      ],
      "execution_count": 0,
      "outputs": []
    },
    {
      "metadata": {
        "id": "jF0LBCuz1BPe",
        "colab_type": "code",
        "colab": {}
      },
      "cell_type": "code",
      "source": [
        "length_accuracies_tree_lstm_all[0]={0: 0.0, 1: 0.0, 2: 0.2857142857142857, 3: 0.47058823529411764, 4: 0.5344827586206896, 5: 0.5131578947368421, 6: 0.4358974358974359, 7: 0.4358974358974359, 8: 0.3333333333333333, 9: 0.3333333333333333, 10: 0.4358974358974359, 11: 0.5641025641025641, 12: 0.3870967741935484, 13: 0.16666666666666666, 14: 0.4339622641509434, 15: 0.3333333333333333, 16: 0.36363636363636365, 17: 0.0, 18: 0.0, 19: 0.0, 20: 0.4339622641509434, 21: 0.4927536231884058, 22: 0.5714285714285714, 23: 0.5, 24: 0.4, 25: 0.45714285714285713, 26: 0.5, 27: 0.5, 28: 0.5, 29: 0.40425531914893614, 30: 0.5131578947368421, 31: 0.5833333333333334, 32: 0.4050632911392405, 33: 0.4659090909090909, 34: 0.4050632911392405, 35: 0.46464646464646464, 36: 0.5116279069767442, 37: 0.5344827586206896, 38: 0.4305555555555556, 39: 0.2857142857142857, 40: 0.2857142857142857, 41: 0.2857142857142857, 42: 0.2857142857142857, 43: 0.2857142857142857, 44: 0.0, 45: 0.0, 46: 0.0, 47: 0.0, 48: 0.2857142857142857, 49: 0.0, 50: 0.0, 51: 0.0, 52: 0.0, 53: 0.0, 54: 0.0, 55: 0.0, 56: 0.0}\n",
        "length_accuracies_tree_lstm_all[1]={0: 0.0, 1: 0.0, 2: 0.2857142857142857, 3: 0.4411764705882353, 4: 0.4411764705882353, 5: 0.5263157894736842, 6: 0.5833333333333334, 7: 0.5428571428571428, 8: 0.0, 9: 0.0, 10: 0.5428571428571428, 11: 0.5833333333333334, 12: 0.18181818181818182, 13: 0.7, 14: 0.5428571428571428, 15: 0.16666666666666666, 16: 0.7, 17: 0.0, 18: 0.0, 19: 0.5, 20: 0.5428571428571428, 21: 0.5072463768115942, 22: 0.5, 23: 0.0, 24: 0.3584905660377358, 25: 0.3584905660377358, 26: 0.46153846153846156, 27: 0.47368421052631576, 28: 0.43283582089552236, 29: 0.5217391304347826, 30: 0.5217391304347826, 31: 0.46511627906976744, 32: 0.5074626865671642, 33: 0.5192307692307693, 34: 0.375, 35: 0.6617647058823529, 36: 0.4166666666666667, 37: 0.5862068965517241, 38: 0.5074626865671642, 39: 0.2857142857142857, 40: 0.4411764705882353, 41: 0.3333333333333333, 42: 0.5, 43: 0.3333333333333333, 44: 0.0, 45: 0.0, 46: 0.0, 47: 0.0, 48: 0.2857142857142857, 49: 0.0, 50: 0.0, 51: 0.0, 52: 0.0, 53: 0.0, 54: 0.0, 55: 0.0, 56: 0.0}\n",
        "length_accuracies_tree_lstm_all[2]={0: 0.0, 1: 0.0, 2: 0.2857142857142857, 3: 0.5517241379310345, 4: 0.5050505050505051, 5: 0.5, 6: 0.41935483870967744, 7: 0.358974358974359, 8: 0.0, 9: 0.0, 10: 0.49056603773584906, 11: 0.5833333333333334, 12: 0.6666666666666666, 13: 0.3888888888888889, 14: 0.49056603773584906, 15: 0.3333333333333333, 16: 0.55, 17: 0.5, 18: 0.0, 19: 0.0, 20: 0.49056603773584906, 21: 0.40350877192982454, 22: 0.55, 23: 0.36363636363636365, 24: 0.358974358974359, 25: 0.34285714285714286, 26: 0.41935483870967744, 27: 0.391304347826087, 28: 0.4148936170212766, 29: 0.48484848484848486, 30: 0.5316455696202531, 31: 0.3625, 32: 0.43023255813953487, 33: 0.5108695652173914, 34: 0.3625, 35: 0.47058823529411764, 36: 0.5074626865671642, 37: 0.45588235294117646, 38: 0.5074626865671642, 39: 0.38095238095238093, 40: 0.45588235294117646, 41: 0.38095238095238093, 42: 0.38095238095238093, 43: 0.38095238095238093, 44: 0.0, 45: 0.0, 46: 0.0, 47: 0.0, 48: 0.2857142857142857, 49: 0.0, 50: 0.0, 51: 0.0, 52: 0.0, 53: 0.0, 54: 0.0, 55: 0.0, 56: 0.0}\n",
        "all_tree_lstm_accuraccies_length=average_length(length_accuracies_tree_lstm_all,isprint=0)\n"
      ],
      "execution_count": 0,
      "outputs": []
    },
    {
      "metadata": {
        "id": "6V-Z6Q2ks-mu",
        "colab_type": "code",
        "outputId": "0c053a3d-040f-4c3a-814e-1348a1c42901",
        "colab": {
          "base_uri": "https://localhost:8080/",
          "height": 646
        }
      },
      "cell_type": "code",
      "source": [
        "%pylab inline\n",
        "plt.rcParams[\"figure.figsize\"] = [20,10]\n",
        "all_lengths={\"BOW\":bow_accuraccies_length,\"CBOW\":cbow_accuraccies_length,\n",
        "             \"DeepCBOW\":dcbow_accuraccies_length,\"PTDeepCBOW\":pt_accuraccies_length,\n",
        "             \"LSTM\":lstm_accuraccies_length,\"TreeLSTM\":tree_lstm_accuraccies_length,\n",
        "            \"AllTreeLSTM\":all_tree_lstm_accuraccies_length}\n",
        "for name, accuracies in all_lengths.items(): \n",
        "  \n",
        "  plt.plot(bin_length(accuracies).keys(),bin_length(accuracies).values(),label=name)\n",
        "plt.legend()\n",
        "plt.xlabel('Sentence Length')\n",
        "plt.ylabel('Accuracy')\n",
        "plt.show()"
      ],
      "execution_count": 0,
      "outputs": [
        {
          "output_type": "stream",
          "text": [
            "Populating the interactive namespace from numpy and matplotlib\n"
          ],
          "name": "stdout"
        },
        {
          "output_type": "display_data",
          "data": {
            "image/png": "[encoded data removed]",
            "text/plain": [
              "<matplotlib.figure.Figure at 0x7f15c09d6a90>"
            ]
          },
          "metadata": {
            "tags": []
          }
        }
      ]
    },
    {
      "metadata": {
        "id": "fQryhPhR-pUQ",
        "colab_type": "code",
        "outputId": "195e856b-2772-4771-cb34-7d89f50ae9d1",
        "colab": {
          "base_uri": "https://localhost:8080/",
          "height": 475
        }
      },
      "cell_type": "code",
      "source": [
        "%pylab inline\n",
        "plt.rcParams[\"figure.figsize\"] = [14,7]\n",
        "all_lengths={\"BOW\":bow_accuraccies_length,\"CBOW\":cbow_accuraccies_length,\n",
        "             \"DeepCBOW\":dcbow_accuraccies_length,\"PTDeepCBOW\":pt_accuraccies_length,\n",
        "             \"LSTM\":lstm_accuraccies_length,\"TreeLSTM\":tree_lstm_accuraccies_length,\n",
        "            \"AllTreeLSTM\":all_tree_lstm_accuraccies_length}\n",
        "for name, accuracies in all_lengths.items(): \n",
        "  \n",
        "  plt.plot(bin_length(accuracies).keys(),bin_length(accuracies).values(),label=name)\n",
        "plt.legend()\n",
        "plt.xlabel('Sentence Length, bins of 5')\n",
        "plt.ylabel('Accuracy')\n",
        "plt.title(\"Accuracies by sentence length\")\n",
        "plt.show()\n"
      ],
      "execution_count": 0,
      "outputs": [
        {
          "output_type": "stream",
          "text": [
            "Populating the interactive namespace from numpy and matplotlib\n"
          ],
          "name": "stdout"
        },
        {
          "output_type": "display_data",
          "data": {
            "image/png": "[encoded data removed]",
            "text/plain": [
              "<matplotlib.figure.Figure at 0x7f15c07796d8>"
            ]
          },
          "metadata": {
            "tags": []
          }
        }
      ]
    },
    {
      "metadata": {
        "id": "WEDPoHZn7cGk",
        "colab_type": "code",
        "outputId": "d3902766-efb3-4b04-ed66-f59edf325ad6",
        "colab": {
          "base_uri": "https://localhost:8080/",
          "height": 187
        }
      },
      "cell_type": "code",
      "source": [
        "def bin_length(accuracies):\n",
        "  bin_dic={key:0 for key in accuracies.keys() if key%5==0}\n",
        "  counter=0\n",
        "  for i,number in enumerate(accuracies.items()):\n",
        "    counter+=number[1]\n",
        "    if i%5==0:\n",
        "      bin_dic[i-5]=counter/5\n",
        "      counter=0\n",
        "  del bin_dic[-5]\n",
        "  del bin_dic[55]\n",
        "  del bin_dic[50]\n",
        "  return bin_dic\n",
        "bin_length(all_tree_lstm_accuraccies_length)"
      ],
      "execution_count": 0,
      "outputs": [
        {
          "output_type": "execute_result",
          "data": {
            "text/plain": [
              "{0: 0.35605434129508007,\n",
              " 5: 0.32748678858843194,\n",
              " 10: 0.43484167913869676,\n",
              " 15: 0.27206812055868657,\n",
              " 20: 0.4109686132029727,\n",
              " 25: 0.4713997883827615,\n",
              " 30: 0.4659520180378978,\n",
              " 35: 0.43953095057591324,\n",
              " 40: 0.21111111111111108,\n",
              " 45: 0.05714285714285714}"
            ]
          },
          "metadata": {
            "tags": []
          },
          "execution_count": 204
        }
      ]
    },
    {
      "metadata": {
        "id": "OpXmyBjRIrZF",
        "colab_type": "code",
        "colab": {}
      },
      "cell_type": "code",
      "source": [
        "import scipy.stats as stats"
      ],
      "execution_count": 0,
      "outputs": []
    },
    {
      "metadata": {
        "id": "HSuJ3HqqHcje",
        "colab_type": "code",
        "outputId": "5babc7df-d4fb-4f70-a086-02d6a787bfe6",
        "colab": {
          "base_uri": "https://localhost:8080/",
          "height": 85
        }
      },
      "cell_type": "code",
      "source": [
        "print(\"The mean accuracy of LSTMs are \",np.array(accuracy_lstm).mean(), \"with standard deviation of \", np.array(accuracy_lstm).std())\n",
        "print(\"whereas mean accuracy of PTDeepCBOW is \",np.array(accuracy_pt).mean(), \"with standard deviation of \", np.array(accuracy_pt).std())\n",
        "#p_value=sign_test(np.array(results_sign_lstm).flatten(), np.array(results_sign_pt).flatten())\n",
        "print(\"and the p_value is: \", p_value, \"according to the sign test\")\n",
        "p_value_t=stats.ttest_ind(np.array(accuracy_lstm,dtype=\"float64\"),np.array(accuracy_pt,dtype=\"float64\"))[1]\n",
        "print(\"But, according to the t_test is {0}\".format(p_value_t))"
      ],
      "execution_count": 0,
      "outputs": [
        {
          "output_type": "stream",
          "text": [
            "The mean accuracy of LSTMs are  0.463499245852187 with standard deviation of  0.00691516946385982\n",
            "whereas mean accuracy of PTDeepCBOW is  0.447209653092006 with standard deviation of  0.002375266327002072\n",
            "and the p_value is:  0.6145935957288911687055859112 according to the sign test\n",
            "But, according to the t_test is [0.03449134]\n"
          ],
          "name": "stdout"
        }
      ]
    },
    {
      "metadata": {
        "id": "BFe4x3xqLmod",
        "colab_type": "code",
        "outputId": "a9650d25-559d-40a4-c9a0-b710fee98c05",
        "colab": {
          "base_uri": "https://localhost:8080/",
          "height": 102
        }
      },
      "cell_type": "code",
      "source": [
        "print(\"The mean accuracy of LSTMs are \",np.array(accuracy_lstm).mean(), \"with standard deviation of \", np.array(accuracy_lstm).std())\n",
        "print(\"whereas mean accuracy of TreeLSTMs is \",np.array(accuracy_tree_lstm).mean(), \"with standard deviation of \", np.array(accuracy_tree_lstm).std())\n",
        "p_value=sign_test(np.array(results_sign_lstm).flatten(), np.array(results_sign_tree_lstm).flatten())\n",
        "print(\"and the p_value is: \", p_value, \"according to the sign test\")\n",
        "p_value_t=stats.ttest_ind(np.array(accuracy_lstm,dtype=\"float64\"),np.array(accuracy_tree_lstm,dtype=\"float64\"))[1]\n",
        "print(\"But, according to the t_test is {0}\".format(p_value_t))"
      ],
      "execution_count": 0,
      "outputs": [
        {
          "output_type": "stream",
          "text": [
            "The mean accuracy of LSTMs are  0.463499245852187 with standard deviation of  0.00691516946385982\n",
            "whereas mean accuracy of TreeLSTMs is  0.46983408748114625 with standard deviation of  0.002594969914643317\n",
            "the difference is not significant\n",
            "and the p_value is:  0.6145935957288911687055859112 according to the sign test\n",
            "But, according to the t_test is [0.2918837]\n"
          ],
          "name": "stdout"
        }
      ]
    },
    {
      "metadata": {
        "id": "Y330zTxWNMkI",
        "colab_type": "code",
        "outputId": "c6f9bea9-393d-48c2-bcb3-16ea7abdfac7",
        "colab": {
          "base_uri": "https://localhost:8080/",
          "height": 102
        }
      },
      "cell_type": "code",
      "source": [
        "print(\"The mean accuracy of LSTMs are \",np.array(accuracy_tree_lstm).mean(), \"with standard deviation of \", np.array(accuracy_tree_lstm).std())\n",
        "print(\"whereas mean accuracy of TreeLSTMs is \",np.array(accuracy_tree_lstm_all).mean(), \"with standard deviation of \", np.array(accuracy_tree_lstm_all).std())\n",
        "p_value=sign_test(np.array(accuracy_tree_lstm_all).flatten(), np.array(results_sign_tree_lstm).flatten())\n",
        "print(\"and the p_value is: \", p_value, \"according to the sign test\")\n",
        "p_value_t=stats.ttest_ind(np.array(accuracy_tree_lstm_all,dtype=\"float64\"),np.array(accuracy_tree_lstm,dtype=\"float64\"))[1]\n",
        "print(\"But, according to the t_test is {0}\".format(p_value_t))"
      ],
      "execution_count": 0,
      "outputs": [
        {
          "output_type": "stream",
          "text": [
            "The mean accuracy of LSTMs are  0.46983408748114625 with standard deviation of  0.002594969914643317\n",
            "whereas mean accuracy of TreeLSTMs is  0.471945701357466 with standard deviation of  0.004260768293160026\n",
            "the difference is not significant\n",
            "and the p_value is:  2 according to the sign test\n",
            "But, according to the t_test is [0.58169001]\n"
          ],
          "name": "stdout"
        }
      ]
    },
    {
      "metadata": {
        "id": "f7QZZH86eHqu",
        "colab_type": "text"
      },
      "cell_type": "markdown",
      "source": [
        "# Further experiments and report\n",
        "\n",
        "For your report, you are expected to answer research questions by doing further experiments.\n",
        "\n",
        "## Research Questions\n",
        "\n",
        "Make sure you cover at least the following:\n",
        "\n",
        "- How important is word order for this task?\n",
        "- Does the tree structure help to get a better accuracy?\n",
        "- How does performance depend on the sentence length? Compare the various models. Is there a model that does better on longer sentences? If so, why?\n",
        "- Do you get better performance if you supervise the sentiment **at each node in the tree**? You can extract more training examples by treating every node in each tree as a separate tree. You will need to write a function that extracts all subtrees given a treestring. \n",
        "    - Warning: NLTK's Tree function seems to result in invalid trees in some cases, so be careful if you want to parse the string to a tree structure before extraction the phrases.\n",
        "\n",
        "Optionally, you can also investigate the following:\n",
        "\n",
        "- When making a wrong prediction, can you figure out at what point in the tree (sentence) the model fails? You can make a prediction at each node to investigate.\n",
        "- How does N-ary Tree LSTM compare to the Child-Sum Tree LSTM? \n",
        "- How do the Tai et al. Tree LSTMs compare to Le & Zuidema's formulation?\n",
        "- Or.. your own research question!\n",
        "\n",
        "In general:\n",
        "\n",
        "- ***When you report numbers, please report the mean accuracy across 3 (or more) runs with different random seed, together with the standard deviation.*** This is because the final performance may vary per random seed.\n",
        "\n",
        "## Report instructions\n",
        "\n",
        "Your report needs to be written in LaTeX. You are required to use the ACL 2018 template [(zip)](https://acl2018.org/downloads/acl18-latex.zip) which you can edit directly on [Overleaf](https://www.overleaf.com/latex/templates/instructions-for-acl-2018-proceedings/xzmhqgnmkppc). Make sure your names and student numbers are visible at the top. (Tip: you need to uncomment `/aclfinalcopy`).\n",
        "You can find some general tips about writing a research paper [here](https://www.microsoft.com/en-us/research/academic-program/write-great-research-paper/), but note that you need to make your own judgment about what is appropriate for this project. \n",
        "\n",
        "We expect you to use the following structure:\n",
        "1. Introduction (~1 page) - describe the problem, your research questions and goals, a summary of your findings and contributions. Please cite related work (models, data set) as part of your introduction here, since this is a short paper.\n",
        "    - Introduce the task and the main goal\n",
        "    - Clear research questions\n",
        "    - Motivating the importance of the questions and explaining the expectations\n",
        "    - How are these addressed or not addressed in the literature\n",
        "    - What is your approach\n",
        "    - Short summary of your findings\n",
        "2. Background (~1/2-1 page) -\n",
        "cover the main techniques (\"building blocks\") used in your project (e.g. word embeddings, LSTM, Tree LSTM) and intuitions behind them. Be accurate and concise.\n",
        "    - How each technique that you use works (don't just copy the formulas)\n",
        "    - The relation between the techniques\n",
        "3. Models (~1/2 page) - Cover the models that you used.\n",
        "    - The architecture of the final models (how do you use LSTM or Tree LSTM for the sentiment classification task. what layers you have, how do you do classification? What is your loss function?)\n",
        "4. Experiments (~1/2 page) - Describe your experimental setup. The information here should allow someone else to re-create your experiments. Describe how you evaluate the models.\n",
        "    - Explain the task and the data\n",
        "    - Training the models (model, data, parameters and hyper parameters if the models, training algorithms, what supervision signals you use, etc.)\n",
        "    - Evaluation (e.g. metrics)\n",
        "5. Results and Analysis (~1 page). Go over the results and analyse your findings.\n",
        "    - Answer each of the research questions you raised in the introduction.\n",
        "    - Plots and figures highlighting interesting patterns\n",
        "    - What are the factors that makes model A  better than model B in task C? investigate to prove their effect!\n",
        "6. Conclusion (~1/4 page). The main conclusions of your experiments.\n",
        "    - What you learned from you experiments? how does it relate to what is already known in the literature?\n",
        "    - Where the results as expected ? any surprising results? why?\n",
        "    - Based on what you learned what would you suggest to do next?\n",
        "\n",
        "\n",
        "General Tips:\n",
        "\n",
        "- Math notation – define each variable (either in running text, or in a pseudo-legenda after or before the equation)\n",
        "- Define technical terminology you need\n",
        "- Avoid colloquial language – everything can be said in a scientific-sounding way\n",
        "- Avoid lengthy sentences, stay to the point!\n",
        "- Do not spend space on \"obvious\" things!\n",
        "\n",
        "\n",
        "An ideal report:\n",
        "- Precise, scientific-sounding, technical, to the point \n",
        "  - Little general “waffle”/chit-chat\n",
        "- Not boring – because you don’t explain obvious things too much\n",
        "- Efficient delivery of (only) the facts that we need to know to understand/reimplement\n",
        "- Results visually well-presented and described with the correct priority of importance of sub-results\n",
        "- Insightful analysis – speculation should connect to something interesting and not be too much; the reader “learns something new”\n",
        "- No typos, no colloquialisms – well-considered language\n",
        "- This normally means several re-draftings (re-orderings of information)"
      ]
    },
    {
      "metadata": {
        "id": "uCINIXV1q1oe",
        "colab_type": "code",
        "colab": {}
      },
      "cell_type": "code",
      "source": [
        ""
      ],
      "execution_count": 0,
      "outputs": []
    }
  ]
}